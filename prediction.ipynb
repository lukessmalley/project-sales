{
 "cells": [
  {
   "cell_type": "markdown",
   "metadata": {},
   "source": [
    "# Predicting LTV"
   ]
  },
  {
   "cell_type": "markdown",
   "metadata": {},
   "source": [
    "## Import Libraries"
   ]
  },
  {
   "cell_type": "code",
   "execution_count": 30,
   "metadata": {},
   "outputs": [],
   "source": [
    "import warnings\n",
    "warnings.filterwarnings(\"ignore\")\n",
    "\n",
    "import pandas as pd\n",
    "import matplotlib.pyplot as plt\n",
    "\n",
    "from sklearn.metrics import classification_report,confusion_matrix\n",
    "from sklearn.model_selection import KFold, cross_val_score, train_test_split\n",
    "from sklearn.metrics import confusion_matrix \n",
    "from sklearn.metrics import accuracy_score \n",
    "from sklearn.metrics import classification_report \n",
    "from sklearn.cluster import KMeans"
   ]
  },
  {
   "cell_type": "markdown",
   "metadata": {},
   "source": [
    "## Create 2003 Training Data"
   ]
  },
  {
   "cell_type": "markdown",
   "metadata": {},
   "source": [
    "Create dataframe for 2003."
   ]
  },
  {
   "cell_type": "code",
   "execution_count": 2,
   "metadata": {},
   "outputs": [],
   "source": [
    "data = pd.read_csv('sales_data_sample.csv',encoding='cp1252')"
   ]
  },
  {
   "cell_type": "code",
   "execution_count": 3,
   "metadata": {},
   "outputs": [],
   "source": [
    "data['ORDERDATE'] = pd.to_datetime(data['ORDERDATE'])"
   ]
  },
  {
   "cell_type": "code",
   "execution_count": 4,
   "metadata": {},
   "outputs": [],
   "source": [
    "data = data.loc[(data['ORDERDATE'] > '01-01-2003') & (data['ORDERDATE'] <= '31-12-2003')]"
   ]
  },
  {
   "cell_type": "code",
   "execution_count": 5,
   "metadata": {},
   "outputs": [],
   "source": [
    "data = data.drop(['ORDERNUMBER','QUANTITYORDERED','PRICEEACH','ORDERLINENUMBER','STATUS','QTR_ID',\n",
    "                  'MSRP','PHONE','ADDRESSLINE1','ADDRESSLINE2','CITY','STATE','POSTALCODE',\n",
    "                  'TERRITORY','CONTACTLASTNAME','CONTACTFIRSTNAME','MONTH_ID','YEAR_ID'],\n",
    "                  axis=1)\n",
    "last_purchase =((data.sort_values(by=['ORDERDATE'], \n",
    "                                 ascending=True)).set_index('ORDERDATE')).groupby('CUSTOMERNAME').idxmax()\n",
    "last_purchase.columns = ['last_purchase_date']\n",
    "last_purchase['last_purchase(days)'] = ((last_purchase['last_purchase_date'].max() \n",
    "                                   - last_purchase['last_purchase_date']).dt.days)\n",
    "tot_orders = data.groupby(['CUSTOMERNAME']).count().sort_values(by=['SALES'], \n",
    "                                                                ascending=False).drop(['PRODUCTLINE',\n",
    "                                                                                       'PRODUCTCODE',\n",
    "                                                                                       'COUNTRY',\n",
    "                                                                                       'DEALSIZE',\n",
    "                                                                                       'ORDERDATE'],\n",
    "                                                                                        axis=1)\n",
    "tot_orders.columns = ['tot_orders']\n",
    "tot_sales = data.groupby(['CUSTOMERNAME']).sum().sort_values(by=['SALES'],ascending=False)\n",
    "tot_sales.columns = ['tot_sales']\n",
    "ltv = (last_purchase.reset_index()[['CUSTOMERNAME',\n",
    "                                    'last_purchase(days)']].merge(((tot_orders.reset_index()[['CUSTOMERNAME',\n",
    "                                                                                        'tot_orders']])), \n",
    "                                                              how='inner', \n",
    "                                                              on='CUSTOMERNAME').merge(((tot_sales.reset_index()[['CUSTOMERNAME',\n",
    "                                                                                                                  'tot_sales']])),\n",
    "                                                                                         how='inner', \n",
    "                                                                                         on='CUSTOMERNAME')\n",
    "      )\n",
    "ltv=ltv[ltv.CUSTOMERNAME !='Euro Shopping Channel']\n",
    "ltv=ltv[ltv.CUSTOMERNAME !='Mini Gifts Distributors Ltd.']"
   ]
  },
  {
   "cell_type": "code",
   "execution_count": 6,
   "metadata": {},
   "outputs": [],
   "source": [
    "def order_cluster(cluster_field_name, target_field_name,df,ascending):\n",
    "    new_cluster_field_name = 'new_' + cluster_field_name\n",
    "    df_new = df.groupby(cluster_field_name)[target_field_name].mean().reset_index()\n",
    "    df_new = df_new.sort_values(by=target_field_name,ascending=ascending).reset_index(drop=True)\n",
    "    df_new['index'] = df_new.index\n",
    "    df_final = pd.merge(df,df_new[[cluster_field_name,'index']], on=cluster_field_name)\n",
    "    df_final = df_final.drop([cluster_field_name],axis=1)\n",
    "    df_final = df_final.rename(columns={\"index\":cluster_field_name})\n",
    "    return df_final"
   ]
  },
  {
   "cell_type": "code",
   "execution_count": 7,
   "metadata": {},
   "outputs": [],
   "source": [
    "def apply_kmeans(lst):\n",
    "    global temp_table\n",
    "    for i in lst:\n",
    "        kmeans.fit(temp_table[[str(i)]])\n",
    "        temp_table[str(i) +'_cluster'] = kmeans.predict(temp_table[[str(i)]])\n",
    "        temp_table = order_cluster(str(i) +'_cluster', str(i),temp_table,False)\n",
    "        display(temp_table.groupby(str(i) +'_cluster')[str(i)].describe())"
   ]
  },
  {
   "cell_type": "code",
   "execution_count": 8,
   "metadata": {},
   "outputs": [
    {
     "data": {
      "text/html": [
       "<div>\n",
       "<style scoped>\n",
       "    .dataframe tbody tr th:only-of-type {\n",
       "        vertical-align: middle;\n",
       "    }\n",
       "\n",
       "    .dataframe tbody tr th {\n",
       "        vertical-align: top;\n",
       "    }\n",
       "\n",
       "    .dataframe thead th {\n",
       "        text-align: right;\n",
       "    }\n",
       "</style>\n",
       "<table border=\"1\" class=\"dataframe\">\n",
       "  <thead>\n",
       "    <tr style=\"text-align: right;\">\n",
       "      <th></th>\n",
       "      <th>count</th>\n",
       "      <th>mean</th>\n",
       "      <th>std</th>\n",
       "      <th>min</th>\n",
       "      <th>25%</th>\n",
       "      <th>50%</th>\n",
       "      <th>75%</th>\n",
       "      <th>max</th>\n",
       "    </tr>\n",
       "    <tr>\n",
       "      <th>last_purchase(days)_cluster</th>\n",
       "      <th></th>\n",
       "      <th></th>\n",
       "      <th></th>\n",
       "      <th></th>\n",
       "      <th></th>\n",
       "      <th></th>\n",
       "      <th></th>\n",
       "      <th></th>\n",
       "    </tr>\n",
       "  </thead>\n",
       "  <tbody>\n",
       "    <tr>\n",
       "      <th>0</th>\n",
       "      <td>11.0</td>\n",
       "      <td>279.454545</td>\n",
       "      <td>29.176578</td>\n",
       "      <td>242.0</td>\n",
       "      <td>256.0</td>\n",
       "      <td>274.0</td>\n",
       "      <td>298.0</td>\n",
       "      <td>333.0</td>\n",
       "    </tr>\n",
       "    <tr>\n",
       "      <th>1</th>\n",
       "      <td>15.0</td>\n",
       "      <td>183.866667</td>\n",
       "      <td>31.461693</td>\n",
       "      <td>130.0</td>\n",
       "      <td>159.5</td>\n",
       "      <td>189.0</td>\n",
       "      <td>209.0</td>\n",
       "      <td>225.0</td>\n",
       "    </tr>\n",
       "    <tr>\n",
       "      <th>2</th>\n",
       "      <td>41.0</td>\n",
       "      <td>42.365854</td>\n",
       "      <td>29.240175</td>\n",
       "      <td>0.0</td>\n",
       "      <td>19.0</td>\n",
       "      <td>33.0</td>\n",
       "      <td>64.0</td>\n",
       "      <td>106.0</td>\n",
       "    </tr>\n",
       "  </tbody>\n",
       "</table>\n",
       "</div>"
      ],
      "text/plain": [
       "                             count        mean        std    min    25%  \\\n",
       "last_purchase(days)_cluster                                               \n",
       "0                             11.0  279.454545  29.176578  242.0  256.0   \n",
       "1                             15.0  183.866667  31.461693  130.0  159.5   \n",
       "2                             41.0   42.365854  29.240175    0.0   19.0   \n",
       "\n",
       "                               50%    75%    max  \n",
       "last_purchase(days)_cluster                       \n",
       "0                            274.0  298.0  333.0  \n",
       "1                            189.0  209.0  225.0  \n",
       "2                             33.0   64.0  106.0  "
      ]
     },
     "metadata": {},
     "output_type": "display_data"
    },
    {
     "data": {
      "text/html": [
       "<div>\n",
       "<style scoped>\n",
       "    .dataframe tbody tr th:only-of-type {\n",
       "        vertical-align: middle;\n",
       "    }\n",
       "\n",
       "    .dataframe tbody tr th {\n",
       "        vertical-align: top;\n",
       "    }\n",
       "\n",
       "    .dataframe thead th {\n",
       "        text-align: right;\n",
       "    }\n",
       "</style>\n",
       "<table border=\"1\" class=\"dataframe\">\n",
       "  <thead>\n",
       "    <tr style=\"text-align: right;\">\n",
       "      <th></th>\n",
       "      <th>count</th>\n",
       "      <th>mean</th>\n",
       "      <th>std</th>\n",
       "      <th>min</th>\n",
       "      <th>25%</th>\n",
       "      <th>50%</th>\n",
       "      <th>75%</th>\n",
       "      <th>max</th>\n",
       "    </tr>\n",
       "    <tr>\n",
       "      <th>tot_orders_cluster</th>\n",
       "      <th></th>\n",
       "      <th></th>\n",
       "      <th></th>\n",
       "      <th></th>\n",
       "      <th></th>\n",
       "      <th></th>\n",
       "      <th></th>\n",
       "      <th></th>\n",
       "    </tr>\n",
       "  </thead>\n",
       "  <tbody>\n",
       "    <tr>\n",
       "      <th>0</th>\n",
       "      <td>8.0</td>\n",
       "      <td>31.000000</td>\n",
       "      <td>5.014265</td>\n",
       "      <td>25.0</td>\n",
       "      <td>27.75</td>\n",
       "      <td>30.5</td>\n",
       "      <td>32.5</td>\n",
       "      <td>41.0</td>\n",
       "    </tr>\n",
       "    <tr>\n",
       "      <th>1</th>\n",
       "      <td>25.0</td>\n",
       "      <td>15.400000</td>\n",
       "      <td>2.768875</td>\n",
       "      <td>12.0</td>\n",
       "      <td>13.00</td>\n",
       "      <td>15.0</td>\n",
       "      <td>17.0</td>\n",
       "      <td>22.0</td>\n",
       "    </tr>\n",
       "    <tr>\n",
       "      <th>2</th>\n",
       "      <td>34.0</td>\n",
       "      <td>7.441176</td>\n",
       "      <td>3.267760</td>\n",
       "      <td>2.0</td>\n",
       "      <td>4.50</td>\n",
       "      <td>8.5</td>\n",
       "      <td>10.0</td>\n",
       "      <td>11.0</td>\n",
       "    </tr>\n",
       "  </tbody>\n",
       "</table>\n",
       "</div>"
      ],
      "text/plain": [
       "                    count       mean       std   min    25%   50%   75%   max\n",
       "tot_orders_cluster                                                           \n",
       "0                     8.0  31.000000  5.014265  25.0  27.75  30.5  32.5  41.0\n",
       "1                    25.0  15.400000  2.768875  12.0  13.00  15.0  17.0  22.0\n",
       "2                    34.0   7.441176  3.267760   2.0   4.50   8.5  10.0  11.0"
      ]
     },
     "metadata": {},
     "output_type": "display_data"
    },
    {
     "data": {
      "text/html": [
       "<div>\n",
       "<style scoped>\n",
       "    .dataframe tbody tr th:only-of-type {\n",
       "        vertical-align: middle;\n",
       "    }\n",
       "\n",
       "    .dataframe tbody tr th {\n",
       "        vertical-align: top;\n",
       "    }\n",
       "\n",
       "    .dataframe thead th {\n",
       "        text-align: right;\n",
       "    }\n",
       "</style>\n",
       "<table border=\"1\" class=\"dataframe\">\n",
       "  <thead>\n",
       "    <tr style=\"text-align: right;\">\n",
       "      <th></th>\n",
       "      <th>count</th>\n",
       "      <th>mean</th>\n",
       "      <th>std</th>\n",
       "      <th>min</th>\n",
       "      <th>25%</th>\n",
       "      <th>50%</th>\n",
       "      <th>75%</th>\n",
       "      <th>max</th>\n",
       "    </tr>\n",
       "    <tr>\n",
       "      <th>tot_sales_cluster</th>\n",
       "      <th></th>\n",
       "      <th></th>\n",
       "      <th></th>\n",
       "      <th></th>\n",
       "      <th></th>\n",
       "      <th></th>\n",
       "      <th></th>\n",
       "      <th></th>\n",
       "    </tr>\n",
       "  </thead>\n",
       "  <tbody>\n",
       "    <tr>\n",
       "      <th>0</th>\n",
       "      <td>11.0</td>\n",
       "      <td>100563.331818</td>\n",
       "      <td>26939.728426</td>\n",
       "      <td>75064.60</td>\n",
       "      <td>83535.345</td>\n",
       "      <td>95678.88</td>\n",
       "      <td>101133.5650</td>\n",
       "      <td>165686.20</td>\n",
       "    </tr>\n",
       "    <tr>\n",
       "      <th>1</th>\n",
       "      <td>38.0</td>\n",
       "      <td>44491.383684</td>\n",
       "      <td>9109.869749</td>\n",
       "      <td>31363.18</td>\n",
       "      <td>37963.265</td>\n",
       "      <td>42291.13</td>\n",
       "      <td>50778.9800</td>\n",
       "      <td>63730.78</td>\n",
       "    </tr>\n",
       "    <tr>\n",
       "      <th>2</th>\n",
       "      <td>18.0</td>\n",
       "      <td>18041.922778</td>\n",
       "      <td>9433.300571</td>\n",
       "      <td>3348.46</td>\n",
       "      <td>8613.170</td>\n",
       "      <td>20359.72</td>\n",
       "      <td>26626.8575</td>\n",
       "      <td>28397.26</td>\n",
       "    </tr>\n",
       "  </tbody>\n",
       "</table>\n",
       "</div>"
      ],
      "text/plain": [
       "                   count           mean           std       min        25%  \\\n",
       "tot_sales_cluster                                                            \n",
       "0                   11.0  100563.331818  26939.728426  75064.60  83535.345   \n",
       "1                   38.0   44491.383684   9109.869749  31363.18  37963.265   \n",
       "2                   18.0   18041.922778   9433.300571   3348.46   8613.170   \n",
       "\n",
       "                        50%          75%        max  \n",
       "tot_sales_cluster                                    \n",
       "0                  95678.88  101133.5650  165686.20  \n",
       "1                  42291.13   50778.9800   63730.78  \n",
       "2                  20359.72   26626.8575   28397.26  "
      ]
     },
     "metadata": {},
     "output_type": "display_data"
    }
   ],
   "source": [
    "kmeans = KMeans(n_clusters=3)\n",
    "temp_table = ltv\n",
    "apply_kmeans(['last_purchase(days)','tot_orders','tot_sales'])"
   ]
  },
  {
   "cell_type": "code",
   "execution_count": 9,
   "metadata": {},
   "outputs": [],
   "source": [
    "temp_table['tot_orders_cluster'] = temp_table['tot_orders_cluster'].replace({0:2, 2:0})\n",
    "temp_table['tot_sales_cluster'] = temp_table['tot_sales_cluster'].replace({0:2, 2:0})"
   ]
  },
  {
   "cell_type": "code",
   "execution_count": 10,
   "metadata": {},
   "outputs": [],
   "source": [
    "temp_table['ltv_2003'] = temp_table[\n",
    "    'last_purchase(days)_cluster'] + temp_table[\n",
    "    'tot_orders_cluster'] + temp_table[\n",
    "    'tot_sales_cluster']"
   ]
  },
  {
   "cell_type": "markdown",
   "metadata": {},
   "source": [
    "### Merge 2003 data with LTV labels."
   ]
  },
  {
   "cell_type": "code",
   "execution_count": 11,
   "metadata": {},
   "outputs": [],
   "source": [
    "final_data = pd.read_csv('final_data.csv',encoding='cp1252')"
   ]
  },
  {
   "cell_type": "code",
   "execution_count": 12,
   "metadata": {},
   "outputs": [
    {
     "data": {
      "text/html": [
       "<div>\n",
       "<style scoped>\n",
       "    .dataframe tbody tr th:only-of-type {\n",
       "        vertical-align: middle;\n",
       "    }\n",
       "\n",
       "    .dataframe tbody tr th {\n",
       "        vertical-align: top;\n",
       "    }\n",
       "\n",
       "    .dataframe thead th {\n",
       "        text-align: right;\n",
       "    }\n",
       "</style>\n",
       "<table border=\"1\" class=\"dataframe\">\n",
       "  <thead>\n",
       "    <tr style=\"text-align: right;\">\n",
       "      <th></th>\n",
       "      <th>CUSTOMERNAME</th>\n",
       "      <th>last_purchase(days)</th>\n",
       "      <th>tot_orders</th>\n",
       "      <th>tot_sales</th>\n",
       "      <th>last_purchase(days)_cluster</th>\n",
       "      <th>tot_orders_cluster</th>\n",
       "      <th>tot_sales_cluster</th>\n",
       "      <th>ltv_2003</th>\n",
       "    </tr>\n",
       "  </thead>\n",
       "  <tbody>\n",
       "    <tr>\n",
       "      <th>0</th>\n",
       "      <td>AV Stores, Co.</td>\n",
       "      <td>266</td>\n",
       "      <td>16</td>\n",
       "      <td>51017.92</td>\n",
       "      <td>0</td>\n",
       "      <td>1</td>\n",
       "      <td>1</td>\n",
       "      <td>2</td>\n",
       "    </tr>\n",
       "    <tr>\n",
       "      <th>1</th>\n",
       "      <td>Baane Mini Imports</td>\n",
       "      <td>314</td>\n",
       "      <td>17</td>\n",
       "      <td>56176.66</td>\n",
       "      <td>0</td>\n",
       "      <td>1</td>\n",
       "      <td>1</td>\n",
       "      <td>2</td>\n",
       "    </tr>\n",
       "    <tr>\n",
       "      <th>2</th>\n",
       "      <td>Danish Wholesale Imports</td>\n",
       "      <td>301</td>\n",
       "      <td>15</td>\n",
       "      <td>58871.11</td>\n",
       "      <td>0</td>\n",
       "      <td>1</td>\n",
       "      <td>1</td>\n",
       "      <td>2</td>\n",
       "    </tr>\n",
       "    <tr>\n",
       "      <th>3</th>\n",
       "      <td>Alpha Cognac</td>\n",
       "      <td>158</td>\n",
       "      <td>15</td>\n",
       "      <td>55349.32</td>\n",
       "      <td>1</td>\n",
       "      <td>1</td>\n",
       "      <td>1</td>\n",
       "      <td>3</td>\n",
       "    </tr>\n",
       "    <tr>\n",
       "      <th>4</th>\n",
       "      <td>Australian Collectors, Co.</td>\n",
       "      <td>224</td>\n",
       "      <td>17</td>\n",
       "      <td>60135.84</td>\n",
       "      <td>1</td>\n",
       "      <td>1</td>\n",
       "      <td>1</td>\n",
       "      <td>3</td>\n",
       "    </tr>\n",
       "  </tbody>\n",
       "</table>\n",
       "</div>"
      ],
      "text/plain": [
       "                 CUSTOMERNAME  last_purchase(days)  tot_orders  tot_sales  \\\n",
       "0              AV Stores, Co.                  266          16   51017.92   \n",
       "1          Baane Mini Imports                  314          17   56176.66   \n",
       "2    Danish Wholesale Imports                  301          15   58871.11   \n",
       "3                Alpha Cognac                  158          15   55349.32   \n",
       "4  Australian Collectors, Co.                  224          17   60135.84   \n",
       "\n",
       "   last_purchase(days)_cluster  tot_orders_cluster  tot_sales_cluster  \\\n",
       "0                            0                   1                  1   \n",
       "1                            0                   1                  1   \n",
       "2                            0                   1                  1   \n",
       "3                            1                   1                  1   \n",
       "4                            1                   1                  1   \n",
       "\n",
       "   ltv_2003  \n",
       "0         2  \n",
       "1         2  \n",
       "2         2  \n",
       "3         3  \n",
       "4         3  "
      ]
     },
     "execution_count": 12,
     "metadata": {},
     "output_type": "execute_result"
    }
   ],
   "source": [
    "temp_table.head()"
   ]
  },
  {
   "cell_type": "code",
   "execution_count": 13,
   "metadata": {},
   "outputs": [
    {
     "data": {
      "text/html": [
       "<div>\n",
       "<style scoped>\n",
       "    .dataframe tbody tr th:only-of-type {\n",
       "        vertical-align: middle;\n",
       "    }\n",
       "\n",
       "    .dataframe tbody tr th {\n",
       "        vertical-align: top;\n",
       "    }\n",
       "\n",
       "    .dataframe thead th {\n",
       "        text-align: right;\n",
       "    }\n",
       "</style>\n",
       "<table border=\"1\" class=\"dataframe\">\n",
       "  <thead>\n",
       "    <tr style=\"text-align: right;\">\n",
       "      <th></th>\n",
       "      <th>Unnamed: 0</th>\n",
       "      <th>CUSTOMERNAME</th>\n",
       "      <th>classic_cars_%</th>\n",
       "      <th>motorcycles_%</th>\n",
       "      <th>planes_%</th>\n",
       "      <th>ships_%</th>\n",
       "      <th>trains_%</th>\n",
       "      <th>trucks_buses_%</th>\n",
       "      <th>vintage_cars_%</th>\n",
       "      <th>tot_items</th>\n",
       "      <th>last_purchase(days)</th>\n",
       "      <th>tot_orders</th>\n",
       "      <th>tot_sales</th>\n",
       "      <th>last_purchase(days)_cluster</th>\n",
       "      <th>tot_orders_cluster</th>\n",
       "      <th>tot_sales_cluster</th>\n",
       "      <th>ltv</th>\n",
       "      <th>priority</th>\n",
       "    </tr>\n",
       "  </thead>\n",
       "  <tbody>\n",
       "    <tr>\n",
       "      <th>0</th>\n",
       "      <td>0</td>\n",
       "      <td>AV Stores, Co.</td>\n",
       "      <td>0.37</td>\n",
       "      <td>0.00</td>\n",
       "      <td>0.00</td>\n",
       "      <td>0.14</td>\n",
       "      <td>0.06</td>\n",
       "      <td>0.00</td>\n",
       "      <td>0.43</td>\n",
       "      <td>51</td>\n",
       "      <td>195</td>\n",
       "      <td>51</td>\n",
       "      <td>157807.81</td>\n",
       "      <td>2</td>\n",
       "      <td>2</td>\n",
       "      <td>2</td>\n",
       "      <td>6</td>\n",
       "      <td>high</td>\n",
       "    </tr>\n",
       "    <tr>\n",
       "      <th>1</th>\n",
       "      <td>1</td>\n",
       "      <td>Anna's Decorations, Ltd</td>\n",
       "      <td>0.52</td>\n",
       "      <td>0.13</td>\n",
       "      <td>0.00</td>\n",
       "      <td>0.00</td>\n",
       "      <td>0.00</td>\n",
       "      <td>0.20</td>\n",
       "      <td>0.15</td>\n",
       "      <td>46</td>\n",
       "      <td>131</td>\n",
       "      <td>46</td>\n",
       "      <td>153996.13</td>\n",
       "      <td>2</td>\n",
       "      <td>2</td>\n",
       "      <td>2</td>\n",
       "      <td>6</td>\n",
       "      <td>high</td>\n",
       "    </tr>\n",
       "    <tr>\n",
       "      <th>2</th>\n",
       "      <td>2</td>\n",
       "      <td>Danish Wholesale Imports</td>\n",
       "      <td>0.39</td>\n",
       "      <td>0.00</td>\n",
       "      <td>0.06</td>\n",
       "      <td>0.36</td>\n",
       "      <td>0.03</td>\n",
       "      <td>0.00</td>\n",
       "      <td>0.17</td>\n",
       "      <td>36</td>\n",
       "      <td>46</td>\n",
       "      <td>36</td>\n",
       "      <td>145041.60</td>\n",
       "      <td>2</td>\n",
       "      <td>2</td>\n",
       "      <td>2</td>\n",
       "      <td>6</td>\n",
       "      <td>high</td>\n",
       "    </tr>\n",
       "    <tr>\n",
       "      <th>3</th>\n",
       "      <td>3</td>\n",
       "      <td>L'ordine Souveniers</td>\n",
       "      <td>0.56</td>\n",
       "      <td>0.05</td>\n",
       "      <td>0.26</td>\n",
       "      <td>0.00</td>\n",
       "      <td>0.05</td>\n",
       "      <td>0.03</td>\n",
       "      <td>0.05</td>\n",
       "      <td>39</td>\n",
       "      <td>329</td>\n",
       "      <td>39</td>\n",
       "      <td>142601.33</td>\n",
       "      <td>2</td>\n",
       "      <td>2</td>\n",
       "      <td>2</td>\n",
       "      <td>6</td>\n",
       "      <td>high</td>\n",
       "    </tr>\n",
       "    <tr>\n",
       "      <th>4</th>\n",
       "      <td>4</td>\n",
       "      <td>La Rochelle Gifts</td>\n",
       "      <td>0.11</td>\n",
       "      <td>0.26</td>\n",
       "      <td>0.26</td>\n",
       "      <td>0.09</td>\n",
       "      <td>0.00</td>\n",
       "      <td>0.15</td>\n",
       "      <td>0.11</td>\n",
       "      <td>53</td>\n",
       "      <td>117</td>\n",
       "      <td>53</td>\n",
       "      <td>180124.90</td>\n",
       "      <td>2</td>\n",
       "      <td>2</td>\n",
       "      <td>2</td>\n",
       "      <td>6</td>\n",
       "      <td>high</td>\n",
       "    </tr>\n",
       "  </tbody>\n",
       "</table>\n",
       "</div>"
      ],
      "text/plain": [
       "   Unnamed: 0              CUSTOMERNAME  classic_cars_%  motorcycles_%  \\\n",
       "0           0            AV Stores, Co.            0.37           0.00   \n",
       "1           1   Anna's Decorations, Ltd            0.52           0.13   \n",
       "2           2  Danish Wholesale Imports            0.39           0.00   \n",
       "3           3       L'ordine Souveniers            0.56           0.05   \n",
       "4           4         La Rochelle Gifts            0.11           0.26   \n",
       "\n",
       "   planes_%  ships_%  trains_%  trucks_buses_%  vintage_cars_%  tot_items  \\\n",
       "0      0.00     0.14      0.06            0.00            0.43         51   \n",
       "1      0.00     0.00      0.00            0.20            0.15         46   \n",
       "2      0.06     0.36      0.03            0.00            0.17         36   \n",
       "3      0.26     0.00      0.05            0.03            0.05         39   \n",
       "4      0.26     0.09      0.00            0.15            0.11         53   \n",
       "\n",
       "   last_purchase(days)  tot_orders  tot_sales  last_purchase(days)_cluster  \\\n",
       "0                  195          51  157807.81                            2   \n",
       "1                  131          46  153996.13                            2   \n",
       "2                   46          36  145041.60                            2   \n",
       "3                  329          39  142601.33                            2   \n",
       "4                  117          53  180124.90                            2   \n",
       "\n",
       "   tot_orders_cluster  tot_sales_cluster  ltv priority  \n",
       "0                   2                  2    6     high  \n",
       "1                   2                  2    6     high  \n",
       "2                   2                  2    6     high  \n",
       "3                   2                  2    6     high  \n",
       "4                   2                  2    6     high  "
      ]
     },
     "execution_count": 13,
     "metadata": {},
     "output_type": "execute_result"
    }
   ],
   "source": [
    "final_data.head()"
   ]
  },
  {
   "cell_type": "markdown",
   "metadata": {},
   "source": [
    "There are two things that we can test; first, whether the ltv score that we assigned can be predicted by the 2003 data, and second, we can take see if the 2003 data can predict tot_sales per customer."
   ]
  },
  {
   "cell_type": "code",
   "execution_count": 14,
   "metadata": {},
   "outputs": [],
   "source": [
    "model_data = (temp_table.reset_index()[['CUSTOMERNAME',\n",
    "                                        'last_purchase(days)_cluster',\n",
    "                                        'tot_orders_cluster',\n",
    "                                        'tot_sales_cluster',\n",
    "                                        'ltv_2003']].merge(((final_data[['CUSTOMERNAME',\n",
    "                                                                         'tot_sales',\n",
    "                                                                         'ltv',\n",
    "                                                                         'priority']])), \n",
    "                                                              how='inner', \n",
    "                                                              on='CUSTOMERNAME'))"
   ]
  },
  {
   "cell_type": "code",
   "execution_count": 15,
   "metadata": {},
   "outputs": [
    {
     "data": {
      "text/html": [
       "<div>\n",
       "<style scoped>\n",
       "    .dataframe tbody tr th:only-of-type {\n",
       "        vertical-align: middle;\n",
       "    }\n",
       "\n",
       "    .dataframe tbody tr th {\n",
       "        vertical-align: top;\n",
       "    }\n",
       "\n",
       "    .dataframe thead th {\n",
       "        text-align: right;\n",
       "    }\n",
       "</style>\n",
       "<table border=\"1\" class=\"dataframe\">\n",
       "  <thead>\n",
       "    <tr style=\"text-align: right;\">\n",
       "      <th></th>\n",
       "      <th>CUSTOMERNAME</th>\n",
       "      <th>last_purchase(days)_cluster</th>\n",
       "      <th>tot_orders_cluster</th>\n",
       "      <th>tot_sales_cluster</th>\n",
       "      <th>ltv_2003</th>\n",
       "      <th>tot_sales</th>\n",
       "      <th>ltv</th>\n",
       "      <th>priority</th>\n",
       "    </tr>\n",
       "  </thead>\n",
       "  <tbody>\n",
       "    <tr>\n",
       "      <th>0</th>\n",
       "      <td>AV Stores, Co.</td>\n",
       "      <td>0</td>\n",
       "      <td>1</td>\n",
       "      <td>1</td>\n",
       "      <td>2</td>\n",
       "      <td>157807.81</td>\n",
       "      <td>6</td>\n",
       "      <td>high</td>\n",
       "    </tr>\n",
       "    <tr>\n",
       "      <th>1</th>\n",
       "      <td>Baane Mini Imports</td>\n",
       "      <td>0</td>\n",
       "      <td>1</td>\n",
       "      <td>1</td>\n",
       "      <td>2</td>\n",
       "      <td>116599.19</td>\n",
       "      <td>4</td>\n",
       "      <td>med</td>\n",
       "    </tr>\n",
       "    <tr>\n",
       "      <th>2</th>\n",
       "      <td>Danish Wholesale Imports</td>\n",
       "      <td>0</td>\n",
       "      <td>1</td>\n",
       "      <td>1</td>\n",
       "      <td>2</td>\n",
       "      <td>145041.60</td>\n",
       "      <td>6</td>\n",
       "      <td>high</td>\n",
       "    </tr>\n",
       "    <tr>\n",
       "      <th>3</th>\n",
       "      <td>Alpha Cognac</td>\n",
       "      <td>1</td>\n",
       "      <td>1</td>\n",
       "      <td>1</td>\n",
       "      <td>3</td>\n",
       "      <td>70488.44</td>\n",
       "      <td>1</td>\n",
       "      <td>low</td>\n",
       "    </tr>\n",
       "    <tr>\n",
       "      <th>4</th>\n",
       "      <td>Australian Collectors, Co.</td>\n",
       "      <td>1</td>\n",
       "      <td>1</td>\n",
       "      <td>1</td>\n",
       "      <td>3</td>\n",
       "      <td>200995.41</td>\n",
       "      <td>5</td>\n",
       "      <td>high</td>\n",
       "    </tr>\n",
       "  </tbody>\n",
       "</table>\n",
       "</div>"
      ],
      "text/plain": [
       "                 CUSTOMERNAME  last_purchase(days)_cluster  \\\n",
       "0              AV Stores, Co.                            0   \n",
       "1          Baane Mini Imports                            0   \n",
       "2    Danish Wholesale Imports                            0   \n",
       "3                Alpha Cognac                            1   \n",
       "4  Australian Collectors, Co.                            1   \n",
       "\n",
       "   tot_orders_cluster  tot_sales_cluster  ltv_2003  tot_sales  ltv priority  \n",
       "0                   1                  1         2  157807.81    6     high  \n",
       "1                   1                  1         2  116599.19    4      med  \n",
       "2                   1                  1         2  145041.60    6     high  \n",
       "3                   1                  1         3   70488.44    1      low  \n",
       "4                   1                  1         3  200995.41    5     high  "
      ]
     },
     "execution_count": 15,
     "metadata": {},
     "output_type": "execute_result"
    }
   ],
   "source": [
    "model_data.head()"
   ]
  },
  {
   "cell_type": "code",
   "execution_count": 16,
   "metadata": {},
   "outputs": [
    {
     "data": {
      "text/plain": [
       "<matplotlib.axes._subplots.AxesSubplot at 0x156111cf5c0>"
      ]
     },
     "execution_count": 16,
     "metadata": {},
     "output_type": "execute_result"
    },
    {
     "data": {
      "image/png": "[encoded data removed]",
      "text/plain": [
       "<Figure size 720x504 with 1 Axes>"
      ]
     },
     "metadata": {
      "needs_background": "light"
     },
     "output_type": "display_data"
    }
   ],
   "source": [
    "colors = {'high':'red', 'med':'green', 'low':'blue'}\n",
    "model_data.plot(kind=\"scatter\", x='ltv_2003', y='tot_sales',\n",
    "    figsize=(10,7),\n",
    "    c=model_data['priority'].apply(lambda x: colors[x]),\n",
    "    )"
   ]
  },
  {
   "cell_type": "markdown",
   "metadata": {},
   "source": [
    "There isn't an obvious correlation between ltv score in 2003 and lifetime sales."
   ]
  },
  {
   "cell_type": "markdown",
   "metadata": {},
   "source": [
    "## Train Machine Learning Model"
   ]
  },
  {
   "cell_type": "markdown",
   "metadata": {},
   "source": [
    "Transform 'priority' classification into numeric."
   ]
  },
  {
   "cell_type": "code",
   "execution_count": 17,
   "metadata": {},
   "outputs": [
    {
     "name": "stdout",
     "output_type": "stream",
     "text": [
      "{'priority': {'high': 1, 'low': 2, 'med': 3}}\n"
     ]
    }
   ],
   "source": [
    "customer_labels = final_data['priority'].astype('category').cat.categories.tolist()\n",
    "replace_map_cust = {'priority' : {k: v for k,v in zip(customer_labels,list(range(1,len(customer_labels)+1)))}}\n",
    "print(replace_map_cust)"
   ]
  },
  {
   "cell_type": "code",
   "execution_count": 18,
   "metadata": {},
   "outputs": [],
   "source": [
    "final_data.replace(replace_map_cust, inplace=True)"
   ]
  },
  {
   "cell_type": "code",
   "execution_count": 19,
   "metadata": {},
   "outputs": [
    {
     "data": {
      "text/plain": [
       "Unnamed: 0                       int64\n",
       "CUSTOMERNAME                    object\n",
       "classic_cars_%                 float64\n",
       "motorcycles_%                  float64\n",
       "planes_%                       float64\n",
       "ships_%                        float64\n",
       "trains_%                       float64\n",
       "trucks_buses_%                 float64\n",
       "vintage_cars_%                 float64\n",
       "tot_items                        int64\n",
       "last_purchase(days)              int64\n",
       "tot_orders                       int64\n",
       "tot_sales                      float64\n",
       "last_purchase(days)_cluster      int64\n",
       "tot_orders_cluster               int64\n",
       "tot_sales_cluster                int64\n",
       "ltv                              int64\n",
       "priority                         int64\n",
       "dtype: object"
      ]
     },
     "execution_count": 19,
     "metadata": {},
     "output_type": "execute_result"
    }
   ],
   "source": [
    "final_data.dtypes"
   ]
  },
  {
   "cell_type": "markdown",
   "metadata": {},
   "source": [
    "Drop CUSTOMERNAME."
   ]
  },
  {
   "cell_type": "code",
   "execution_count": 20,
   "metadata": {},
   "outputs": [],
   "source": [
    "final_data = final_data.drop(['CUSTOMERNAME','Unnamed: 0'],axis=1)"
   ]
  },
  {
   "cell_type": "markdown",
   "metadata": {},
   "source": [
    "### Split training and test data"
   ]
  },
  {
   "cell_type": "code",
   "execution_count": 21,
   "metadata": {},
   "outputs": [
    {
     "data": {
      "text/plain": [
       "ltv                            1.000000\n",
       "tot_orders_cluster             0.883069\n",
       "tot_sales_cluster              0.839886\n",
       "tot_orders                     0.812367\n",
       "tot_items                      0.812367\n",
       "tot_sales                      0.808569\n",
       "last_purchase(days)_cluster    0.471845\n",
       "classic_cars_%                 0.154723\n",
       "motorcycles_%                  0.010381\n",
       "trains_%                      -0.008970\n",
       "ships_%                       -0.015209\n",
       "trucks_buses_%                -0.032548\n",
       "planes_%                      -0.083267\n",
       "vintage_cars_%                -0.093598\n",
       "priority                      -0.315430\n",
       "last_purchase(days)           -0.488215\n",
       "Name: ltv, dtype: float64"
      ]
     },
     "execution_count": 21,
     "metadata": {},
     "output_type": "execute_result"
    }
   ],
   "source": [
    "corr_matrix = final_data.corr()\n",
    "corr_matrix['ltv'].sort_values(ascending=False)"
   ]
  },
  {
   "cell_type": "code",
   "execution_count": 27,
   "metadata": {},
   "outputs": [],
   "source": [
    "X = final_data.drop(['ltv','tot_sales','classic_cars_%',\n",
    "                    'motorcycles_%','planes_%','ships_%','trains_%',\n",
    "                     'trucks_buses_%','vintage_cars_%','priority'],axis=1)\n",
    "y = final_data['priority']\n",
    "\n",
    "X_train, X_test, y_train, y_test = train_test_split(X, y, test_size=0.1, random_state=56)"
   ]
  },
  {
   "cell_type": "markdown",
   "metadata": {},
   "source": [
    "### KNN"
   ]
  },
  {
   "cell_type": "code",
   "execution_count": 28,
   "metadata": {},
   "outputs": [
    {
     "name": "stdout",
     "output_type": "stream",
     "text": [
      "4 KNN Accuracy: 66.67%\n"
     ]
    }
   ],
   "source": [
    "from sklearn.neighbors import KNeighborsClassifier\n",
    "knn = KNeighborsClassifier(n_neighbors = 4)\n",
    "knn.fit(X_train, y_train)\n",
    "y_pred = knn.predict(X_test)\n",
    "print(f\"4 KNN Accuracy: {round(knn.score(X_test, y_test)*100,2)}%\")"
   ]
  },
  {
   "cell_type": "code",
   "execution_count": 31,
   "metadata": {},
   "outputs": [
    {
     "name": "stdout",
     "output_type": "stream",
     "text": [
      "{'priority': {'high': 1, 'low': 2, 'med': 3}}\n",
      "Confusion Matrix :\n",
      "[[0 0 2]\n",
      " [0 2 1]\n",
      " [0 0 4]]\n",
      "Accuracy Score : 0.6666666666666666\n",
      "Report : \n",
      "              precision    recall  f1-score   support\n",
      "\n",
      "           1       0.00      0.00      0.00         2\n",
      "           2       1.00      0.67      0.80         3\n",
      "           3       0.57      1.00      0.73         4\n",
      "\n",
      "    accuracy                           0.67         9\n",
      "   macro avg       0.52      0.56      0.51         9\n",
      "weighted avg       0.59      0.67      0.59         9\n",
      "\n"
     ]
    }
   ],
   "source": [
    "results = confusion_matrix(y_test, y_pred) \n",
    "print(replace_map_cust)\n",
    "print ('Confusion Matrix :')\n",
    "print(results) \n",
    "print ('Accuracy Score :',accuracy_score(y_test, y_pred)) \n",
    "print ('Report : ')\n",
    "print (classification_report(y_test, y_pred))"
   ]
  },
  {
   "cell_type": "markdown",
   "metadata": {},
   "source": [
    "### Random Forest"
   ]
  },
  {
   "cell_type": "code",
   "execution_count": 34,
   "metadata": {},
   "outputs": [
    {
     "name": "stdout",
     "output_type": "stream",
     "text": [
      "Random Forest Accuracy: 100.0%\n"
     ]
    }
   ],
   "source": [
    "from sklearn.ensemble import RandomForestClassifier\n",
    "clf=RandomForestClassifier(n_estimators=100)\n",
    "clf.fit(X_train,y_train)\n",
    "y_pred=clf.predict(X_test)\n",
    "from sklearn import metrics\n",
    "print(f\"Random Forest Accuracy: {round(metrics.accuracy_score(y_test, y_pred)*100,2)}%\")"
   ]
  },
  {
   "cell_type": "code",
   "execution_count": 35,
   "metadata": {},
   "outputs": [
    {
     "name": "stdout",
     "output_type": "stream",
     "text": [
      "{'priority': {'high': 1, 'low': 2, 'med': 3}}\n",
      "Confusion Matrix :\n",
      "[[2 0 0]\n",
      " [0 3 0]\n",
      " [0 0 4]]\n",
      "Accuracy Score : 1.0\n",
      "Report : \n",
      "              precision    recall  f1-score   support\n",
      "\n",
      "           1       1.00      1.00      1.00         2\n",
      "           2       1.00      1.00      1.00         3\n",
      "           3       1.00      1.00      1.00         4\n",
      "\n",
      "    accuracy                           1.00         9\n",
      "   macro avg       1.00      1.00      1.00         9\n",
      "weighted avg       1.00      1.00      1.00         9\n",
      "\n"
     ]
    }
   ],
   "source": [
    "results = confusion_matrix(y_test, y_pred) \n",
    "print(replace_map_cust)\n",
    "print ('Confusion Matrix :')\n",
    "print(results) \n",
    "print ('Accuracy Score :',accuracy_score(y_test, y_pred)) \n",
    "print ('Report : ')\n",
    "print (classification_report(y_test, y_pred))"
   ]
  }
 ],
 "metadata": {
  "kernelspec": {
   "display_name": "Python 3",
   "language": "python",
   "name": "python3"
  },
  "language_info": {
   "codemirror_mode": {
    "name": "ipython",
    "version": 3
   },
   "file_extension": ".py",
   "mimetype": "text/x-python",
   "name": "python",
   "nbconvert_exporter": "python",
   "pygments_lexer": "ipython3",
   "version": "3.7.3"
  }
 },
 "nbformat": 4,
 "nbformat_minor": 2
}
