{
 "cells": [
  {
   "cell_type": "markdown",
   "metadata": {},
   "source": [
    "# Customer Segmentation"
   ]
  },
  {
   "cell_type": "markdown",
   "metadata": {},
   "source": [
    "## Introduction\n",
    "This notebook attempts to create customer segments in order to better understand the type of customers that a company has, as well as build a dataset that can be used by machine learning models."
   ]
  },
  {
   "cell_type": "markdown",
   "metadata": {},
   "source": [
    "## Import Libraries"
   ]
  },
  {
   "cell_type": "code",
   "execution_count": 1,
   "metadata": {},
   "outputs": [],
   "source": [
    "import pandas as pd\n",
    "import numpy as np;\n",
    "import seaborn as sns\n",
    "import matplotlib.pyplot as plt\n",
    "from scipy.stats import ttest_1samp, ttest_rel, ttest_ind\n",
    "from sklearn.model_selection import train_test_split\n",
    "from sklearn import preprocessing\n",
    "from sklearn.metrics import confusion_matrix \n",
    "from sklearn.metrics import accuracy_score \n",
    "from sklearn.metrics import classification_report \n",
    "from sklearn.cluster import KMeans"
   ]
  },
  {
   "cell_type": "markdown",
   "metadata": {},
   "source": [
    "## Import Data"
   ]
  },
  {
   "cell_type": "markdown",
   "metadata": {},
   "source": [
    "This workbook uses data from provided by Gus Segura. More information about this dataset can be found here (https://www.kaggle.com/kyanyoga/sample-sales-data)"
   ]
  },
  {
   "cell_type": "code",
   "execution_count": 2,
   "metadata": {},
   "outputs": [],
   "source": [
    "data = pd.read_csv('sales_data_sample.csv',encoding='cp1252')"
   ]
  },
  {
   "cell_type": "markdown",
   "metadata": {},
   "source": [
    "## Data Exploration"
   ]
  },
  {
   "cell_type": "code",
   "execution_count": 3,
   "metadata": {},
   "outputs": [
    {
     "data": {
      "text/html": [
       "<div>\n",
       "<style scoped>\n",
       "    .dataframe tbody tr th:only-of-type {\n",
       "        vertical-align: middle;\n",
       "    }\n",
       "\n",
       "    .dataframe tbody tr th {\n",
       "        vertical-align: top;\n",
       "    }\n",
       "\n",
       "    .dataframe thead th {\n",
       "        text-align: right;\n",
       "    }\n",
       "</style>\n",
       "<table border=\"1\" class=\"dataframe\">\n",
       "  <thead>\n",
       "    <tr style=\"text-align: right;\">\n",
       "      <th></th>\n",
       "      <th>ORDERNUMBER</th>\n",
       "      <th>QUANTITYORDERED</th>\n",
       "      <th>PRICEEACH</th>\n",
       "      <th>ORDERLINENUMBER</th>\n",
       "      <th>SALES</th>\n",
       "      <th>ORDERDATE</th>\n",
       "      <th>STATUS</th>\n",
       "      <th>QTR_ID</th>\n",
       "      <th>MONTH_ID</th>\n",
       "      <th>YEAR_ID</th>\n",
       "      <th>...</th>\n",
       "      <th>ADDRESSLINE1</th>\n",
       "      <th>ADDRESSLINE2</th>\n",
       "      <th>CITY</th>\n",
       "      <th>STATE</th>\n",
       "      <th>POSTALCODE</th>\n",
       "      <th>COUNTRY</th>\n",
       "      <th>TERRITORY</th>\n",
       "      <th>CONTACTLASTNAME</th>\n",
       "      <th>CONTACTFIRSTNAME</th>\n",
       "      <th>DEALSIZE</th>\n",
       "    </tr>\n",
       "  </thead>\n",
       "  <tbody>\n",
       "    <tr>\n",
       "      <th>0</th>\n",
       "      <td>10107</td>\n",
       "      <td>30</td>\n",
       "      <td>95.70</td>\n",
       "      <td>2</td>\n",
       "      <td>2871.00</td>\n",
       "      <td>2/24/2003 0:00</td>\n",
       "      <td>Shipped</td>\n",
       "      <td>1</td>\n",
       "      <td>2</td>\n",
       "      <td>2003</td>\n",
       "      <td>...</td>\n",
       "      <td>897 Long Airport Avenue</td>\n",
       "      <td>NaN</td>\n",
       "      <td>NYC</td>\n",
       "      <td>NY</td>\n",
       "      <td>10022</td>\n",
       "      <td>USA</td>\n",
       "      <td>NaN</td>\n",
       "      <td>Yu</td>\n",
       "      <td>Kwai</td>\n",
       "      <td>Small</td>\n",
       "    </tr>\n",
       "    <tr>\n",
       "      <th>1</th>\n",
       "      <td>10121</td>\n",
       "      <td>34</td>\n",
       "      <td>81.35</td>\n",
       "      <td>5</td>\n",
       "      <td>2765.90</td>\n",
       "      <td>5/7/2003 0:00</td>\n",
       "      <td>Shipped</td>\n",
       "      <td>2</td>\n",
       "      <td>5</td>\n",
       "      <td>2003</td>\n",
       "      <td>...</td>\n",
       "      <td>59 rue de l'Abbaye</td>\n",
       "      <td>NaN</td>\n",
       "      <td>Reims</td>\n",
       "      <td>NaN</td>\n",
       "      <td>51100</td>\n",
       "      <td>France</td>\n",
       "      <td>EMEA</td>\n",
       "      <td>Henriot</td>\n",
       "      <td>Paul</td>\n",
       "      <td>Small</td>\n",
       "    </tr>\n",
       "    <tr>\n",
       "      <th>2</th>\n",
       "      <td>10134</td>\n",
       "      <td>41</td>\n",
       "      <td>94.74</td>\n",
       "      <td>2</td>\n",
       "      <td>3884.34</td>\n",
       "      <td>7/1/2003 0:00</td>\n",
       "      <td>Shipped</td>\n",
       "      <td>3</td>\n",
       "      <td>7</td>\n",
       "      <td>2003</td>\n",
       "      <td>...</td>\n",
       "      <td>27 rue du Colonel Pierre Avia</td>\n",
       "      <td>NaN</td>\n",
       "      <td>Paris</td>\n",
       "      <td>NaN</td>\n",
       "      <td>75508</td>\n",
       "      <td>France</td>\n",
       "      <td>EMEA</td>\n",
       "      <td>Da Cunha</td>\n",
       "      <td>Daniel</td>\n",
       "      <td>Medium</td>\n",
       "    </tr>\n",
       "    <tr>\n",
       "      <th>3</th>\n",
       "      <td>10145</td>\n",
       "      <td>45</td>\n",
       "      <td>83.26</td>\n",
       "      <td>6</td>\n",
       "      <td>3746.70</td>\n",
       "      <td>8/25/2003 0:00</td>\n",
       "      <td>Shipped</td>\n",
       "      <td>3</td>\n",
       "      <td>8</td>\n",
       "      <td>2003</td>\n",
       "      <td>...</td>\n",
       "      <td>78934 Hillside Dr.</td>\n",
       "      <td>NaN</td>\n",
       "      <td>Pasadena</td>\n",
       "      <td>CA</td>\n",
       "      <td>90003</td>\n",
       "      <td>USA</td>\n",
       "      <td>NaN</td>\n",
       "      <td>Young</td>\n",
       "      <td>Julie</td>\n",
       "      <td>Medium</td>\n",
       "    </tr>\n",
       "    <tr>\n",
       "      <th>4</th>\n",
       "      <td>10159</td>\n",
       "      <td>49</td>\n",
       "      <td>100.00</td>\n",
       "      <td>14</td>\n",
       "      <td>5205.27</td>\n",
       "      <td>10/10/2003 0:00</td>\n",
       "      <td>Shipped</td>\n",
       "      <td>4</td>\n",
       "      <td>10</td>\n",
       "      <td>2003</td>\n",
       "      <td>...</td>\n",
       "      <td>7734 Strong St.</td>\n",
       "      <td>NaN</td>\n",
       "      <td>San Francisco</td>\n",
       "      <td>CA</td>\n",
       "      <td>NaN</td>\n",
       "      <td>USA</td>\n",
       "      <td>NaN</td>\n",
       "      <td>Brown</td>\n",
       "      <td>Julie</td>\n",
       "      <td>Medium</td>\n",
       "    </tr>\n",
       "  </tbody>\n",
       "</table>\n",
       "<p>5 rows × 25 columns</p>\n",
       "</div>"
      ],
      "text/plain": [
       "   ORDERNUMBER  QUANTITYORDERED  PRICEEACH  ORDERLINENUMBER    SALES  \\\n",
       "0        10107               30      95.70                2  2871.00   \n",
       "1        10121               34      81.35                5  2765.90   \n",
       "2        10134               41      94.74                2  3884.34   \n",
       "3        10145               45      83.26                6  3746.70   \n",
       "4        10159               49     100.00               14  5205.27   \n",
       "\n",
       "         ORDERDATE   STATUS  QTR_ID  MONTH_ID  YEAR_ID  ...  \\\n",
       "0   2/24/2003 0:00  Shipped       1         2     2003  ...   \n",
       "1    5/7/2003 0:00  Shipped       2         5     2003  ...   \n",
       "2    7/1/2003 0:00  Shipped       3         7     2003  ...   \n",
       "3   8/25/2003 0:00  Shipped       3         8     2003  ...   \n",
       "4  10/10/2003 0:00  Shipped       4        10     2003  ...   \n",
       "\n",
       "                    ADDRESSLINE1  ADDRESSLINE2           CITY STATE  \\\n",
       "0        897 Long Airport Avenue           NaN            NYC    NY   \n",
       "1             59 rue de l'Abbaye           NaN          Reims   NaN   \n",
       "2  27 rue du Colonel Pierre Avia           NaN          Paris   NaN   \n",
       "3             78934 Hillside Dr.           NaN       Pasadena    CA   \n",
       "4                7734 Strong St.           NaN  San Francisco    CA   \n",
       "\n",
       "  POSTALCODE COUNTRY TERRITORY CONTACTLASTNAME CONTACTFIRSTNAME DEALSIZE  \n",
       "0      10022     USA       NaN              Yu             Kwai    Small  \n",
       "1      51100  France      EMEA         Henriot             Paul    Small  \n",
       "2      75508  France      EMEA        Da Cunha           Daniel   Medium  \n",
       "3      90003     USA       NaN           Young            Julie   Medium  \n",
       "4        NaN     USA       NaN           Brown            Julie   Medium  \n",
       "\n",
       "[5 rows x 25 columns]"
      ]
     },
     "execution_count": 3,
     "metadata": {},
     "output_type": "execute_result"
    }
   ],
   "source": [
    "data.head()"
   ]
  },
  {
   "cell_type": "code",
   "execution_count": 4,
   "metadata": {},
   "outputs": [
    {
     "data": {
      "text/plain": [
       "Index(['ORDERNUMBER', 'QUANTITYORDERED', 'PRICEEACH', 'ORDERLINENUMBER',\n",
       "       'SALES', 'ORDERDATE', 'STATUS', 'QTR_ID', 'MONTH_ID', 'YEAR_ID',\n",
       "       'PRODUCTLINE', 'MSRP', 'PRODUCTCODE', 'CUSTOMERNAME', 'PHONE',\n",
       "       'ADDRESSLINE1', 'ADDRESSLINE2', 'CITY', 'STATE', 'POSTALCODE',\n",
       "       'COUNTRY', 'TERRITORY', 'CONTACTLASTNAME', 'CONTACTFIRSTNAME',\n",
       "       'DEALSIZE'],\n",
       "      dtype='object')"
      ]
     },
     "execution_count": 4,
     "metadata": {},
     "output_type": "execute_result"
    }
   ],
   "source": [
    "data.columns"
   ]
  },
  {
   "cell_type": "markdown",
   "metadata": {},
   "source": [
    "First, we'll remove unnecessary columns. We'll keep the following columns:\n",
    "1. SALES\n",
    "2. ORDERDATE: we can turn this into a time series to plot performance over time later\n",
    "3. PRODUCTLINE: we might want to compare how different products perform. We can also use the purchasing habits of different products to characterize our customers\n",
    "4. PRODUCTCODE: similar reasons as above\n",
    "5. COUNTRY: similar reasons as above\n",
    "6. DEALSIZE: we can potentially use these dealsize buckets to characterize our customers. "
   ]
  },
  {
   "cell_type": "code",
   "execution_count": 5,
   "metadata": {},
   "outputs": [],
   "source": [
    "sales_data = data.drop(['ORDERNUMBER','QUANTITYORDERED','PRICEEACH','ORDERLINENUMBER','STATUS','QTR_ID',\n",
    "                       'MSRP','PHONE','ADDRESSLINE1','ADDRESSLINE2','CITY','STATE','POSTALCODE',\n",
    "                       'TERRITORY','CONTACTLASTNAME','CONTACTFIRSTNAME','MONTH_ID',\n",
    "                       'YEAR_ID'],axis=1)"
   ]
  },
  {
   "cell_type": "code",
   "execution_count": 6,
   "metadata": {},
   "outputs": [],
   "source": [
    "column_order = ['ORDERDATE','CUSTOMERNAME',\n",
    "               'SALES','PRODUCTLINE','PRODUCTCODE',\n",
    "               'COUNTRY','DEALSIZE']\n",
    "sales_data = sales_data[column_order]"
   ]
  },
  {
   "cell_type": "code",
   "execution_count": 7,
   "metadata": {},
   "outputs": [],
   "source": [
    "sales_data['ORDERDATE']= pd.to_datetime(sales_data['ORDERDATE'])\n",
    "sales_data = sales_data.sort_values(by=['ORDERDATE'], ascending=True)\n",
    "sales_data = sales_data.set_index('ORDERDATE')"
   ]
  },
  {
   "cell_type": "code",
   "execution_count": 8,
   "metadata": {},
   "outputs": [
    {
     "data": {
      "text/html": [
       "<div>\n",
       "<style scoped>\n",
       "    .dataframe tbody tr th:only-of-type {\n",
       "        vertical-align: middle;\n",
       "    }\n",
       "\n",
       "    .dataframe tbody tr th {\n",
       "        vertical-align: top;\n",
       "    }\n",
       "\n",
       "    .dataframe thead th {\n",
       "        text-align: right;\n",
       "    }\n",
       "</style>\n",
       "<table border=\"1\" class=\"dataframe\">\n",
       "  <thead>\n",
       "    <tr style=\"text-align: right;\">\n",
       "      <th></th>\n",
       "      <th>CUSTOMERNAME</th>\n",
       "      <th>SALES</th>\n",
       "      <th>PRODUCTLINE</th>\n",
       "      <th>PRODUCTCODE</th>\n",
       "      <th>COUNTRY</th>\n",
       "      <th>DEALSIZE</th>\n",
       "    </tr>\n",
       "    <tr>\n",
       "      <th>ORDERDATE</th>\n",
       "      <th></th>\n",
       "      <th></th>\n",
       "      <th></th>\n",
       "      <th></th>\n",
       "      <th></th>\n",
       "      <th></th>\n",
       "    </tr>\n",
       "  </thead>\n",
       "  <tbody>\n",
       "    <tr>\n",
       "      <th>2003-01-06</th>\n",
       "      <td>Online Diecast Creations Co.</td>\n",
       "      <td>5151.00</td>\n",
       "      <td>Vintage Cars</td>\n",
       "      <td>S18_1749</td>\n",
       "      <td>USA</td>\n",
       "      <td>Medium</td>\n",
       "    </tr>\n",
       "    <tr>\n",
       "      <th>2003-01-06</th>\n",
       "      <td>Online Diecast Creations Co.</td>\n",
       "      <td>3390.00</td>\n",
       "      <td>Vintage Cars</td>\n",
       "      <td>S18_2248</td>\n",
       "      <td>USA</td>\n",
       "      <td>Medium</td>\n",
       "    </tr>\n",
       "    <tr>\n",
       "      <th>2003-01-06</th>\n",
       "      <td>Online Diecast Creations Co.</td>\n",
       "      <td>1903.22</td>\n",
       "      <td>Vintage Cars</td>\n",
       "      <td>S18_4409</td>\n",
       "      <td>USA</td>\n",
       "      <td>Small</td>\n",
       "    </tr>\n",
       "    <tr>\n",
       "      <th>2003-01-06</th>\n",
       "      <td>Online Diecast Creations Co.</td>\n",
       "      <td>1689.03</td>\n",
       "      <td>Vintage Cars</td>\n",
       "      <td>S24_3969</td>\n",
       "      <td>USA</td>\n",
       "      <td>Small</td>\n",
       "    </tr>\n",
       "    <tr>\n",
       "      <th>2003-01-09</th>\n",
       "      <td>Blauer See Auto, Co.</td>\n",
       "      <td>1404.00</td>\n",
       "      <td>Vintage Cars</td>\n",
       "      <td>S24_1937</td>\n",
       "      <td>Germany</td>\n",
       "      <td>Small</td>\n",
       "    </tr>\n",
       "  </tbody>\n",
       "</table>\n",
       "</div>"
      ],
      "text/plain": [
       "                            CUSTOMERNAME    SALES   PRODUCTLINE PRODUCTCODE  \\\n",
       "ORDERDATE                                                                     \n",
       "2003-01-06  Online Diecast Creations Co.  5151.00  Vintage Cars    S18_1749   \n",
       "2003-01-06  Online Diecast Creations Co.  3390.00  Vintage Cars    S18_2248   \n",
       "2003-01-06  Online Diecast Creations Co.  1903.22  Vintage Cars    S18_4409   \n",
       "2003-01-06  Online Diecast Creations Co.  1689.03  Vintage Cars    S24_3969   \n",
       "2003-01-09          Blauer See Auto, Co.  1404.00  Vintage Cars    S24_1937   \n",
       "\n",
       "            COUNTRY DEALSIZE  \n",
       "ORDERDATE                     \n",
       "2003-01-06      USA   Medium  \n",
       "2003-01-06      USA   Medium  \n",
       "2003-01-06      USA    Small  \n",
       "2003-01-06      USA    Small  \n",
       "2003-01-09  Germany    Small  "
      ]
     },
     "execution_count": 8,
     "metadata": {},
     "output_type": "execute_result"
    }
   ],
   "source": [
    "sales_data.head()"
   ]
  },
  {
   "cell_type": "markdown",
   "metadata": {},
   "source": [
    "Let's conduct some basic data analysis on the dataframe:"
   ]
  },
  {
   "cell_type": "code",
   "execution_count": 9,
   "metadata": {},
   "outputs": [
    {
     "data": {
      "text/plain": [
       "USA            1004\n",
       "Spain           342\n",
       "France          314\n",
       "Australia       185\n",
       "UK              144\n",
       "Italy           113\n",
       "Finland          92\n",
       "Norway           85\n",
       "Singapore        79\n",
       "Canada           70\n",
       "Denmark          63\n",
       "Germany          62\n",
       "Sweden           57\n",
       "Austria          55\n",
       "Japan            52\n",
       "Belgium          33\n",
       "Switzerland      31\n",
       "Philippines      26\n",
       "Ireland          16\n",
       "Name: COUNTRY, dtype: int64"
      ]
     },
     "execution_count": 9,
     "metadata": {},
     "output_type": "execute_result"
    }
   ],
   "source": [
    "sales_data['COUNTRY'].value_counts()"
   ]
  },
  {
   "cell_type": "markdown",
   "metadata": {},
   "source": [
    "The majority of customers are in the USA"
   ]
  },
  {
   "cell_type": "code",
   "execution_count": 10,
   "metadata": {},
   "outputs": [
    {
     "data": {
      "text/plain": [
       "Classic Cars        967\n",
       "Vintage Cars        607\n",
       "Motorcycles         331\n",
       "Planes              306\n",
       "Trucks and Buses    301\n",
       "Ships               234\n",
       "Trains               77\n",
       "Name: PRODUCTLINE, dtype: int64"
      ]
     },
     "execution_count": 10,
     "metadata": {},
     "output_type": "execute_result"
    }
   ],
   "source": [
    "sales_data['PRODUCTLINE'].value_counts()"
   ]
  },
  {
   "cell_type": "markdown",
   "metadata": {},
   "source": [
    "## 1. Who are the most profitable customers? "
   ]
  },
  {
   "cell_type": "markdown",
   "metadata": {},
   "source": [
    "### Total sales & total orders"
   ]
  },
  {
   "cell_type": "markdown",
   "metadata": {},
   "source": [
    "Our first task is to group our data by customer, so that we can view the total revenue per customer and the total number of orders that they have made."
   ]
  },
  {
   "cell_type": "code",
   "execution_count": 11,
   "metadata": {},
   "outputs": [],
   "source": [
    "tot_sales = sales_data.groupby(['CUSTOMERNAME']).sum().sort_values(by=['SALES'],ascending=False)\n",
    "tot_orders = sales_data.groupby(['CUSTOMERNAME']).count().sort_values(by=['SALES'],ascending=False).drop(['PRODUCTLINE',\n",
    "                                                                                                          'PRODUCTCODE',\n",
    "                                                                                                          'COUNTRY',\n",
    "                                                                                                          'DEALSIZE'],axis=1)\n",
    "customer_data = pd.merge(tot_orders, tot_sales, on='CUSTOMERNAME')\n",
    "customer_data.columns = ['tot_orders','tot_sales']"
   ]
  },
  {
   "cell_type": "code",
   "execution_count": 12,
   "metadata": {},
   "outputs": [
    {
     "data": {
      "text/html": [
       "<div>\n",
       "<style scoped>\n",
       "    .dataframe tbody tr th:only-of-type {\n",
       "        vertical-align: middle;\n",
       "    }\n",
       "\n",
       "    .dataframe tbody tr th {\n",
       "        vertical-align: top;\n",
       "    }\n",
       "\n",
       "    .dataframe thead th {\n",
       "        text-align: right;\n",
       "    }\n",
       "</style>\n",
       "<table border=\"1\" class=\"dataframe\">\n",
       "  <thead>\n",
       "    <tr style=\"text-align: right;\">\n",
       "      <th></th>\n",
       "      <th>tot_orders</th>\n",
       "      <th>tot_sales</th>\n",
       "    </tr>\n",
       "    <tr>\n",
       "      <th>CUSTOMERNAME</th>\n",
       "      <th></th>\n",
       "      <th></th>\n",
       "    </tr>\n",
       "  </thead>\n",
       "  <tbody>\n",
       "    <tr>\n",
       "      <th>Euro Shopping Channel</th>\n",
       "      <td>259</td>\n",
       "      <td>912294.11</td>\n",
       "    </tr>\n",
       "    <tr>\n",
       "      <th>Mini Gifts Distributors Ltd.</th>\n",
       "      <td>180</td>\n",
       "      <td>654858.06</td>\n",
       "    </tr>\n",
       "    <tr>\n",
       "      <th>Australian Collectors, Co.</th>\n",
       "      <td>55</td>\n",
       "      <td>200995.41</td>\n",
       "    </tr>\n",
       "    <tr>\n",
       "      <th>La Rochelle Gifts</th>\n",
       "      <td>53</td>\n",
       "      <td>180124.90</td>\n",
       "    </tr>\n",
       "    <tr>\n",
       "      <th>AV Stores, Co.</th>\n",
       "      <td>51</td>\n",
       "      <td>157807.81</td>\n",
       "    </tr>\n",
       "    <tr>\n",
       "      <th>Land of Toys Inc.</th>\n",
       "      <td>49</td>\n",
       "      <td>164069.44</td>\n",
       "    </tr>\n",
       "    <tr>\n",
       "      <th>Muscle Machine Inc</th>\n",
       "      <td>48</td>\n",
       "      <td>197736.94</td>\n",
       "    </tr>\n",
       "    <tr>\n",
       "      <th>Rovelli Gifts</th>\n",
       "      <td>48</td>\n",
       "      <td>137955.72</td>\n",
       "    </tr>\n",
       "    <tr>\n",
       "      <th>Anna's Decorations, Ltd</th>\n",
       "      <td>46</td>\n",
       "      <td>153996.13</td>\n",
       "    </tr>\n",
       "    <tr>\n",
       "      <th>Souveniers And Things Co.</th>\n",
       "      <td>46</td>\n",
       "      <td>151570.98</td>\n",
       "    </tr>\n",
       "  </tbody>\n",
       "</table>\n",
       "</div>"
      ],
      "text/plain": [
       "                              tot_orders  tot_sales\n",
       "CUSTOMERNAME                                       \n",
       "Euro Shopping Channel                259  912294.11\n",
       "Mini Gifts Distributors Ltd.         180  654858.06\n",
       "Australian Collectors, Co.            55  200995.41\n",
       "La Rochelle Gifts                     53  180124.90\n",
       "AV Stores, Co.                        51  157807.81\n",
       "Land of Toys Inc.                     49  164069.44\n",
       "Muscle Machine Inc                    48  197736.94\n",
       "Rovelli Gifts                         48  137955.72\n",
       "Anna's Decorations, Ltd               46  153996.13\n",
       "Souveniers And Things Co.             46  151570.98"
      ]
     },
     "execution_count": 12,
     "metadata": {},
     "output_type": "execute_result"
    }
   ],
   "source": [
    "customer_data.head(10)"
   ]
  },
  {
   "cell_type": "markdown",
   "metadata": {},
   "source": [
    "We can see that Euro Shopping Channel and Mini Gift Distributors have generated significantly more revenue that the rest of the customers. Let's see how this date looks on a plot."
   ]
  },
  {
   "cell_type": "code",
   "execution_count": 13,
   "metadata": {},
   "outputs": [
    {
     "data": {
      "text/plain": [
       "<matplotlib.axes._subplots.AxesSubplot at 0x1a736123320>"
      ]
     },
     "execution_count": 13,
     "metadata": {},
     "output_type": "execute_result"
    },
    {
     "data": {
      "image/png": "[encoded data removed]",
      "text/plain": [
       "<Figure size 432x288 with 1 Axes>"
      ]
     },
     "metadata": {
      "needs_background": "light"
     },
     "output_type": "display_data"
    }
   ],
   "source": [
    "sns.regplot(customer_data['tot_orders'], customer_data['tot_sales'])"
   ]
  },
  {
   "cell_type": "markdown",
   "metadata": {},
   "source": [
    "Those two customers are making it difficult to read the data. Let's remove them from the dataset temporarily to take a closer look at the rest of the customers."
   ]
  },
  {
   "cell_type": "code",
   "execution_count": 14,
   "metadata": {},
   "outputs": [],
   "source": [
    "temp_table = customer_data.drop(['Euro Shopping Channel','Mini Gifts Distributors Ltd.'])"
   ]
  },
  {
   "cell_type": "code",
   "execution_count": 15,
   "metadata": {},
   "outputs": [
    {
     "data": {
      "text/plain": [
       "<matplotlib.axes._subplots.AxesSubplot at 0x1a7364ca8d0>"
      ]
     },
     "execution_count": 15,
     "metadata": {},
     "output_type": "execute_result"
    },
    {
     "data": {
      "image/png": "[encoded data removed]",
      "text/plain": [
       "<Figure size 432x288 with 1 Axes>"
      ]
     },
     "metadata": {
      "needs_background": "light"
     },
     "output_type": "display_data"
    }
   ],
   "source": [
    "sns.regplot(temp_table['tot_orders'], temp_table['tot_sales'])"
   ]
  },
  {
   "cell_type": "markdown",
   "metadata": {},
   "source": [
    "As we might expect, total sales and total orders appear to be very closely correlated. Let's confirm that:"
   ]
  },
  {
   "cell_type": "code",
   "execution_count": 16,
   "metadata": {},
   "outputs": [
    {
     "name": "stdout",
     "output_type": "stream",
     "text": [
      "            tot_orders  tot_sales\n",
      "tot_orders    1.000000   0.967797\n",
      "tot_sales     0.967797   1.000000\n"
     ]
    }
   ],
   "source": [
    "print(temp_table.corr())"
   ]
  },
  {
   "cell_type": "markdown",
   "metadata": {},
   "source": [
    "### Average order value: a possible measure of \"profitability\""
   ]
  },
  {
   "cell_type": "markdown",
   "metadata": {},
   "source": [
    "Customers that are above our trendline are - in theory - more profitable than those below it; that's because they bring in more money with less orders, and therefore less admin/costs are required. We can create a column called \"Average Order Value\" to provide a figure for each customer."
   ]
  },
  {
   "cell_type": "code",
   "execution_count": 17,
   "metadata": {},
   "outputs": [],
   "source": [
    "avg_sales = sales_data.groupby(['CUSTOMERNAME']).mean().sort_values(by=['SALES'],ascending=False).round(2)\n",
    "customer_data = pd.merge(customer_data, avg_sales, on='CUSTOMERNAME')\n",
    "customer_data.columns = ['tot_orders','tot_sales','avg_sales']"
   ]
  },
  {
   "cell_type": "code",
   "execution_count": 18,
   "metadata": {},
   "outputs": [
    {
     "data": {
      "text/html": [
       "<div>\n",
       "<style scoped>\n",
       "    .dataframe tbody tr th:only-of-type {\n",
       "        vertical-align: middle;\n",
       "    }\n",
       "\n",
       "    .dataframe tbody tr th {\n",
       "        vertical-align: top;\n",
       "    }\n",
       "\n",
       "    .dataframe thead th {\n",
       "        text-align: right;\n",
       "    }\n",
       "</style>\n",
       "<table border=\"1\" class=\"dataframe\">\n",
       "  <thead>\n",
       "    <tr style=\"text-align: right;\">\n",
       "      <th></th>\n",
       "      <th>tot_orders</th>\n",
       "      <th>tot_sales</th>\n",
       "      <th>avg_sales</th>\n",
       "    </tr>\n",
       "    <tr>\n",
       "      <th>CUSTOMERNAME</th>\n",
       "      <th></th>\n",
       "      <th></th>\n",
       "      <th></th>\n",
       "    </tr>\n",
       "  </thead>\n",
       "  <tbody>\n",
       "    <tr>\n",
       "      <th>Euro Shopping Channel</th>\n",
       "      <td>259</td>\n",
       "      <td>912294.11</td>\n",
       "      <td>3522.37</td>\n",
       "    </tr>\n",
       "    <tr>\n",
       "      <th>Mini Gifts Distributors Ltd.</th>\n",
       "      <td>180</td>\n",
       "      <td>654858.06</td>\n",
       "      <td>3638.10</td>\n",
       "    </tr>\n",
       "    <tr>\n",
       "      <th>Australian Collectors, Co.</th>\n",
       "      <td>55</td>\n",
       "      <td>200995.41</td>\n",
       "      <td>3654.46</td>\n",
       "    </tr>\n",
       "    <tr>\n",
       "      <th>La Rochelle Gifts</th>\n",
       "      <td>53</td>\n",
       "      <td>180124.90</td>\n",
       "      <td>3398.58</td>\n",
       "    </tr>\n",
       "    <tr>\n",
       "      <th>AV Stores, Co.</th>\n",
       "      <td>51</td>\n",
       "      <td>157807.81</td>\n",
       "      <td>3094.27</td>\n",
       "    </tr>\n",
       "  </tbody>\n",
       "</table>\n",
       "</div>"
      ],
      "text/plain": [
       "                              tot_orders  tot_sales  avg_sales\n",
       "CUSTOMERNAME                                                  \n",
       "Euro Shopping Channel                259  912294.11    3522.37\n",
       "Mini Gifts Distributors Ltd.         180  654858.06    3638.10\n",
       "Australian Collectors, Co.            55  200995.41    3654.46\n",
       "La Rochelle Gifts                     53  180124.90    3398.58\n",
       "AV Stores, Co.                        51  157807.81    3094.27"
      ]
     },
     "execution_count": 18,
     "metadata": {},
     "output_type": "execute_result"
    }
   ],
   "source": [
    "customer_data.head()"
   ]
  },
  {
   "cell_type": "code",
   "execution_count": 19,
   "metadata": {},
   "outputs": [
    {
     "data": {
      "image/png": "[encoded data removed]",
      "text/plain": [
       "<Figure size 720x504 with 2 Axes>"
      ]
     },
     "metadata": {
      "needs_background": "light"
     },
     "output_type": "display_data"
    }
   ],
   "source": [
    "customer_data.drop(['Euro Shopping Channel','Mini Gifts Distributors Ltd.']).plot(kind=\"scatter\", x=\"tot_orders\", y=\"tot_sales\", alpha=0.9,\n",
    "     figsize=(10,7),\n",
    "    c=\"avg_sales\", cmap=plt.get_cmap(\"seismic\"), colorbar=True,\n",
    "    sharex=False)\n",
    "plt.show()"
   ]
  },
  {
   "cell_type": "markdown",
   "metadata": {},
   "source": [
    "In the above plot, our most profitable customers are in warmer colors, and our less profitable customers are in cold colors."
   ]
  },
  {
   "cell_type": "markdown",
   "metadata": {},
   "source": [
    "Next, we can create a column that assigns a value to each customer based on whether they are more profitable than the mean or less profitable."
   ]
  },
  {
   "cell_type": "markdown",
   "metadata": {},
   "source": [
    "One way to measure profitability is average order value. Every order that is processed naturally incurs costs, so we should prefer customers that make fewer, higher value orders."
   ]
  },
  {
   "cell_type": "code",
   "execution_count": 20,
   "metadata": {},
   "outputs": [
    {
     "name": "stdout",
     "output_type": "stream",
     "text": [
      "Mean: 3551.3818478260887\n",
      "Standard Deviation: 371.4417782802849\n"
     ]
    }
   ],
   "source": [
    "print('Mean:', np.mean(customer_data['avg_sales']))\n",
    "print('Standard Deviation:', np.std(customer_data['avg_sales']))"
   ]
  },
  {
   "cell_type": "markdown",
   "metadata": {},
   "source": [
    "The average order value is 3551, and the standard deviation is 371. We could classify customers into three brackets:\n",
    "1. Customers that have an average order value greater than one standard deviation above the mean (Profitable customers)\n",
    "2. Customers that have an average order value less than one standard deviation away from the mean (Average customers)\n",
    "3. Customers that have an average order value greater than one standard deviation below the mean (Unprofitable customers)"
   ]
  },
  {
   "cell_type": "code",
   "execution_count": 21,
   "metadata": {},
   "outputs": [],
   "source": [
    "def label_customer(row):\n",
    "    if row['avg_sales'] > (np.mean(customer_data['avg_sales'] + np.std(customer_data['avg_sales']))):\n",
    "        return 'Profitable'\n",
    "    if row['avg_sales'] < (np.mean(customer_data['avg_sales'] - np.std(customer_data['avg_sales']))):\n",
    "        return 'Unprofitable'\n",
    "    return 'Average'   "
   ]
  },
  {
   "cell_type": "code",
   "execution_count": 22,
   "metadata": {},
   "outputs": [],
   "source": [
    "customer_data['class'] = customer_data.apply(lambda row: label_customer(row), axis=1)"
   ]
  },
  {
   "cell_type": "code",
   "execution_count": 23,
   "metadata": {},
   "outputs": [
    {
     "data": {
      "text/plain": [
       "Average         63\n",
       "Profitable      16\n",
       "Unprofitable    13\n",
       "Name: class, dtype: int64"
      ]
     },
     "execution_count": 23,
     "metadata": {},
     "output_type": "execute_result"
    }
   ],
   "source": [
    "customer_data['class'].value_counts()"
   ]
  },
  {
   "cell_type": "markdown",
   "metadata": {},
   "source": [
    "We can see that we have 16 profitable customers, 13 unprofitable, and 63 average. Below are our profitable customers:"
   ]
  },
  {
   "cell_type": "code",
   "execution_count": 24,
   "metadata": {},
   "outputs": [
    {
     "data": {
      "text/html": [
       "<div>\n",
       "<style scoped>\n",
       "    .dataframe tbody tr th:only-of-type {\n",
       "        vertical-align: middle;\n",
       "    }\n",
       "\n",
       "    .dataframe tbody tr th {\n",
       "        vertical-align: top;\n",
       "    }\n",
       "\n",
       "    .dataframe thead th {\n",
       "        text-align: right;\n",
       "    }\n",
       "</style>\n",
       "<table border=\"1\" class=\"dataframe\">\n",
       "  <thead>\n",
       "    <tr style=\"text-align: right;\">\n",
       "      <th></th>\n",
       "      <th>tot_orders</th>\n",
       "      <th>tot_sales</th>\n",
       "      <th>avg_sales</th>\n",
       "      <th>class</th>\n",
       "    </tr>\n",
       "    <tr>\n",
       "      <th>CUSTOMERNAME</th>\n",
       "      <th></th>\n",
       "      <th></th>\n",
       "      <th></th>\n",
       "      <th></th>\n",
       "    </tr>\n",
       "  </thead>\n",
       "  <tbody>\n",
       "    <tr>\n",
       "      <th>Super Scale Inc.</th>\n",
       "      <td>17</td>\n",
       "      <td>79472.07</td>\n",
       "      <td>4674.83</td>\n",
       "      <td>Profitable</td>\n",
       "    </tr>\n",
       "    <tr>\n",
       "      <th>Mini Caravy</th>\n",
       "      <td>19</td>\n",
       "      <td>80438.48</td>\n",
       "      <td>4233.60</td>\n",
       "      <td>Profitable</td>\n",
       "    </tr>\n",
       "    <tr>\n",
       "      <th>La Corne D'abondance, Co.</th>\n",
       "      <td>23</td>\n",
       "      <td>97203.68</td>\n",
       "      <td>4226.25</td>\n",
       "      <td>Profitable</td>\n",
       "    </tr>\n",
       "    <tr>\n",
       "      <th>Royale Belge</th>\n",
       "      <td>8</td>\n",
       "      <td>33440.10</td>\n",
       "      <td>4180.01</td>\n",
       "      <td>Profitable</td>\n",
       "    </tr>\n",
       "    <tr>\n",
       "      <th>Muscle Machine Inc</th>\n",
       "      <td>48</td>\n",
       "      <td>197736.94</td>\n",
       "      <td>4119.52</td>\n",
       "      <td>Profitable</td>\n",
       "    </tr>\n",
       "    <tr>\n",
       "      <th>Gift Depot Inc.</th>\n",
       "      <td>25</td>\n",
       "      <td>101894.79</td>\n",
       "      <td>4075.79</td>\n",
       "      <td>Profitable</td>\n",
       "    </tr>\n",
       "    <tr>\n",
       "      <th>UK Collectables, Ltd.</th>\n",
       "      <td>29</td>\n",
       "      <td>118008.27</td>\n",
       "      <td>4069.25</td>\n",
       "      <td>Profitable</td>\n",
       "    </tr>\n",
       "    <tr>\n",
       "      <th>Danish Wholesale Imports</th>\n",
       "      <td>36</td>\n",
       "      <td>145041.60</td>\n",
       "      <td>4028.93</td>\n",
       "      <td>Profitable</td>\n",
       "    </tr>\n",
       "    <tr>\n",
       "      <th>Dragon Souveniers, Ltd.</th>\n",
       "      <td>43</td>\n",
       "      <td>172989.68</td>\n",
       "      <td>4023.02</td>\n",
       "      <td>Profitable</td>\n",
       "    </tr>\n",
       "    <tr>\n",
       "      <th>The Sharp Gifts Warehouse</th>\n",
       "      <td>40</td>\n",
       "      <td>160010.27</td>\n",
       "      <td>4000.26</td>\n",
       "      <td>Profitable</td>\n",
       "    </tr>\n",
       "    <tr>\n",
       "      <th>Volvo Model Replicas, Co</th>\n",
       "      <td>19</td>\n",
       "      <td>75754.88</td>\n",
       "      <td>3987.10</td>\n",
       "      <td>Profitable</td>\n",
       "    </tr>\n",
       "    <tr>\n",
       "      <th>Australian Gift Network, Co</th>\n",
       "      <td>15</td>\n",
       "      <td>59469.12</td>\n",
       "      <td>3964.61</td>\n",
       "      <td>Profitable</td>\n",
       "    </tr>\n",
       "    <tr>\n",
       "      <th>Tekni Collectables Inc.</th>\n",
       "      <td>21</td>\n",
       "      <td>83228.19</td>\n",
       "      <td>3963.25</td>\n",
       "      <td>Profitable</td>\n",
       "    </tr>\n",
       "    <tr>\n",
       "      <th>Diecast Classics Inc.</th>\n",
       "      <td>31</td>\n",
       "      <td>122138.14</td>\n",
       "      <td>3939.94</td>\n",
       "      <td>Profitable</td>\n",
       "    </tr>\n",
       "    <tr>\n",
       "      <th>Diecast Collectables</th>\n",
       "      <td>18</td>\n",
       "      <td>70859.78</td>\n",
       "      <td>3936.65</td>\n",
       "      <td>Profitable</td>\n",
       "    </tr>\n",
       "    <tr>\n",
       "      <th>Lyon Souveniers</th>\n",
       "      <td>20</td>\n",
       "      <td>78570.34</td>\n",
       "      <td>3928.52</td>\n",
       "      <td>Profitable</td>\n",
       "    </tr>\n",
       "  </tbody>\n",
       "</table>\n",
       "</div>"
      ],
      "text/plain": [
       "                             tot_orders  tot_sales  avg_sales       class\n",
       "CUSTOMERNAME                                                             \n",
       "Super Scale Inc.                     17   79472.07    4674.83  Profitable\n",
       "Mini Caravy                          19   80438.48    4233.60  Profitable\n",
       "La Corne D'abondance, Co.            23   97203.68    4226.25  Profitable\n",
       "Royale Belge                          8   33440.10    4180.01  Profitable\n",
       "Muscle Machine Inc                   48  197736.94    4119.52  Profitable\n",
       "Gift Depot Inc.                      25  101894.79    4075.79  Profitable\n",
       "UK Collectables, Ltd.                29  118008.27    4069.25  Profitable\n",
       "Danish Wholesale Imports             36  145041.60    4028.93  Profitable\n",
       "Dragon Souveniers, Ltd.              43  172989.68    4023.02  Profitable\n",
       "The Sharp Gifts Warehouse            40  160010.27    4000.26  Profitable\n",
       "Volvo Model Replicas, Co             19   75754.88    3987.10  Profitable\n",
       "Australian Gift Network, Co          15   59469.12    3964.61  Profitable\n",
       "Tekni Collectables Inc.              21   83228.19    3963.25  Profitable\n",
       "Diecast Classics Inc.                31  122138.14    3939.94  Profitable\n",
       "Diecast Collectables                 18   70859.78    3936.65  Profitable\n",
       "Lyon Souveniers                      20   78570.34    3928.52  Profitable"
      ]
     },
     "execution_count": 24,
     "metadata": {},
     "output_type": "execute_result"
    }
   ],
   "source": [
    "customer_data[customer_data['class']==\"Profitable\"].sort_values(by=['avg_sales'], ascending=False)"
   ]
  },
  {
   "cell_type": "markdown",
   "metadata": {},
   "source": [
    "And below are our least profitable customers:"
   ]
  },
  {
   "cell_type": "code",
   "execution_count": 25,
   "metadata": {},
   "outputs": [
    {
     "data": {
      "text/html": [
       "<div>\n",
       "<style scoped>\n",
       "    .dataframe tbody tr th:only-of-type {\n",
       "        vertical-align: middle;\n",
       "    }\n",
       "\n",
       "    .dataframe tbody tr th {\n",
       "        vertical-align: top;\n",
       "    }\n",
       "\n",
       "    .dataframe thead th {\n",
       "        text-align: right;\n",
       "    }\n",
       "</style>\n",
       "<table border=\"1\" class=\"dataframe\">\n",
       "  <thead>\n",
       "    <tr style=\"text-align: right;\">\n",
       "      <th></th>\n",
       "      <th>tot_orders</th>\n",
       "      <th>tot_sales</th>\n",
       "      <th>avg_sales</th>\n",
       "      <th>class</th>\n",
       "    </tr>\n",
       "    <tr>\n",
       "      <th>CUSTOMERNAME</th>\n",
       "      <th></th>\n",
       "      <th></th>\n",
       "      <th></th>\n",
       "      <th></th>\n",
       "    </tr>\n",
       "  </thead>\n",
       "  <tbody>\n",
       "    <tr>\n",
       "      <th>Bavarian Collectables Imports, Co.</th>\n",
       "      <td>14</td>\n",
       "      <td>34993.92</td>\n",
       "      <td>2499.57</td>\n",
       "      <td>Unprofitable</td>\n",
       "    </tr>\n",
       "    <tr>\n",
       "      <th>Australian Collectables, Ltd</th>\n",
       "      <td>23</td>\n",
       "      <td>64591.46</td>\n",
       "      <td>2808.32</td>\n",
       "      <td>Unprofitable</td>\n",
       "    </tr>\n",
       "    <tr>\n",
       "      <th>Signal Gift Stores</th>\n",
       "      <td>29</td>\n",
       "      <td>82751.08</td>\n",
       "      <td>2853.49</td>\n",
       "      <td>Unprofitable</td>\n",
       "    </tr>\n",
       "    <tr>\n",
       "      <th>Royal Canadian Collectables, Ltd.</th>\n",
       "      <td>26</td>\n",
       "      <td>74634.85</td>\n",
       "      <td>2870.57</td>\n",
       "      <td>Unprofitable</td>\n",
       "    </tr>\n",
       "    <tr>\n",
       "      <th>Rovelli Gifts</th>\n",
       "      <td>48</td>\n",
       "      <td>137955.72</td>\n",
       "      <td>2874.08</td>\n",
       "      <td>Unprofitable</td>\n",
       "    </tr>\n",
       "    <tr>\n",
       "      <th>Marseille Mini Autos</th>\n",
       "      <td>25</td>\n",
       "      <td>74936.14</td>\n",
       "      <td>2997.45</td>\n",
       "      <td>Unprofitable</td>\n",
       "    </tr>\n",
       "    <tr>\n",
       "      <th>Petit Auto</th>\n",
       "      <td>25</td>\n",
       "      <td>74972.52</td>\n",
       "      <td>2998.90</td>\n",
       "      <td>Unprofitable</td>\n",
       "    </tr>\n",
       "    <tr>\n",
       "      <th>Double Decker Gift Stores, Ltd</th>\n",
       "      <td>12</td>\n",
       "      <td>36019.04</td>\n",
       "      <td>3001.59</td>\n",
       "      <td>Unprofitable</td>\n",
       "    </tr>\n",
       "    <tr>\n",
       "      <th>giftsbymail.co.uk</th>\n",
       "      <td>26</td>\n",
       "      <td>78240.84</td>\n",
       "      <td>3009.26</td>\n",
       "      <td>Unprofitable</td>\n",
       "    </tr>\n",
       "    <tr>\n",
       "      <th>Gift Ideas Corp.</th>\n",
       "      <td>19</td>\n",
       "      <td>57294.42</td>\n",
       "      <td>3015.50</td>\n",
       "      <td>Unprofitable</td>\n",
       "    </tr>\n",
       "    <tr>\n",
       "      <th>Boards &amp; Toys Co.</th>\n",
       "      <td>3</td>\n",
       "      <td>9129.35</td>\n",
       "      <td>3043.12</td>\n",
       "      <td>Unprofitable</td>\n",
       "    </tr>\n",
       "    <tr>\n",
       "      <th>AV Stores, Co.</th>\n",
       "      <td>51</td>\n",
       "      <td>157807.81</td>\n",
       "      <td>3094.27</td>\n",
       "      <td>Unprofitable</td>\n",
       "    </tr>\n",
       "    <tr>\n",
       "      <th>Mini Creations Ltd.</th>\n",
       "      <td>35</td>\n",
       "      <td>108951.13</td>\n",
       "      <td>3112.89</td>\n",
       "      <td>Unprofitable</td>\n",
       "    </tr>\n",
       "  </tbody>\n",
       "</table>\n",
       "</div>"
      ],
      "text/plain": [
       "                                    tot_orders  tot_sales  avg_sales  \\\n",
       "CUSTOMERNAME                                                           \n",
       "Bavarian Collectables Imports, Co.          14   34993.92    2499.57   \n",
       "Australian Collectables, Ltd                23   64591.46    2808.32   \n",
       "Signal Gift Stores                          29   82751.08    2853.49   \n",
       "Royal Canadian Collectables, Ltd.           26   74634.85    2870.57   \n",
       "Rovelli Gifts                               48  137955.72    2874.08   \n",
       "Marseille Mini Autos                        25   74936.14    2997.45   \n",
       "Petit Auto                                  25   74972.52    2998.90   \n",
       "Double Decker Gift Stores, Ltd              12   36019.04    3001.59   \n",
       "giftsbymail.co.uk                           26   78240.84    3009.26   \n",
       "Gift Ideas Corp.                            19   57294.42    3015.50   \n",
       "Boards & Toys Co.                            3    9129.35    3043.12   \n",
       "AV Stores, Co.                              51  157807.81    3094.27   \n",
       "Mini Creations Ltd.                         35  108951.13    3112.89   \n",
       "\n",
       "                                           class  \n",
       "CUSTOMERNAME                                      \n",
       "Bavarian Collectables Imports, Co.  Unprofitable  \n",
       "Australian Collectables, Ltd        Unprofitable  \n",
       "Signal Gift Stores                  Unprofitable  \n",
       "Royal Canadian Collectables, Ltd.   Unprofitable  \n",
       "Rovelli Gifts                       Unprofitable  \n",
       "Marseille Mini Autos                Unprofitable  \n",
       "Petit Auto                          Unprofitable  \n",
       "Double Decker Gift Stores, Ltd      Unprofitable  \n",
       "giftsbymail.co.uk                   Unprofitable  \n",
       "Gift Ideas Corp.                    Unprofitable  \n",
       "Boards & Toys Co.                   Unprofitable  \n",
       "AV Stores, Co.                      Unprofitable  \n",
       "Mini Creations Ltd.                 Unprofitable  "
      ]
     },
     "execution_count": 25,
     "metadata": {},
     "output_type": "execute_result"
    }
   ],
   "source": [
    "customer_data[customer_data['class']==\"Unprofitable\"].sort_values(by=['avg_sales'], ascending=True)"
   ]
  },
  {
   "cell_type": "markdown",
   "metadata": {},
   "source": [
    "So in theory, we would want to prioritize our efforts on our most profitable customers, and spend less time nurturing less profitable customers. We might also want to focus our efforts on acquiring customers that are similar to our profitable customers. But first, we should examine whether the difference between the profitable and average customers is signficant enough to warrant treating them differently."
   ]
  },
  {
   "cell_type": "markdown",
   "metadata": {},
   "source": [
    "## 2. Is there a difference between profitable customers and average customers?"
   ]
  },
  {
   "cell_type": "markdown",
   "metadata": {},
   "source": [
    "Let's test the hypothesis that the average order value for profitable customers is not significantly different from the average order value. "
   ]
  },
  {
   "cell_type": "code",
   "execution_count": 26,
   "metadata": {},
   "outputs": [
    {
     "data": {
      "text/plain": [
       "Ttest_1sampResult(statistic=11.440671532245702, pvalue=8.276594505520693e-09)"
      ]
     },
     "execution_count": 26,
     "metadata": {},
     "output_type": "execute_result"
    }
   ],
   "source": [
    "profitable = customer_data[customer_data['class']==\"Profitable\"]\n",
    "ttest_1samp(profitable['avg_sales'],np.mean(customer_data['avg_sales']))"
   ]
  },
  {
   "cell_type": "markdown",
   "metadata": {},
   "source": [
    "This small p-value (typically ≤ 0.05) indicates strong evidence against the null hypothesis, so we can reject the null hypothesis that there is no difference between the two groups. This suggests that we should treat profitable customers differently."
   ]
  },
  {
   "cell_type": "markdown",
   "metadata": {},
   "source": [
    "## 3. Can we characterize profitable customers?"
   ]
  },
  {
   "cell_type": "markdown",
   "metadata": {},
   "source": [
    "What do profitable customers look like? There are couple of ways we can use the data to characterise our customers:\n",
    "1. Country\n",
    "2. What product types they buy\n",
    "3. What specific products they buy\n",
    "\n",
    "Let's check the different options in each category to see what we're dealing with."
   ]
  },
  {
   "cell_type": "code",
   "execution_count": 27,
   "metadata": {},
   "outputs": [
    {
     "name": "stdout",
     "output_type": "stream",
     "text": [
      "19\n",
      "7\n",
      "109\n"
     ]
    }
   ],
   "source": [
    "print(sales_data['COUNTRY'].value_counts().count())\n",
    "print(sales_data['PRODUCTLINE'].value_counts().count())\n",
    "print(sales_data['PRODUCTCODE'].value_counts().count())"
   ]
  },
  {
   "cell_type": "code",
   "execution_count": 28,
   "metadata": {},
   "outputs": [
    {
     "data": {
      "image/png": "[encoded data removed]",
      "text/plain": [
       "<Figure size 576x72 with 1 Axes>"
      ]
     },
     "metadata": {},
     "output_type": "display_data"
    }
   ],
   "source": [
    "country_count = sales_data['COUNTRY'].value_counts()\n",
    "sns.set(style=\"darkgrid\")\n",
    "sns.set(rc={'figure.figsize':(15,7)})\n",
    "sns.palplot(sns.color_palette(\"husl\", 8))\n",
    "sns.barplot(country_count.index, country_count.values, alpha=0.9)\n",
    "plt.title('Frequency Distribution of Customer Locations')\n",
    "plt.ylabel('Number of Customers', fontsize=12)\n",
    "plt.xlabel('Country', fontsize=12)\n",
    "plt.show()"
   ]
  },
  {
   "cell_type": "code",
   "execution_count": 29,
   "metadata": {},
   "outputs": [
    {
     "data": {
      "image/png": "[encoded data removed]",
      "text/plain": [
       "<Figure size 1080x504 with 1 Axes>"
      ]
     },
     "metadata": {},
     "output_type": "display_data"
    }
   ],
   "source": [
    "product_count = sales_data['PRODUCTLINE'].value_counts()\n",
    "sns.set(style=\"darkgrid\")\n",
    "sns.set(rc={'figure.figsize':(15,7)})\n",
    "sns.barplot(product_count.index, product_count.values, alpha=0.9)\n",
    "plt.title('Frequency Distribution of Products')\n",
    "plt.ylabel('Number of products sold', fontsize=12)\n",
    "plt.xlabel('Product', fontsize=12)\n",
    "plt.show()"
   ]
  },
  {
   "cell_type": "markdown",
   "metadata": {},
   "source": [
    "We have 19 countries, 7 product types, and 109 different products. For modelling purposes, we shall focus on the first two, because 109 products is likely to be introduce too many characteristics for a model to learn.\n"
   ]
  },
  {
   "cell_type": "markdown",
   "metadata": {},
   "source": [
    "We need to convert our categorical data into numerical data to prepare it for machine learning."
   ]
  },
  {
   "cell_type": "markdown",
   "metadata": {},
   "source": [
    "#### Preparing Country Data"
   ]
  },
  {
   "cell_type": "code",
   "execution_count": 30,
   "metadata": {},
   "outputs": [
    {
     "name": "stdout",
     "output_type": "stream",
     "text": [
      "{'COUNTRY': {'Australia': 1, 'Austria': 2, 'Belgium': 3, 'Canada': 4, 'Denmark': 5, 'Finland': 6, 'France': 7, 'Germany': 8, 'Ireland': 9, 'Italy': 10, 'Japan': 11, 'Norway': 12, 'Philippines': 13, 'Singapore': 14, 'Spain': 15, 'Sweden': 16, 'Switzerland': 17, 'UK': 18, 'USA': 19}}\n"
     ]
    }
   ],
   "source": [
    "labels = sales_data['COUNTRY'].astype('category').cat.categories.tolist()\n",
    "replace_map_comp = {'COUNTRY' : {k: v for k,v in zip(labels,list(range(1,len(labels)+1)))}}\n",
    "print(replace_map_comp)"
   ]
  },
  {
   "cell_type": "code",
   "execution_count": 31,
   "metadata": {},
   "outputs": [],
   "source": [
    "sales_data_replace = sales_data.copy()\n",
    "sales_data_replace.replace(replace_map_comp, inplace=True)"
   ]
  },
  {
   "cell_type": "code",
   "execution_count": 32,
   "metadata": {},
   "outputs": [
    {
     "data": {
      "text/html": [
       "<div>\n",
       "<style scoped>\n",
       "    .dataframe tbody tr th:only-of-type {\n",
       "        vertical-align: middle;\n",
       "    }\n",
       "\n",
       "    .dataframe tbody tr th {\n",
       "        vertical-align: top;\n",
       "    }\n",
       "\n",
       "    .dataframe thead th {\n",
       "        text-align: right;\n",
       "    }\n",
       "</style>\n",
       "<table border=\"1\" class=\"dataframe\">\n",
       "  <thead>\n",
       "    <tr style=\"text-align: right;\">\n",
       "      <th></th>\n",
       "      <th>CUSTOMERNAME</th>\n",
       "      <th>SALES</th>\n",
       "      <th>PRODUCTLINE</th>\n",
       "      <th>PRODUCTCODE</th>\n",
       "      <th>COUNTRY</th>\n",
       "      <th>DEALSIZE</th>\n",
       "    </tr>\n",
       "    <tr>\n",
       "      <th>ORDERDATE</th>\n",
       "      <th></th>\n",
       "      <th></th>\n",
       "      <th></th>\n",
       "      <th></th>\n",
       "      <th></th>\n",
       "      <th></th>\n",
       "    </tr>\n",
       "  </thead>\n",
       "  <tbody>\n",
       "    <tr>\n",
       "      <th>2003-01-06</th>\n",
       "      <td>Online Diecast Creations Co.</td>\n",
       "      <td>5151.00</td>\n",
       "      <td>Vintage Cars</td>\n",
       "      <td>S18_1749</td>\n",
       "      <td>19</td>\n",
       "      <td>Medium</td>\n",
       "    </tr>\n",
       "    <tr>\n",
       "      <th>2003-01-06</th>\n",
       "      <td>Online Diecast Creations Co.</td>\n",
       "      <td>3390.00</td>\n",
       "      <td>Vintage Cars</td>\n",
       "      <td>S18_2248</td>\n",
       "      <td>19</td>\n",
       "      <td>Medium</td>\n",
       "    </tr>\n",
       "    <tr>\n",
       "      <th>2003-01-06</th>\n",
       "      <td>Online Diecast Creations Co.</td>\n",
       "      <td>1903.22</td>\n",
       "      <td>Vintage Cars</td>\n",
       "      <td>S18_4409</td>\n",
       "      <td>19</td>\n",
       "      <td>Small</td>\n",
       "    </tr>\n",
       "    <tr>\n",
       "      <th>2003-01-06</th>\n",
       "      <td>Online Diecast Creations Co.</td>\n",
       "      <td>1689.03</td>\n",
       "      <td>Vintage Cars</td>\n",
       "      <td>S24_3969</td>\n",
       "      <td>19</td>\n",
       "      <td>Small</td>\n",
       "    </tr>\n",
       "    <tr>\n",
       "      <th>2003-01-09</th>\n",
       "      <td>Blauer See Auto, Co.</td>\n",
       "      <td>1404.00</td>\n",
       "      <td>Vintage Cars</td>\n",
       "      <td>S24_1937</td>\n",
       "      <td>8</td>\n",
       "      <td>Small</td>\n",
       "    </tr>\n",
       "  </tbody>\n",
       "</table>\n",
       "</div>"
      ],
      "text/plain": [
       "                            CUSTOMERNAME    SALES   PRODUCTLINE PRODUCTCODE  \\\n",
       "ORDERDATE                                                                     \n",
       "2003-01-06  Online Diecast Creations Co.  5151.00  Vintage Cars    S18_1749   \n",
       "2003-01-06  Online Diecast Creations Co.  3390.00  Vintage Cars    S18_2248   \n",
       "2003-01-06  Online Diecast Creations Co.  1903.22  Vintage Cars    S18_4409   \n",
       "2003-01-06  Online Diecast Creations Co.  1689.03  Vintage Cars    S24_3969   \n",
       "2003-01-09          Blauer See Auto, Co.  1404.00  Vintage Cars    S24_1937   \n",
       "\n",
       "            COUNTRY DEALSIZE  \n",
       "ORDERDATE                     \n",
       "2003-01-06       19   Medium  \n",
       "2003-01-06       19   Medium  \n",
       "2003-01-06       19    Small  \n",
       "2003-01-06       19    Small  \n",
       "2003-01-09        8    Small  "
      ]
     },
     "execution_count": 32,
     "metadata": {},
     "output_type": "execute_result"
    }
   ],
   "source": [
    "sales_data_replace.head()"
   ]
  },
  {
   "cell_type": "markdown",
   "metadata": {},
   "source": [
    "#### Preparing Product Data "
   ]
  },
  {
   "cell_type": "code",
   "execution_count": 33,
   "metadata": {},
   "outputs": [],
   "source": [
    "product_sales = pd.crosstab(sales_data.CUSTOMERNAME, sales_data.PRODUCTLINE)"
   ]
  },
  {
   "cell_type": "code",
   "execution_count": 34,
   "metadata": {},
   "outputs": [
    {
     "data": {
      "text/html": [
       "<div>\n",
       "<style scoped>\n",
       "    .dataframe tbody tr th:only-of-type {\n",
       "        vertical-align: middle;\n",
       "    }\n",
       "\n",
       "    .dataframe tbody tr th {\n",
       "        vertical-align: top;\n",
       "    }\n",
       "\n",
       "    .dataframe thead th {\n",
       "        text-align: right;\n",
       "    }\n",
       "</style>\n",
       "<table border=\"1\" class=\"dataframe\">\n",
       "  <thead>\n",
       "    <tr style=\"text-align: right;\">\n",
       "      <th>PRODUCTLINE</th>\n",
       "      <th>Classic Cars</th>\n",
       "      <th>Motorcycles</th>\n",
       "      <th>Planes</th>\n",
       "      <th>Ships</th>\n",
       "      <th>Trains</th>\n",
       "      <th>Trucks and Buses</th>\n",
       "      <th>Vintage Cars</th>\n",
       "    </tr>\n",
       "    <tr>\n",
       "      <th>CUSTOMERNAME</th>\n",
       "      <th></th>\n",
       "      <th></th>\n",
       "      <th></th>\n",
       "      <th></th>\n",
       "      <th></th>\n",
       "      <th></th>\n",
       "      <th></th>\n",
       "    </tr>\n",
       "  </thead>\n",
       "  <tbody>\n",
       "    <tr>\n",
       "      <th>AV Stores, Co.</th>\n",
       "      <td>19</td>\n",
       "      <td>0</td>\n",
       "      <td>0</td>\n",
       "      <td>7</td>\n",
       "      <td>3</td>\n",
       "      <td>0</td>\n",
       "      <td>22</td>\n",
       "    </tr>\n",
       "    <tr>\n",
       "      <th>Alpha Cognac</th>\n",
       "      <td>4</td>\n",
       "      <td>0</td>\n",
       "      <td>6</td>\n",
       "      <td>7</td>\n",
       "      <td>0</td>\n",
       "      <td>0</td>\n",
       "      <td>3</td>\n",
       "    </tr>\n",
       "    <tr>\n",
       "      <th>Amica Models &amp; Co.</th>\n",
       "      <td>4</td>\n",
       "      <td>0</td>\n",
       "      <td>0</td>\n",
       "      <td>3</td>\n",
       "      <td>1</td>\n",
       "      <td>1</td>\n",
       "      <td>17</td>\n",
       "    </tr>\n",
       "    <tr>\n",
       "      <th>Anna's Decorations, Ltd</th>\n",
       "      <td>24</td>\n",
       "      <td>6</td>\n",
       "      <td>0</td>\n",
       "      <td>0</td>\n",
       "      <td>0</td>\n",
       "      <td>9</td>\n",
       "      <td>7</td>\n",
       "    </tr>\n",
       "    <tr>\n",
       "      <th>Atelier graphique</th>\n",
       "      <td>4</td>\n",
       "      <td>2</td>\n",
       "      <td>0</td>\n",
       "      <td>0</td>\n",
       "      <td>0</td>\n",
       "      <td>0</td>\n",
       "      <td>1</td>\n",
       "    </tr>\n",
       "  </tbody>\n",
       "</table>\n",
       "</div>"
      ],
      "text/plain": [
       "PRODUCTLINE              Classic Cars  Motorcycles  Planes  Ships  Trains  \\\n",
       "CUSTOMERNAME                                                                \n",
       "AV Stores, Co.                     19            0       0      7       3   \n",
       "Alpha Cognac                        4            0       6      7       0   \n",
       "Amica Models & Co.                  4            0       0      3       1   \n",
       "Anna's Decorations, Ltd            24            6       0      0       0   \n",
       "Atelier graphique                   4            2       0      0       0   \n",
       "\n",
       "PRODUCTLINE              Trucks and Buses  Vintage Cars  \n",
       "CUSTOMERNAME                                             \n",
       "AV Stores, Co.                          0            22  \n",
       "Alpha Cognac                            0             3  \n",
       "Amica Models & Co.                      1            17  \n",
       "Anna's Decorations, Ltd                 9             7  \n",
       "Atelier graphique                       0             1  "
      ]
     },
     "execution_count": 34,
     "metadata": {},
     "output_type": "execute_result"
    }
   ],
   "source": [
    "product_sales.head()"
   ]
  },
  {
   "cell_type": "markdown",
   "metadata": {},
   "source": [
    "We need to standardize this data, because what's important is the distribution of products sold across the customers. "
   ]
  },
  {
   "cell_type": "code",
   "execution_count": 35,
   "metadata": {},
   "outputs": [],
   "source": [
    "standardized_data = ((pd.DataFrame(preprocessing.scale(product_sales), \n",
    "                            index=product_sales.index, \n",
    "                            columns=product_sales.columns)).merge(customer_data, \n",
    "                                                                  how='inner', \n",
    "                                                                  on='CUSTOMERNAME')).merge(sales_data_replace,\n",
    "                                how='left',\n",
    "                                on='CUSTOMERNAME').drop_duplicates(subset='CUSTOMERNAME', \n",
    "                                                                   keep='first').drop(['PRODUCTLINE','PRODUCTCODE',\n",
    "                                                                                    'DEALSIZE','tot_orders','tot_sales',\n",
    "                                                                                    'SALES','avg_sales'],axis=1)\n",
    "label = standardized_data['class']\n",
    "standardized_data.drop(labels=['class'], axis=1,inplace = True)\n",
    "standardized_data.insert(9, 'class', label)\n",
    "standardized_data = standardized_data.drop('CUSTOMERNAME',axis=1)"
   ]
  },
  {
   "cell_type": "code",
   "execution_count": 36,
   "metadata": {},
   "outputs": [
    {
     "data": {
      "text/html": [
       "<div>\n",
       "<style scoped>\n",
       "    .dataframe tbody tr th:only-of-type {\n",
       "        vertical-align: middle;\n",
       "    }\n",
       "\n",
       "    .dataframe tbody tr th {\n",
       "        vertical-align: top;\n",
       "    }\n",
       "\n",
       "    .dataframe thead th {\n",
       "        text-align: right;\n",
       "    }\n",
       "</style>\n",
       "<table border=\"1\" class=\"dataframe\">\n",
       "  <thead>\n",
       "    <tr style=\"text-align: right;\">\n",
       "      <th></th>\n",
       "      <th>Classic Cars</th>\n",
       "      <th>Motorcycles</th>\n",
       "      <th>Planes</th>\n",
       "      <th>Ships</th>\n",
       "      <th>Trains</th>\n",
       "      <th>Trucks and Buses</th>\n",
       "      <th>Vintage Cars</th>\n",
       "      <th>COUNTRY</th>\n",
       "      <th>class</th>\n",
       "    </tr>\n",
       "  </thead>\n",
       "  <tbody>\n",
       "    <tr>\n",
       "      <th>0</th>\n",
       "      <td>0.622872</td>\n",
       "      <td>-0.761786</td>\n",
       "      <td>-0.679517</td>\n",
       "      <td>1.139645</td>\n",
       "      <td>1.266027</td>\n",
       "      <td>-0.592820</td>\n",
       "      <td>1.943155</td>\n",
       "      <td>18</td>\n",
       "      <td>Unprofitable</td>\n",
       "    </tr>\n",
       "    <tr>\n",
       "      <th>51</th>\n",
       "      <td>-0.477721</td>\n",
       "      <td>-0.761786</td>\n",
       "      <td>0.546278</td>\n",
       "      <td>1.139645</td>\n",
       "      <td>-0.489870</td>\n",
       "      <td>-0.592820</td>\n",
       "      <td>-0.453906</td>\n",
       "      <td>7</td>\n",
       "      <td>Average</td>\n",
       "    </tr>\n",
       "    <tr>\n",
       "      <th>71</th>\n",
       "      <td>-0.477721</td>\n",
       "      <td>-0.761786</td>\n",
       "      <td>-0.679517</td>\n",
       "      <td>0.116744</td>\n",
       "      <td>0.095429</td>\n",
       "      <td>-0.411626</td>\n",
       "      <td>1.312350</td>\n",
       "      <td>10</td>\n",
       "      <td>Average</td>\n",
       "    </tr>\n",
       "    <tr>\n",
       "      <th>97</th>\n",
       "      <td>0.989737</td>\n",
       "      <td>0.508624</td>\n",
       "      <td>-0.679517</td>\n",
       "      <td>-0.650432</td>\n",
       "      <td>-0.489870</td>\n",
       "      <td>1.037927</td>\n",
       "      <td>0.050739</td>\n",
       "      <td>1</td>\n",
       "      <td>Average</td>\n",
       "    </tr>\n",
       "    <tr>\n",
       "      <th>143</th>\n",
       "      <td>-0.477721</td>\n",
       "      <td>-0.338316</td>\n",
       "      <td>-0.679517</td>\n",
       "      <td>-0.650432</td>\n",
       "      <td>-0.489870</td>\n",
       "      <td>-0.592820</td>\n",
       "      <td>-0.706228</td>\n",
       "      <td>7</td>\n",
       "      <td>Average</td>\n",
       "    </tr>\n",
       "  </tbody>\n",
       "</table>\n",
       "</div>"
      ],
      "text/plain": [
       "     Classic Cars  Motorcycles    Planes     Ships    Trains  \\\n",
       "0        0.622872    -0.761786 -0.679517  1.139645  1.266027   \n",
       "51      -0.477721    -0.761786  0.546278  1.139645 -0.489870   \n",
       "71      -0.477721    -0.761786 -0.679517  0.116744  0.095429   \n",
       "97       0.989737     0.508624 -0.679517 -0.650432 -0.489870   \n",
       "143     -0.477721    -0.338316 -0.679517 -0.650432 -0.489870   \n",
       "\n",
       "     Trucks and Buses  Vintage Cars  COUNTRY         class  \n",
       "0           -0.592820      1.943155       18  Unprofitable  \n",
       "51          -0.592820     -0.453906        7       Average  \n",
       "71          -0.411626      1.312350       10       Average  \n",
       "97           1.037927      0.050739        1       Average  \n",
       "143         -0.592820     -0.706228        7       Average  "
      ]
     },
     "execution_count": 36,
     "metadata": {},
     "output_type": "execute_result"
    }
   ],
   "source": [
    "standardized_data.head()"
   ]
  },
  {
   "cell_type": "markdown",
   "metadata": {},
   "source": [
    "#### Creating class variable"
   ]
  },
  {
   "cell_type": "code",
   "execution_count": 37,
   "metadata": {},
   "outputs": [
    {
     "name": "stdout",
     "output_type": "stream",
     "text": [
      "{'class': {'Average': 1, 'Profitable': 2, 'Unprofitable': 3}}\n"
     ]
    }
   ],
   "source": [
    "customer_labels = standardized_data['class'].astype('category').cat.categories.tolist()\n",
    "replace_map_cust = {'class' : {k: v for k,v in zip(customer_labels,list(range(1,len(customer_labels)+1)))}}\n",
    "print(replace_map_cust)"
   ]
  },
  {
   "cell_type": "code",
   "execution_count": 38,
   "metadata": {},
   "outputs": [],
   "source": [
    "standardized_data_replace = standardized_data.copy()\n",
    "standardized_data_replace.replace(replace_map_cust, inplace=True)"
   ]
  },
  {
   "cell_type": "code",
   "execution_count": 39,
   "metadata": {},
   "outputs": [
    {
     "data": {
      "text/html": [
       "<div>\n",
       "<style scoped>\n",
       "    .dataframe tbody tr th:only-of-type {\n",
       "        vertical-align: middle;\n",
       "    }\n",
       "\n",
       "    .dataframe tbody tr th {\n",
       "        vertical-align: top;\n",
       "    }\n",
       "\n",
       "    .dataframe thead th {\n",
       "        text-align: right;\n",
       "    }\n",
       "</style>\n",
       "<table border=\"1\" class=\"dataframe\">\n",
       "  <thead>\n",
       "    <tr style=\"text-align: right;\">\n",
       "      <th></th>\n",
       "      <th>Classic Cars</th>\n",
       "      <th>Motorcycles</th>\n",
       "      <th>Planes</th>\n",
       "      <th>Ships</th>\n",
       "      <th>Trains</th>\n",
       "      <th>Trucks and Buses</th>\n",
       "      <th>Vintage Cars</th>\n",
       "      <th>COUNTRY</th>\n",
       "      <th>class</th>\n",
       "    </tr>\n",
       "  </thead>\n",
       "  <tbody>\n",
       "    <tr>\n",
       "      <th>0</th>\n",
       "      <td>0.622872</td>\n",
       "      <td>-0.761786</td>\n",
       "      <td>-0.679517</td>\n",
       "      <td>1.139645</td>\n",
       "      <td>1.266027</td>\n",
       "      <td>-0.592820</td>\n",
       "      <td>1.943155</td>\n",
       "      <td>18</td>\n",
       "      <td>3</td>\n",
       "    </tr>\n",
       "    <tr>\n",
       "      <th>51</th>\n",
       "      <td>-0.477721</td>\n",
       "      <td>-0.761786</td>\n",
       "      <td>0.546278</td>\n",
       "      <td>1.139645</td>\n",
       "      <td>-0.489870</td>\n",
       "      <td>-0.592820</td>\n",
       "      <td>-0.453906</td>\n",
       "      <td>7</td>\n",
       "      <td>1</td>\n",
       "    </tr>\n",
       "    <tr>\n",
       "      <th>71</th>\n",
       "      <td>-0.477721</td>\n",
       "      <td>-0.761786</td>\n",
       "      <td>-0.679517</td>\n",
       "      <td>0.116744</td>\n",
       "      <td>0.095429</td>\n",
       "      <td>-0.411626</td>\n",
       "      <td>1.312350</td>\n",
       "      <td>10</td>\n",
       "      <td>1</td>\n",
       "    </tr>\n",
       "    <tr>\n",
       "      <th>97</th>\n",
       "      <td>0.989737</td>\n",
       "      <td>0.508624</td>\n",
       "      <td>-0.679517</td>\n",
       "      <td>-0.650432</td>\n",
       "      <td>-0.489870</td>\n",
       "      <td>1.037927</td>\n",
       "      <td>0.050739</td>\n",
       "      <td>1</td>\n",
       "      <td>1</td>\n",
       "    </tr>\n",
       "    <tr>\n",
       "      <th>143</th>\n",
       "      <td>-0.477721</td>\n",
       "      <td>-0.338316</td>\n",
       "      <td>-0.679517</td>\n",
       "      <td>-0.650432</td>\n",
       "      <td>-0.489870</td>\n",
       "      <td>-0.592820</td>\n",
       "      <td>-0.706228</td>\n",
       "      <td>7</td>\n",
       "      <td>1</td>\n",
       "    </tr>\n",
       "  </tbody>\n",
       "</table>\n",
       "</div>"
      ],
      "text/plain": [
       "     Classic Cars  Motorcycles    Planes     Ships    Trains  \\\n",
       "0        0.622872    -0.761786 -0.679517  1.139645  1.266027   \n",
       "51      -0.477721    -0.761786  0.546278  1.139645 -0.489870   \n",
       "71      -0.477721    -0.761786 -0.679517  0.116744  0.095429   \n",
       "97       0.989737     0.508624 -0.679517 -0.650432 -0.489870   \n",
       "143     -0.477721    -0.338316 -0.679517 -0.650432 -0.489870   \n",
       "\n",
       "     Trucks and Buses  Vintage Cars  COUNTRY  class  \n",
       "0           -0.592820      1.943155       18      3  \n",
       "51          -0.592820     -0.453906        7      1  \n",
       "71          -0.411626      1.312350       10      1  \n",
       "97           1.037927      0.050739        1      1  \n",
       "143         -0.592820     -0.706228        7      1  "
      ]
     },
     "execution_count": 39,
     "metadata": {},
     "output_type": "execute_result"
    }
   ],
   "source": [
    "standardized_data_replace.head()"
   ]
  },
  {
   "cell_type": "code",
   "execution_count": 40,
   "metadata": {},
   "outputs": [
    {
     "data": {
      "text/plain": [
       "1    63\n",
       "2    16\n",
       "3    13\n",
       "Name: class, dtype: int64"
      ]
     },
     "execution_count": 40,
     "metadata": {},
     "output_type": "execute_result"
    }
   ],
   "source": [
    "standardized_data_replace['class'].value_counts()"
   ]
  },
  {
   "cell_type": "code",
   "execution_count": 41,
   "metadata": {},
   "outputs": [],
   "source": [
    "X = standardized_data_replace.drop(['class'], axis = 1)\n",
    "y = standardized_data_replace['class'] \n",
    "\n",
    "X_train, X_test, y_train, y_test = train_test_split(X, y, test_size=0.30)"
   ]
  },
  {
   "cell_type": "markdown",
   "metadata": {},
   "source": [
    "#### Using KNN "
   ]
  },
  {
   "cell_type": "code",
   "execution_count": 42,
   "metadata": {},
   "outputs": [
    {
     "name": "stdout",
     "output_type": "stream",
     "text": [
      "4 KNN Accuracy: 71.43%\n"
     ]
    }
   ],
   "source": [
    "from sklearn.neighbors import KNeighborsClassifier\n",
    "knn = KNeighborsClassifier(n_neighbors = 4)  # n_neighbors means k\n",
    "knn.fit(X_train, y_train)\n",
    "y_pred = knn.predict(X_test)\n",
    "print(f\"4 KNN Accuracy: {round(knn.score(X_test, y_test)*100,2)}%\")"
   ]
  },
  {
   "cell_type": "code",
   "execution_count": 43,
   "metadata": {},
   "outputs": [
    {
     "name": "stdout",
     "output_type": "stream",
     "text": [
      "{'class': {'Average': 1, 'Profitable': 2, 'Unprofitable': 3}}\n",
      "Confusion Matrix :\n",
      "[[20  0  1]\n",
      " [ 6  0  0]\n",
      " [ 1  0  0]]\n",
      "Accuracy Score : 0.7142857142857143\n",
      "Report : \n",
      "              precision    recall  f1-score   support\n",
      "\n",
      "           1       0.74      0.95      0.83        21\n",
      "           2       0.00      0.00      0.00         6\n",
      "           3       0.00      0.00      0.00         1\n",
      "\n",
      "    accuracy                           0.71        28\n",
      "   macro avg       0.25      0.32      0.28        28\n",
      "weighted avg       0.56      0.71      0.62        28\n",
      "\n"
     ]
    },
    {
     "name": "stderr",
     "output_type": "stream",
     "text": [
      "C:\\Users\\lukes\\Anaconda3\\lib\\site-packages\\sklearn\\metrics\\classification.py:1437: UndefinedMetricWarning: Precision and F-score are ill-defined and being set to 0.0 in labels with no predicted samples.\n",
      "  'precision', 'predicted', average, warn_for)\n"
     ]
    }
   ],
   "source": [
    "results = confusion_matrix(y_test, y_pred) \n",
    "print(replace_map_cust)\n",
    "print ('Confusion Matrix :')\n",
    "print(results) \n",
    "print ('Accuracy Score :',accuracy_score(y_test, y_pred)) \n",
    "print ('Report : ')\n",
    "print (classification_report(y_test, y_pred))"
   ]
  },
  {
   "cell_type": "markdown",
   "metadata": {},
   "source": [
    "Using the KNeighbours classifier, it appears that we can correcrtly classify customers with an accuracy of 76%."
   ]
  },
  {
   "cell_type": "markdown",
   "metadata": {},
   "source": [
    "#### Using Random Forest"
   ]
  },
  {
   "cell_type": "code",
   "execution_count": 44,
   "metadata": {},
   "outputs": [],
   "source": [
    "from sklearn.ensemble import RandomForestClassifier\n",
    "clf=RandomForestClassifier(n_estimators=100)\n",
    "clf.fit(X_train,y_train)\n",
    "y_pred=clf.predict(X_test)"
   ]
  },
  {
   "cell_type": "code",
   "execution_count": 45,
   "metadata": {},
   "outputs": [
    {
     "name": "stdout",
     "output_type": "stream",
     "text": [
      "Random Forest Accuracy: 75.0%\n"
     ]
    }
   ],
   "source": [
    "from sklearn import metrics\n",
    "print(f\"Random Forest Accuracy: {round(metrics.accuracy_score(y_test, y_pred)*100,2)}%\")"
   ]
  },
  {
   "cell_type": "code",
   "execution_count": 46,
   "metadata": {},
   "outputs": [
    {
     "name": "stdout",
     "output_type": "stream",
     "text": [
      "{'class': {'Average': 1, 'Profitable': 2, 'Unprofitable': 3}}\n",
      "Confusion Matrix :\n",
      "[[19  1  1]\n",
      " [ 5  1  0]\n",
      " [ 0  0  1]]\n",
      "Accuracy Score : 0.75\n",
      "Report : \n",
      "              precision    recall  f1-score   support\n",
      "\n",
      "           1       0.79      0.90      0.84        21\n",
      "           2       0.50      0.17      0.25         6\n",
      "           3       0.50      1.00      0.67         1\n",
      "\n",
      "    accuracy                           0.75        28\n",
      "   macro avg       0.60      0.69      0.59        28\n",
      "weighted avg       0.72      0.75      0.71        28\n",
      "\n"
     ]
    }
   ],
   "source": [
    "results = confusion_matrix(y_test, y_pred) \n",
    "print(replace_map_cust)\n",
    "print ('Confusion Matrix :')\n",
    "print(results) \n",
    "print ('Accuracy Score :',accuracy_score(y_test, y_pred)) \n",
    "print ('Report : ')\n",
    "print (classification_report(y_test, y_pred))"
   ]
  },
  {
   "cell_type": "markdown",
   "metadata": {},
   "source": [
    "We can see which features are most important to our classification model:"
   ]
  },
  {
   "cell_type": "code",
   "execution_count": 47,
   "metadata": {},
   "outputs": [
    {
     "data": {
      "text/plain": [
       "RandomForestClassifier(bootstrap=True, class_weight=None, criterion='gini',\n",
       "                       max_depth=None, max_features='auto', max_leaf_nodes=None,\n",
       "                       min_impurity_decrease=0.0, min_impurity_split=None,\n",
       "                       min_samples_leaf=1, min_samples_split=2,\n",
       "                       min_weight_fraction_leaf=0.0, n_estimators=100, n_jobs=1,\n",
       "                       oob_score=False, random_state=None, verbose=0,\n",
       "                       warm_start=False)"
      ]
     },
     "execution_count": 47,
     "metadata": {},
     "output_type": "execute_result"
    }
   ],
   "source": [
    "RandomForestClassifier(bootstrap=True, class_weight=None, criterion='gini',\n",
    "            max_depth=None, max_features='auto', max_leaf_nodes=None,\n",
    "            min_impurity_decrease=0.0, min_impurity_split=None,\n",
    "            min_samples_leaf=1, min_samples_split=2,\n",
    "            min_weight_fraction_leaf=0.0, n_estimators=100, n_jobs=1,\n",
    "            oob_score=False, random_state=None, verbose=0,\n",
    "            warm_start=False)"
   ]
  },
  {
   "cell_type": "code",
   "execution_count": 48,
   "metadata": {},
   "outputs": [],
   "source": [
    "feature_imp = pd.Series(clf.feature_importances_,index=X.columns).sort_values(ascending=False)"
   ]
  },
  {
   "cell_type": "code",
   "execution_count": 49,
   "metadata": {},
   "outputs": [
    {
     "data": {
      "image/png": "[encoded data removed]",
      "text/plain": [
       "<Figure size 1080x504 with 1 Axes>"
      ]
     },
     "metadata": {},
     "output_type": "display_data"
    }
   ],
   "source": [
    "sns.barplot(x=feature_imp, y=feature_imp.index)\n",
    "plt.xlabel('Feature Importance Score')\n",
    "plt.ylabel('Features')\n",
    "plt.show()"
   ]
  },
  {
   "cell_type": "markdown",
   "metadata": {},
   "source": [
    "## 4. Can we predict if a new customer will be profitable? "
   ]
  },
  {
   "cell_type": "markdown",
   "metadata": {},
   "source": [
    "For this scenario, we will see if we can predict if a company will profitable in two years, based on an analysis of their behaviour during the first year. "
   ]
  },
  {
   "cell_type": "code",
   "execution_count": 50,
   "metadata": {},
   "outputs": [
    {
     "data": {
      "text/plain": [
       "Int64Index([2004, 2003, 2005], dtype='int64')"
      ]
     },
     "execution_count": 50,
     "metadata": {},
     "output_type": "execute_result"
    }
   ],
   "source": [
    "data['YEAR_ID'].value_counts().index"
   ]
  },
  {
   "cell_type": "markdown",
   "metadata": {},
   "source": [
    "We can train our model on data just from year 2003 to see if it can predict who are the profitable custoemrs in 2005."
   ]
  },
  {
   "cell_type": "code",
   "execution_count": 51,
   "metadata": {},
   "outputs": [],
   "source": [
    "sales_data_2003 = data[data['YEAR_ID']==2003].drop(['ORDERNUMBER','QUANTITYORDERED','PRICEEACH','ORDERLINENUMBER','STATUS','QTR_ID',\n",
    "                       'MSRP','PHONE','ADDRESSLINE1','ADDRESSLINE2','CITY','STATE','POSTALCODE',\n",
    "                       'TERRITORY','CONTACTLASTNAME','CONTACTFIRSTNAME','MONTH_ID',\n",
    "                       'YEAR_ID'],axis=1)\n",
    "column_order = ['ORDERDATE','CUSTOMERNAME',\n",
    "               'SALES','PRODUCTLINE','PRODUCTCODE',\n",
    "               'COUNTRY','DEALSIZE']\n",
    "sales_data_2003 = sales_data_2003[column_order]\n",
    "sales_data_2003['ORDERDATE']= pd.to_datetime(sales_data_2003['ORDERDATE'])\n",
    "sales_data_2003 = sales_data_2003.sort_values(by=['ORDERDATE'], ascending=True)\n",
    "sales_data_2003 = sales_data_2003.set_index('ORDERDATE')\n",
    "tot_sales_2003 = sales_data_2003.groupby(['CUSTOMERNAME']).sum().sort_values(by=['SALES'],ascending=False)\n",
    "tot_orders_2003 = sales_data_2003.groupby(['CUSTOMERNAME']).count().sort_values(by=['SALES'],ascending=False).drop(['PRODUCTLINE',\n",
    "                                                                                                          'PRODUCTCODE',\n",
    "                                                                                                          'COUNTRY',\n",
    "                                                                                                          'DEALSIZE'],axis=1)"
   ]
  },
  {
   "cell_type": "code",
   "execution_count": 52,
   "metadata": {},
   "outputs": [],
   "source": [
    "customer_data_2003 = pd.merge(tot_orders_2003, tot_sales_2003, on='CUSTOMERNAME')\n",
    "customer_data_2003.columns = ['tot_orders_2003','tot_sales_2003']"
   ]
  },
  {
   "cell_type": "code",
   "execution_count": 53,
   "metadata": {},
   "outputs": [],
   "source": [
    "avg_sales_2003 = sales_data_2003.groupby(['CUSTOMERNAME']).mean().sort_values(by=['SALES'],ascending=False).round(2)\n",
    "customer_data_2003 = pd.merge(customer_data_2003, avg_sales_2003, on='CUSTOMERNAME')\n",
    "customer_data_2003.columns = ['tot_orders_2003','tot_sales_2003','avg_sales_2003']"
   ]
  },
  {
   "cell_type": "markdown",
   "metadata": {},
   "source": [
    "After creating our dataframe for 2003, we apply the customer labels that we created analyzing the global data."
   ]
  },
  {
   "cell_type": "code",
   "execution_count": 54,
   "metadata": {},
   "outputs": [],
   "source": [
    "customer_data_2003['class'] = customer_data['class']"
   ]
  },
  {
   "cell_type": "markdown",
   "metadata": {},
   "source": [
    "#### Standardize Data "
   ]
  },
  {
   "cell_type": "code",
   "execution_count": 55,
   "metadata": {},
   "outputs": [],
   "source": [
    "labels = sales_data_2003['COUNTRY'].astype('category').cat.categories.tolist()\n",
    "replace_map_comp = {'COUNTRY' : {k: v for k,v in zip(labels,list(range(1,len(labels)+1)))}}\n",
    "sales_data_2003_replace = sales_data_2003.copy()\n",
    "sales_data_2003_replace.replace(replace_map_comp, inplace=True)\n",
    "product_sales_2003 = pd.crosstab(sales_data_2003.CUSTOMERNAME, sales_data_2003.PRODUCTLINE)\n",
    "standardized_data_2003 = ((pd.DataFrame(preprocessing.scale(product_sales_2003), \n",
    "                            index=product_sales_2003.index, \n",
    "                            columns=product_sales_2003.columns)).merge(customer_data_2003, \n",
    "                                                                  how='inner', \n",
    "                                                                  on='CUSTOMERNAME')).merge(sales_data_2003_replace,\n",
    "                                how='left',\n",
    "                                on='CUSTOMERNAME').drop_duplicates(subset='CUSTOMERNAME', \n",
    "                                                                   keep='first').drop(['PRODUCTLINE','PRODUCTCODE',\n",
    "                                                                                    'DEALSIZE','tot_orders_2003',\n",
    "                                                                                    'tot_sales_2003',\n",
    "                                                                                    'SALES','avg_sales_2003'],axis=1)"
   ]
  },
  {
   "cell_type": "code",
   "execution_count": 56,
   "metadata": {},
   "outputs": [],
   "source": [
    "label = standardized_data_2003['class']\n",
    "standardized_data_2003.drop(labels=['class'], axis=1,inplace = True)\n",
    "standardized_data_2003.insert(9, 'class', label)\n",
    "standardized_data_2003 = standardized_data_2003.drop('CUSTOMERNAME',axis=1)\n",
    "customer_labels = standardized_data_2003['class'].astype('category').cat.categories.tolist()\n",
    "replace_map_cust = {'class' : {k: v for k,v in zip(customer_labels,list(range(1,len(customer_labels)+1)))}}\n",
    "standardized_data_2003_replace = standardized_data_2003.copy()\n",
    "standardized_data_2003_replace.replace(replace_map_cust, inplace=True)\n",
    "X = standardized_data_2003_replace.drop(['class'], axis = 1)\n",
    "y = standardized_data_2003_replace['class'] \n",
    "X_train, X_test, y_train, y_test = train_test_split(X, y, test_size=0.30)"
   ]
  },
  {
   "cell_type": "markdown",
   "metadata": {},
   "source": [
    "#### Applying KNN and Random Forest classifiers to the new data."
   ]
  },
  {
   "cell_type": "code",
   "execution_count": 57,
   "metadata": {},
   "outputs": [
    {
     "name": "stdout",
     "output_type": "stream",
     "text": [
      "4 KNN Accuracy: 66.67%\n"
     ]
    }
   ],
   "source": [
    "knn = KNeighborsClassifier(n_neighbors = 4)  # n_neighbors means k\n",
    "knn.fit(X_train, y_train)\n",
    "y_pred = knn.predict(X_test)\n",
    "print(f\"4 KNN Accuracy: {round(knn.score(X_test, y_test)*100,2)}%\")"
   ]
  },
  {
   "cell_type": "code",
   "execution_count": 58,
   "metadata": {},
   "outputs": [
    {
     "name": "stdout",
     "output_type": "stream",
     "text": [
      "{'class': {'Average': 1, 'Profitable': 2, 'Unprofitable': 3}}\n",
      "Confusion Matrix :\n",
      "[[14  1  0]\n",
      " [ 3  0  0]\n",
      " [ 3  0  0]]\n",
      "Accuracy Score : 0.6666666666666666\n",
      "Report : \n",
      "              precision    recall  f1-score   support\n",
      "\n",
      "           1       0.70      0.93      0.80        15\n",
      "           2       0.00      0.00      0.00         3\n",
      "           3       0.00      0.00      0.00         3\n",
      "\n",
      "    accuracy                           0.67        21\n",
      "   macro avg       0.23      0.31      0.27        21\n",
      "weighted avg       0.50      0.67      0.57        21\n",
      "\n"
     ]
    },
    {
     "name": "stderr",
     "output_type": "stream",
     "text": [
      "C:\\Users\\lukes\\Anaconda3\\lib\\site-packages\\sklearn\\metrics\\classification.py:1437: UndefinedMetricWarning: Precision and F-score are ill-defined and being set to 0.0 in labels with no predicted samples.\n",
      "  'precision', 'predicted', average, warn_for)\n"
     ]
    }
   ],
   "source": [
    "results = confusion_matrix(y_test, y_pred) \n",
    "print(replace_map_cust)\n",
    "print ('Confusion Matrix :')\n",
    "print(results) \n",
    "print ('Accuracy Score :',accuracy_score(y_test, y_pred)) \n",
    "print ('Report : ')\n",
    "print (classification_report(y_test, y_pred))"
   ]
  },
  {
   "cell_type": "code",
   "execution_count": 59,
   "metadata": {},
   "outputs": [
    {
     "name": "stdout",
     "output_type": "stream",
     "text": [
      "Random Forest Accuracy: 71.43%\n"
     ]
    }
   ],
   "source": [
    "clf=RandomForestClassifier(n_estimators=100)\n",
    "clf.fit(X_train,y_train)\n",
    "y_pred=clf.predict(X_test)\n",
    "print(f\"Random Forest Accuracy: {round(metrics.accuracy_score(y_test, y_pred)*100,2)}%\")"
   ]
  },
  {
   "cell_type": "code",
   "execution_count": 60,
   "metadata": {},
   "outputs": [
    {
     "name": "stdout",
     "output_type": "stream",
     "text": [
      "{'class': {'Average': 1, 'Profitable': 2, 'Unprofitable': 3}}\n",
      "Confusion Matrix :\n",
      "[[14  1  0]\n",
      " [ 3  0  0]\n",
      " [ 2  0  1]]\n",
      "Accuracy Score : 0.7142857142857143\n",
      "Report : \n",
      "              precision    recall  f1-score   support\n",
      "\n",
      "           1       0.74      0.93      0.82        15\n",
      "           2       0.00      0.00      0.00         3\n",
      "           3       1.00      0.33      0.50         3\n",
      "\n",
      "    accuracy                           0.71        21\n",
      "   macro avg       0.58      0.42      0.44        21\n",
      "weighted avg       0.67      0.71      0.66        21\n",
      "\n"
     ]
    }
   ],
   "source": [
    "results = confusion_matrix(y_test, y_pred) \n",
    "print(replace_map_cust)\n",
    "print ('Confusion Matrix :')\n",
    "print(results) \n",
    "print ('Accuracy Score :',accuracy_score(y_test, y_pred)) \n",
    "print ('Report : ')\n",
    "print (classification_report(y_test, y_pred))"
   ]
  },
  {
   "cell_type": "markdown",
   "metadata": {},
   "source": [
    "Despite our high accuracy scores, our models are poor at predicting profitable and unprofitable customers. It seems that with the data that we have, it will be hard to predict profitable customers by products that they buy."
   ]
  },
  {
   "cell_type": "markdown",
   "metadata": {},
   "source": [
    "## Tracking LTV rather than profitability"
   ]
  },
  {
   "cell_type": "markdown",
   "metadata": {},
   "source": [
    "Another option that we have is to look at general purchasing data to calculate customer LTV (Life Time Value). Let's recap the information we have in the sales database:"
   ]
  },
  {
   "cell_type": "code",
   "execution_count": 61,
   "metadata": {},
   "outputs": [
    {
     "data": {
      "text/html": [
       "<div>\n",
       "<style scoped>\n",
       "    .dataframe tbody tr th:only-of-type {\n",
       "        vertical-align: middle;\n",
       "    }\n",
       "\n",
       "    .dataframe tbody tr th {\n",
       "        vertical-align: top;\n",
       "    }\n",
       "\n",
       "    .dataframe thead th {\n",
       "        text-align: right;\n",
       "    }\n",
       "</style>\n",
       "<table border=\"1\" class=\"dataframe\">\n",
       "  <thead>\n",
       "    <tr style=\"text-align: right;\">\n",
       "      <th></th>\n",
       "      <th>CUSTOMERNAME</th>\n",
       "      <th>SALES</th>\n",
       "      <th>PRODUCTLINE</th>\n",
       "      <th>PRODUCTCODE</th>\n",
       "      <th>COUNTRY</th>\n",
       "      <th>DEALSIZE</th>\n",
       "    </tr>\n",
       "    <tr>\n",
       "      <th>ORDERDATE</th>\n",
       "      <th></th>\n",
       "      <th></th>\n",
       "      <th></th>\n",
       "      <th></th>\n",
       "      <th></th>\n",
       "      <th></th>\n",
       "    </tr>\n",
       "  </thead>\n",
       "  <tbody>\n",
       "    <tr>\n",
       "      <th>2003-01-06</th>\n",
       "      <td>Online Diecast Creations Co.</td>\n",
       "      <td>5151.00</td>\n",
       "      <td>Vintage Cars</td>\n",
       "      <td>S18_1749</td>\n",
       "      <td>USA</td>\n",
       "      <td>Medium</td>\n",
       "    </tr>\n",
       "    <tr>\n",
       "      <th>2003-01-06</th>\n",
       "      <td>Online Diecast Creations Co.</td>\n",
       "      <td>3390.00</td>\n",
       "      <td>Vintage Cars</td>\n",
       "      <td>S18_2248</td>\n",
       "      <td>USA</td>\n",
       "      <td>Medium</td>\n",
       "    </tr>\n",
       "    <tr>\n",
       "      <th>2003-01-06</th>\n",
       "      <td>Online Diecast Creations Co.</td>\n",
       "      <td>1903.22</td>\n",
       "      <td>Vintage Cars</td>\n",
       "      <td>S18_4409</td>\n",
       "      <td>USA</td>\n",
       "      <td>Small</td>\n",
       "    </tr>\n",
       "    <tr>\n",
       "      <th>2003-01-06</th>\n",
       "      <td>Online Diecast Creations Co.</td>\n",
       "      <td>1689.03</td>\n",
       "      <td>Vintage Cars</td>\n",
       "      <td>S24_3969</td>\n",
       "      <td>USA</td>\n",
       "      <td>Small</td>\n",
       "    </tr>\n",
       "    <tr>\n",
       "      <th>2003-01-09</th>\n",
       "      <td>Blauer See Auto, Co.</td>\n",
       "      <td>1404.00</td>\n",
       "      <td>Vintage Cars</td>\n",
       "      <td>S24_1937</td>\n",
       "      <td>Germany</td>\n",
       "      <td>Small</td>\n",
       "    </tr>\n",
       "  </tbody>\n",
       "</table>\n",
       "</div>"
      ],
      "text/plain": [
       "                            CUSTOMERNAME    SALES   PRODUCTLINE PRODUCTCODE  \\\n",
       "ORDERDATE                                                                     \n",
       "2003-01-06  Online Diecast Creations Co.  5151.00  Vintage Cars    S18_1749   \n",
       "2003-01-06  Online Diecast Creations Co.  3390.00  Vintage Cars    S18_2248   \n",
       "2003-01-06  Online Diecast Creations Co.  1903.22  Vintage Cars    S18_4409   \n",
       "2003-01-06  Online Diecast Creations Co.  1689.03  Vintage Cars    S24_3969   \n",
       "2003-01-09          Blauer See Auto, Co.  1404.00  Vintage Cars    S24_1937   \n",
       "\n",
       "            COUNTRY DEALSIZE  \n",
       "ORDERDATE                     \n",
       "2003-01-06      USA   Medium  \n",
       "2003-01-06      USA   Medium  \n",
       "2003-01-06      USA    Small  \n",
       "2003-01-06      USA    Small  \n",
       "2003-01-09  Germany    Small  "
      ]
     },
     "execution_count": 61,
     "metadata": {},
     "output_type": "execute_result"
    }
   ],
   "source": [
    "sales_data.head()"
   ]
  },
  {
   "cell_type": "markdown",
   "metadata": {},
   "source": [
    "#### Calculating Recency"
   ]
  },
  {
   "cell_type": "code",
   "execution_count": 62,
   "metadata": {},
   "outputs": [],
   "source": [
    "customers = pd.DataFrame(sales_data['CUSTOMERNAME'].unique())\n",
    "last_purchase = sales_data.groupby('CUSTOMERNAME').idxmax()\n",
    "last_purchase.columns = ['LASTPURCHASEDATE']\n",
    "last_purchase['RECENCY'] = (last_purchase['LASTPURCHASEDATE'].max() - last_purchase['LASTPURCHASEDATE']).dt.days"
   ]
  },
  {
   "cell_type": "code",
   "execution_count": 63,
   "metadata": {},
   "outputs": [
    {
     "data": {
      "text/html": [
       "<div>\n",
       "<style scoped>\n",
       "    .dataframe tbody tr th:only-of-type {\n",
       "        vertical-align: middle;\n",
       "    }\n",
       "\n",
       "    .dataframe tbody tr th {\n",
       "        vertical-align: top;\n",
       "    }\n",
       "\n",
       "    .dataframe thead th {\n",
       "        text-align: right;\n",
       "    }\n",
       "</style>\n",
       "<table border=\"1\" class=\"dataframe\">\n",
       "  <thead>\n",
       "    <tr style=\"text-align: right;\">\n",
       "      <th></th>\n",
       "      <th>LASTPURCHASEDATE</th>\n",
       "      <th>RECENCY</th>\n",
       "    </tr>\n",
       "    <tr>\n",
       "      <th>CUSTOMERNAME</th>\n",
       "      <th></th>\n",
       "      <th></th>\n",
       "    </tr>\n",
       "  </thead>\n",
       "  <tbody>\n",
       "    <tr>\n",
       "      <th>AV Stores, Co.</th>\n",
       "      <td>2004-11-17</td>\n",
       "      <td>195</td>\n",
       "    </tr>\n",
       "    <tr>\n",
       "      <th>Alpha Cognac</th>\n",
       "      <td>2003-07-04</td>\n",
       "      <td>697</td>\n",
       "    </tr>\n",
       "    <tr>\n",
       "      <th>Amica Models &amp; Co.</th>\n",
       "      <td>2004-09-09</td>\n",
       "      <td>264</td>\n",
       "    </tr>\n",
       "    <tr>\n",
       "      <th>Anna's Decorations, Ltd</th>\n",
       "      <td>2005-01-20</td>\n",
       "      <td>131</td>\n",
       "    </tr>\n",
       "    <tr>\n",
       "      <th>Atelier graphique</th>\n",
       "      <td>2003-05-20</td>\n",
       "      <td>742</td>\n",
       "    </tr>\n",
       "  </tbody>\n",
       "</table>\n",
       "</div>"
      ],
      "text/plain": [
       "                        LASTPURCHASEDATE  RECENCY\n",
       "CUSTOMERNAME                                     \n",
       "AV Stores, Co.                2004-11-17      195\n",
       "Alpha Cognac                  2003-07-04      697\n",
       "Amica Models & Co.            2004-09-09      264\n",
       "Anna's Decorations, Ltd       2005-01-20      131\n",
       "Atelier graphique             2003-05-20      742"
      ]
     },
     "execution_count": 63,
     "metadata": {},
     "output_type": "execute_result"
    }
   ],
   "source": [
    "last_purchase.head()"
   ]
  },
  {
   "cell_type": "markdown",
   "metadata": {},
   "source": [
    "#### Plot Recency "
   ]
  },
  {
   "cell_type": "code",
   "execution_count": 64,
   "metadata": {
    "scrolled": false
   },
   "outputs": [
    {
     "data": {
      "image/png": "[encoded data removed]",
      "text/plain": [
       "<Figure size 1080x504 with 1 Axes>"
      ]
     },
     "metadata": {},
     "output_type": "display_data"
    }
   ],
   "source": [
    "sns.distplot(last_purchase['RECENCY'],kde = False)\n",
    "plt.show()"
   ]
  },
  {
   "cell_type": "markdown",
   "metadata": {},
   "source": [
    "#### Apply K means clustering to assign recency score"
   ]
  },
  {
   "cell_type": "markdown",
   "metadata": {},
   "source": [
    "First, we use the elbow method to tell us the optimum cluster number."
   ]
  },
  {
   "cell_type": "code",
   "execution_count": 65,
   "metadata": {},
   "outputs": [
    {
     "data": {
      "image/png": "[encoded data removed]",
      "text/plain": [
       "<Figure size 1080x504 with 1 Axes>"
      ]
     },
     "metadata": {},
     "output_type": "display_data"
    }
   ],
   "source": [
    "sse={}\n",
    "recency = last_purchase[['RECENCY']]\n",
    "for k in range(1, 10):\n",
    "    kmeans = KMeans(n_clusters=k, max_iter=1000).fit(recency)\n",
    "    recency[\"clusters\"] = kmeans.labels_\n",
    "    sse[k] = kmeans.inertia_ \n",
    "plt.figure()\n",
    "plt.plot(list(sse.keys()), list(sse.values()))\n",
    "plt.xlabel(\"Number of clusters\")\n",
    "plt.show()"
   ]
  },
  {
   "cell_type": "code",
   "execution_count": 66,
   "metadata": {},
   "outputs": [],
   "source": [
    "kmeans = KMeans(n_clusters=4)\n",
    "kmeans.fit(last_purchase[['RECENCY']])\n",
    "last_purchase['RecencyCluster'] = kmeans.predict(last_purchase[['RECENCY']])"
   ]
  },
  {
   "cell_type": "code",
   "execution_count": 67,
   "metadata": {},
   "outputs": [],
   "source": [
    "#function for ordering cluster numbers\n",
    "def order_cluster(cluster_field_name, target_field_name,df,ascending):\n",
    "    new_cluster_field_name = 'new_' + cluster_field_name\n",
    "    df_new = df.groupby(cluster_field_name)[target_field_name].mean().reset_index()\n",
    "    df_new = df_new.sort_values(by=target_field_name,ascending=ascending).reset_index(drop=True)\n",
    "    df_new['index'] = df_new.index\n",
    "    df_final = pd.merge(df,df_new[[cluster_field_name,'index']], on=cluster_field_name)\n",
    "    df_final = df_final.drop([cluster_field_name],axis=1)\n",
    "    df_final = df_final.rename(columns={\"index\":cluster_field_name})\n",
    "    return df_final"
   ]
  },
  {
   "cell_type": "code",
   "execution_count": 68,
   "metadata": {},
   "outputs": [
    {
     "data": {
      "text/html": [
       "<div>\n",
       "<style scoped>\n",
       "    .dataframe tbody tr th:only-of-type {\n",
       "        vertical-align: middle;\n",
       "    }\n",
       "\n",
       "    .dataframe tbody tr th {\n",
       "        vertical-align: top;\n",
       "    }\n",
       "\n",
       "    .dataframe thead th {\n",
       "        text-align: right;\n",
       "    }\n",
       "</style>\n",
       "<table border=\"1\" class=\"dataframe\">\n",
       "  <thead>\n",
       "    <tr style=\"text-align: right;\">\n",
       "      <th></th>\n",
       "      <th>LASTPURCHASEDATE</th>\n",
       "      <th>RECENCY</th>\n",
       "      <th>RecencyCluster</th>\n",
       "    </tr>\n",
       "    <tr>\n",
       "      <th>CUSTOMERNAME</th>\n",
       "      <th></th>\n",
       "      <th></th>\n",
       "      <th></th>\n",
       "    </tr>\n",
       "  </thead>\n",
       "  <tbody>\n",
       "    <tr>\n",
       "      <th>AV Stores, Co.</th>\n",
       "      <td>2004-11-17</td>\n",
       "      <td>195</td>\n",
       "      <td>0</td>\n",
       "    </tr>\n",
       "    <tr>\n",
       "      <th>Alpha Cognac</th>\n",
       "      <td>2003-07-04</td>\n",
       "      <td>697</td>\n",
       "      <td>1</td>\n",
       "    </tr>\n",
       "    <tr>\n",
       "      <th>Amica Models &amp; Co.</th>\n",
       "      <td>2004-09-09</td>\n",
       "      <td>264</td>\n",
       "      <td>0</td>\n",
       "    </tr>\n",
       "    <tr>\n",
       "      <th>Anna's Decorations, Ltd</th>\n",
       "      <td>2005-01-20</td>\n",
       "      <td>131</td>\n",
       "      <td>3</td>\n",
       "    </tr>\n",
       "    <tr>\n",
       "      <th>Atelier graphique</th>\n",
       "      <td>2003-05-20</td>\n",
       "      <td>742</td>\n",
       "      <td>1</td>\n",
       "    </tr>\n",
       "  </tbody>\n",
       "</table>\n",
       "</div>"
      ],
      "text/plain": [
       "                        LASTPURCHASEDATE  RECENCY  RecencyCluster\n",
       "CUSTOMERNAME                                                     \n",
       "AV Stores, Co.                2004-11-17      195               0\n",
       "Alpha Cognac                  2003-07-04      697               1\n",
       "Amica Models & Co.            2004-09-09      264               0\n",
       "Anna's Decorations, Ltd       2005-01-20      131               3\n",
       "Atelier graphique             2003-05-20      742               1"
      ]
     },
     "execution_count": 68,
     "metadata": {},
     "output_type": "execute_result"
    }
   ],
   "source": [
    "last_purchase.head()"
   ]
  },
  {
   "cell_type": "code",
   "execution_count": 69,
   "metadata": {},
   "outputs": [],
   "source": [
    "last_purchase_temp = order_cluster('RecencyCluster', 'RECENCY',last_purchase,True).merge(\n",
    "    last_purchase.reset_index()['CUSTOMERNAME'], left_index=True, right_index=True)\n",
    "last_purchase_temp['RecencyCluster'] = last_purchase_temp['RecencyCluster'].replace({0: 3, 1: 2,2:1,3:0})"
   ]
  },
  {
   "cell_type": "code",
   "execution_count": 70,
   "metadata": {},
   "outputs": [
    {
     "data": {
      "text/html": [
       "<div>\n",
       "<style scoped>\n",
       "    .dataframe tbody tr th:only-of-type {\n",
       "        vertical-align: middle;\n",
       "    }\n",
       "\n",
       "    .dataframe tbody tr th {\n",
       "        vertical-align: top;\n",
       "    }\n",
       "\n",
       "    .dataframe thead tr th {\n",
       "        text-align: left;\n",
       "    }\n",
       "\n",
       "    .dataframe thead tr:last-of-type th {\n",
       "        text-align: right;\n",
       "    }\n",
       "</style>\n",
       "<table border=\"1\" class=\"dataframe\">\n",
       "  <thead>\n",
       "    <tr>\n",
       "      <th></th>\n",
       "      <th colspan=\"8\" halign=\"left\">RECENCY</th>\n",
       "    </tr>\n",
       "    <tr>\n",
       "      <th></th>\n",
       "      <th>count</th>\n",
       "      <th>mean</th>\n",
       "      <th>std</th>\n",
       "      <th>min</th>\n",
       "      <th>25%</th>\n",
       "      <th>50%</th>\n",
       "      <th>75%</th>\n",
       "      <th>max</th>\n",
       "    </tr>\n",
       "    <tr>\n",
       "      <th>RecencyCluster</th>\n",
       "      <th></th>\n",
       "      <th></th>\n",
       "      <th></th>\n",
       "      <th></th>\n",
       "      <th></th>\n",
       "      <th></th>\n",
       "      <th></th>\n",
       "      <th></th>\n",
       "    </tr>\n",
       "  </thead>\n",
       "  <tbody>\n",
       "    <tr>\n",
       "      <th>0</th>\n",
       "      <td>12.0</td>\n",
       "      <td>739.250000</td>\n",
       "      <td>60.929356</td>\n",
       "      <td>634.0</td>\n",
       "      <td>694.0</td>\n",
       "      <td>735.0</td>\n",
       "      <td>790.75</td>\n",
       "      <td>834.0</td>\n",
       "    </tr>\n",
       "    <tr>\n",
       "      <th>1</th>\n",
       "      <td>33.0</td>\n",
       "      <td>522.363636</td>\n",
       "      <td>60.861430</td>\n",
       "      <td>391.0</td>\n",
       "      <td>474.0</td>\n",
       "      <td>539.0</td>\n",
       "      <td>564.00</td>\n",
       "      <td>620.0</td>\n",
       "    </tr>\n",
       "    <tr>\n",
       "      <th>2</th>\n",
       "      <td>32.0</td>\n",
       "      <td>242.562500</td>\n",
       "      <td>51.543241</td>\n",
       "      <td>173.0</td>\n",
       "      <td>204.0</td>\n",
       "      <td>229.5</td>\n",
       "      <td>268.00</td>\n",
       "      <td>378.0</td>\n",
       "    </tr>\n",
       "    <tr>\n",
       "      <th>3</th>\n",
       "      <td>15.0</td>\n",
       "      <td>67.266667</td>\n",
       "      <td>49.060410</td>\n",
       "      <td>0.0</td>\n",
       "      <td>28.0</td>\n",
       "      <td>47.0</td>\n",
       "      <td>114.50</td>\n",
       "      <td>141.0</td>\n",
       "    </tr>\n",
       "  </tbody>\n",
       "</table>\n",
       "</div>"
      ],
      "text/plain": [
       "               RECENCY                                                      \\\n",
       "                 count        mean        std    min    25%    50%     75%   \n",
       "RecencyCluster                                                               \n",
       "0                 12.0  739.250000  60.929356  634.0  694.0  735.0  790.75   \n",
       "1                 33.0  522.363636  60.861430  391.0  474.0  539.0  564.00   \n",
       "2                 32.0  242.562500  51.543241  173.0  204.0  229.5  268.00   \n",
       "3                 15.0   67.266667  49.060410    0.0   28.0   47.0  114.50   \n",
       "\n",
       "                       \n",
       "                  max  \n",
       "RecencyCluster         \n",
       "0               834.0  \n",
       "1               620.0  \n",
       "2               378.0  \n",
       "3               141.0  "
      ]
     },
     "execution_count": 70,
     "metadata": {},
     "output_type": "execute_result"
    }
   ],
   "source": [
    "last_purchase_temp.groupby('RecencyCluster').describe()"
   ]
  },
  {
   "cell_type": "markdown",
   "metadata": {},
   "source": [
    "We can see that the customers in our clusters display very different characteristics, which is good!"
   ]
  },
  {
   "cell_type": "markdown",
   "metadata": {},
   "source": [
    "#### Frequency"
   ]
  },
  {
   "cell_type": "markdown",
   "metadata": {},
   "source": [
    "We already have total order data gathered, so we can add this to our dataframe. We need to assign a score in a similar way to how we did for recency."
   ]
  },
  {
   "cell_type": "code",
   "execution_count": 71,
   "metadata": {},
   "outputs": [
    {
     "data": {
      "text/html": [
       "<div>\n",
       "<style scoped>\n",
       "    .dataframe tbody tr th:only-of-type {\n",
       "        vertical-align: middle;\n",
       "    }\n",
       "\n",
       "    .dataframe tbody tr th {\n",
       "        vertical-align: top;\n",
       "    }\n",
       "\n",
       "    .dataframe thead th {\n",
       "        text-align: right;\n",
       "    }\n",
       "</style>\n",
       "<table border=\"1\" class=\"dataframe\">\n",
       "  <thead>\n",
       "    <tr style=\"text-align: right;\">\n",
       "      <th></th>\n",
       "      <th>SALES</th>\n",
       "    </tr>\n",
       "    <tr>\n",
       "      <th>CUSTOMERNAME</th>\n",
       "      <th></th>\n",
       "    </tr>\n",
       "  </thead>\n",
       "  <tbody>\n",
       "    <tr>\n",
       "      <th>Euro Shopping Channel</th>\n",
       "      <td>259</td>\n",
       "    </tr>\n",
       "    <tr>\n",
       "      <th>Mini Gifts Distributors Ltd.</th>\n",
       "      <td>180</td>\n",
       "    </tr>\n",
       "    <tr>\n",
       "      <th>Australian Collectors, Co.</th>\n",
       "      <td>55</td>\n",
       "    </tr>\n",
       "    <tr>\n",
       "      <th>La Rochelle Gifts</th>\n",
       "      <td>53</td>\n",
       "    </tr>\n",
       "    <tr>\n",
       "      <th>AV Stores, Co.</th>\n",
       "      <td>51</td>\n",
       "    </tr>\n",
       "  </tbody>\n",
       "</table>\n",
       "</div>"
      ],
      "text/plain": [
       "                              SALES\n",
       "CUSTOMERNAME                       \n",
       "Euro Shopping Channel           259\n",
       "Mini Gifts Distributors Ltd.    180\n",
       "Australian Collectors, Co.       55\n",
       "La Rochelle Gifts                53\n",
       "AV Stores, Co.                   51"
      ]
     },
     "execution_count": 71,
     "metadata": {},
     "output_type": "execute_result"
    }
   ],
   "source": [
    "tot_orders.head()"
   ]
  },
  {
   "cell_type": "code",
   "execution_count": 72,
   "metadata": {},
   "outputs": [
    {
     "data": {
      "image/png": "[encoded data removed]",
      "text/plain": [
       "<Figure size 1080x504 with 1 Axes>"
      ]
     },
     "metadata": {},
     "output_type": "display_data"
    }
   ],
   "source": [
    "sns.distplot(tot_orders['SALES'],kde = False)\n",
    "plt.show()"
   ]
  },
  {
   "cell_type": "code",
   "execution_count": 73,
   "metadata": {},
   "outputs": [],
   "source": [
    "kmeans = KMeans(n_clusters=4)\n",
    "kmeans.fit(tot_orders[['SALES']])\n",
    "tot_orders['FrequencyCluster'] = kmeans.predict(tot_orders[['SALES']])"
   ]
  },
  {
   "cell_type": "code",
   "execution_count": 74,
   "metadata": {},
   "outputs": [],
   "source": [
    "tot_orders_temp = order_cluster('FrequencyCluster', 'SALES',tot_orders,True).merge(\n",
    "    tot_orders.reset_index()['CUSTOMERNAME'], left_index=True, right_index=True)"
   ]
  },
  {
   "cell_type": "code",
   "execution_count": 75,
   "metadata": {},
   "outputs": [
    {
     "data": {
      "text/html": [
       "<div>\n",
       "<style scoped>\n",
       "    .dataframe tbody tr th:only-of-type {\n",
       "        vertical-align: middle;\n",
       "    }\n",
       "\n",
       "    .dataframe tbody tr th {\n",
       "        vertical-align: top;\n",
       "    }\n",
       "\n",
       "    .dataframe thead th {\n",
       "        text-align: right;\n",
       "    }\n",
       "</style>\n",
       "<table border=\"1\" class=\"dataframe\">\n",
       "  <thead>\n",
       "    <tr style=\"text-align: right;\">\n",
       "      <th></th>\n",
       "      <th>count</th>\n",
       "      <th>mean</th>\n",
       "      <th>std</th>\n",
       "      <th>min</th>\n",
       "      <th>25%</th>\n",
       "      <th>50%</th>\n",
       "      <th>75%</th>\n",
       "      <th>max</th>\n",
       "    </tr>\n",
       "    <tr>\n",
       "      <th>FrequencyCluster</th>\n",
       "      <th></th>\n",
       "      <th></th>\n",
       "      <th></th>\n",
       "      <th></th>\n",
       "      <th></th>\n",
       "      <th></th>\n",
       "      <th></th>\n",
       "      <th></th>\n",
       "    </tr>\n",
       "  </thead>\n",
       "  <tbody>\n",
       "    <tr>\n",
       "      <th>0</th>\n",
       "      <td>63.0</td>\n",
       "      <td>20.634921</td>\n",
       "      <td>6.373589</td>\n",
       "      <td>3.0</td>\n",
       "      <td>15.5</td>\n",
       "      <td>22.0</td>\n",
       "      <td>26.0</td>\n",
       "      <td>30.0</td>\n",
       "    </tr>\n",
       "    <tr>\n",
       "      <th>1</th>\n",
       "      <td>27.0</td>\n",
       "      <td>40.148148</td>\n",
       "      <td>7.230830</td>\n",
       "      <td>31.0</td>\n",
       "      <td>34.0</td>\n",
       "      <td>40.0</td>\n",
       "      <td>46.0</td>\n",
       "      <td>55.0</td>\n",
       "    </tr>\n",
       "    <tr>\n",
       "      <th>2</th>\n",
       "      <td>1.0</td>\n",
       "      <td>180.000000</td>\n",
       "      <td>NaN</td>\n",
       "      <td>180.0</td>\n",
       "      <td>180.0</td>\n",
       "      <td>180.0</td>\n",
       "      <td>180.0</td>\n",
       "      <td>180.0</td>\n",
       "    </tr>\n",
       "    <tr>\n",
       "      <th>3</th>\n",
       "      <td>1.0</td>\n",
       "      <td>259.000000</td>\n",
       "      <td>NaN</td>\n",
       "      <td>259.0</td>\n",
       "      <td>259.0</td>\n",
       "      <td>259.0</td>\n",
       "      <td>259.0</td>\n",
       "      <td>259.0</td>\n",
       "    </tr>\n",
       "  </tbody>\n",
       "</table>\n",
       "</div>"
      ],
      "text/plain": [
       "                  count        mean       std    min    25%    50%    75%  \\\n",
       "FrequencyCluster                                                            \n",
       "0                  63.0   20.634921  6.373589    3.0   15.5   22.0   26.0   \n",
       "1                  27.0   40.148148  7.230830   31.0   34.0   40.0   46.0   \n",
       "2                   1.0  180.000000       NaN  180.0  180.0  180.0  180.0   \n",
       "3                   1.0  259.000000       NaN  259.0  259.0  259.0  259.0   \n",
       "\n",
       "                    max  \n",
       "FrequencyCluster         \n",
       "0                  30.0  \n",
       "1                  55.0  \n",
       "2                 180.0  \n",
       "3                 259.0  "
      ]
     },
     "execution_count": 75,
     "metadata": {},
     "output_type": "execute_result"
    }
   ],
   "source": [
    "tot_orders_temp.groupby('FrequencyCluster')['SALES'].describe()"
   ]
  },
  {
   "cell_type": "markdown",
   "metadata": {},
   "source": [
    "#### Revenue"
   ]
  },
  {
   "cell_type": "markdown",
   "metadata": {},
   "source": [
    "Finally, let's repear the process for total sales."
   ]
  },
  {
   "cell_type": "code",
   "execution_count": 76,
   "metadata": {},
   "outputs": [
    {
     "data": {
      "text/html": [
       "<div>\n",
       "<style scoped>\n",
       "    .dataframe tbody tr th:only-of-type {\n",
       "        vertical-align: middle;\n",
       "    }\n",
       "\n",
       "    .dataframe tbody tr th {\n",
       "        vertical-align: top;\n",
       "    }\n",
       "\n",
       "    .dataframe thead th {\n",
       "        text-align: right;\n",
       "    }\n",
       "</style>\n",
       "<table border=\"1\" class=\"dataframe\">\n",
       "  <thead>\n",
       "    <tr style=\"text-align: right;\">\n",
       "      <th></th>\n",
       "      <th>SALES</th>\n",
       "    </tr>\n",
       "    <tr>\n",
       "      <th>CUSTOMERNAME</th>\n",
       "      <th></th>\n",
       "    </tr>\n",
       "  </thead>\n",
       "  <tbody>\n",
       "    <tr>\n",
       "      <th>Euro Shopping Channel</th>\n",
       "      <td>912294.11</td>\n",
       "    </tr>\n",
       "    <tr>\n",
       "      <th>Mini Gifts Distributors Ltd.</th>\n",
       "      <td>654858.06</td>\n",
       "    </tr>\n",
       "    <tr>\n",
       "      <th>Australian Collectors, Co.</th>\n",
       "      <td>200995.41</td>\n",
       "    </tr>\n",
       "    <tr>\n",
       "      <th>Muscle Machine Inc</th>\n",
       "      <td>197736.94</td>\n",
       "    </tr>\n",
       "    <tr>\n",
       "      <th>La Rochelle Gifts</th>\n",
       "      <td>180124.90</td>\n",
       "    </tr>\n",
       "  </tbody>\n",
       "</table>\n",
       "</div>"
      ],
      "text/plain": [
       "                                  SALES\n",
       "CUSTOMERNAME                           \n",
       "Euro Shopping Channel         912294.11\n",
       "Mini Gifts Distributors Ltd.  654858.06\n",
       "Australian Collectors, Co.    200995.41\n",
       "Muscle Machine Inc            197736.94\n",
       "La Rochelle Gifts             180124.90"
      ]
     },
     "execution_count": 76,
     "metadata": {},
     "output_type": "execute_result"
    }
   ],
   "source": [
    "tot_sales.head()"
   ]
  },
  {
   "cell_type": "code",
   "execution_count": 77,
   "metadata": {},
   "outputs": [
    {
     "data": {
      "image/png": "[encoded data removed]",
      "text/plain": [
       "<Figure size 1080x504 with 1 Axes>"
      ]
     },
     "metadata": {},
     "output_type": "display_data"
    }
   ],
   "source": [
    "sns.distplot(tot_sales['SALES'],kde = False)\n",
    "plt.show()"
   ]
  },
  {
   "cell_type": "code",
   "execution_count": 78,
   "metadata": {},
   "outputs": [],
   "source": [
    "kmeans = KMeans(n_clusters=4)\n",
    "kmeans.fit(tot_sales[['SALES']])\n",
    "tot_sales['RevenueCluster'] = kmeans.predict(tot_sales[['SALES']])"
   ]
  },
  {
   "cell_type": "code",
   "execution_count": 79,
   "metadata": {
    "scrolled": true
   },
   "outputs": [],
   "source": [
    "tot_sales_temp = order_cluster('RevenueCluster', 'SALES',tot_sales,True).merge(\n",
    "    tot_sales.reset_index()['CUSTOMERNAME'], left_index=True, right_index=True)"
   ]
  },
  {
   "cell_type": "code",
   "execution_count": 80,
   "metadata": {},
   "outputs": [
    {
     "data": {
      "text/html": [
       "<div>\n",
       "<style scoped>\n",
       "    .dataframe tbody tr th:only-of-type {\n",
       "        vertical-align: middle;\n",
       "    }\n",
       "\n",
       "    .dataframe tbody tr th {\n",
       "        vertical-align: top;\n",
       "    }\n",
       "\n",
       "    .dataframe thead th {\n",
       "        text-align: right;\n",
       "    }\n",
       "</style>\n",
       "<table border=\"1\" class=\"dataframe\">\n",
       "  <thead>\n",
       "    <tr style=\"text-align: right;\">\n",
       "      <th></th>\n",
       "      <th>count</th>\n",
       "      <th>mean</th>\n",
       "      <th>std</th>\n",
       "      <th>min</th>\n",
       "      <th>25%</th>\n",
       "      <th>50%</th>\n",
       "      <th>75%</th>\n",
       "      <th>max</th>\n",
       "    </tr>\n",
       "    <tr>\n",
       "      <th>RevenueCluster</th>\n",
       "      <th></th>\n",
       "      <th></th>\n",
       "      <th></th>\n",
       "      <th></th>\n",
       "      <th></th>\n",
       "      <th></th>\n",
       "      <th></th>\n",
       "      <th></th>\n",
       "    </tr>\n",
       "  </thead>\n",
       "  <tbody>\n",
       "    <tr>\n",
       "      <th>0</th>\n",
       "      <td>60.0</td>\n",
       "      <td>70988.526667</td>\n",
       "      <td>22380.899919</td>\n",
       "      <td>9129.35</td>\n",
       "      <td>57270.3050</td>\n",
       "      <td>75105.72</td>\n",
       "      <td>85267.6900</td>\n",
       "      <td>104561.96</td>\n",
       "    </tr>\n",
       "    <tr>\n",
       "      <th>1</th>\n",
       "      <td>30.0</td>\n",
       "      <td>140205.502667</td>\n",
       "      <td>25315.713469</td>\n",
       "      <td>108951.13</td>\n",
       "      <td>118646.8875</td>\n",
       "      <td>136499.33</td>\n",
       "      <td>153389.8425</td>\n",
       "      <td>200995.41</td>\n",
       "    </tr>\n",
       "    <tr>\n",
       "      <th>2</th>\n",
       "      <td>1.0</td>\n",
       "      <td>654858.060000</td>\n",
       "      <td>NaN</td>\n",
       "      <td>654858.06</td>\n",
       "      <td>654858.0600</td>\n",
       "      <td>654858.06</td>\n",
       "      <td>654858.0600</td>\n",
       "      <td>654858.06</td>\n",
       "    </tr>\n",
       "    <tr>\n",
       "      <th>3</th>\n",
       "      <td>1.0</td>\n",
       "      <td>912294.110000</td>\n",
       "      <td>NaN</td>\n",
       "      <td>912294.11</td>\n",
       "      <td>912294.1100</td>\n",
       "      <td>912294.11</td>\n",
       "      <td>912294.1100</td>\n",
       "      <td>912294.11</td>\n",
       "    </tr>\n",
       "  </tbody>\n",
       "</table>\n",
       "</div>"
      ],
      "text/plain": [
       "                count           mean           std        min          25%  \\\n",
       "RevenueCluster                                                               \n",
       "0                60.0   70988.526667  22380.899919    9129.35   57270.3050   \n",
       "1                30.0  140205.502667  25315.713469  108951.13  118646.8875   \n",
       "2                 1.0  654858.060000           NaN  654858.06  654858.0600   \n",
       "3                 1.0  912294.110000           NaN  912294.11  912294.1100   \n",
       "\n",
       "                      50%          75%        max  \n",
       "RevenueCluster                                     \n",
       "0                75105.72   85267.6900  104561.96  \n",
       "1               136499.33  153389.8425  200995.41  \n",
       "2               654858.06  654858.0600  654858.06  \n",
       "3               912294.11  912294.1100  912294.11  "
      ]
     },
     "execution_count": 80,
     "metadata": {},
     "output_type": "execute_result"
    }
   ],
   "source": [
    "tot_sales_temp.groupby('RevenueCluster')['SALES'].describe()"
   ]
  },
  {
   "cell_type": "markdown",
   "metadata": {},
   "source": [
    "#### Calculating Overall Score"
   ]
  },
  {
   "cell_type": "code",
   "execution_count": 81,
   "metadata": {},
   "outputs": [
    {
     "data": {
      "text/html": [
       "<div>\n",
       "<style scoped>\n",
       "    .dataframe tbody tr th:only-of-type {\n",
       "        vertical-align: middle;\n",
       "    }\n",
       "\n",
       "    .dataframe tbody tr th {\n",
       "        vertical-align: top;\n",
       "    }\n",
       "\n",
       "    .dataframe thead th {\n",
       "        text-align: right;\n",
       "    }\n",
       "</style>\n",
       "<table border=\"1\" class=\"dataframe\">\n",
       "  <thead>\n",
       "    <tr style=\"text-align: right;\">\n",
       "      <th></th>\n",
       "      <th>LASTPURCHASEDATE</th>\n",
       "      <th>RECENCY</th>\n",
       "      <th>RecencyCluster</th>\n",
       "      <th>CUSTOMERNAME</th>\n",
       "    </tr>\n",
       "  </thead>\n",
       "  <tbody>\n",
       "    <tr>\n",
       "      <th>0</th>\n",
       "      <td>2004-11-17</td>\n",
       "      <td>195</td>\n",
       "      <td>2</td>\n",
       "      <td>AV Stores, Co.</td>\n",
       "    </tr>\n",
       "  </tbody>\n",
       "</table>\n",
       "</div>"
      ],
      "text/plain": [
       "  LASTPURCHASEDATE  RECENCY  RecencyCluster    CUSTOMERNAME\n",
       "0       2004-11-17      195               2  AV Stores, Co."
      ]
     },
     "metadata": {},
     "output_type": "display_data"
    },
    {
     "data": {
      "text/html": [
       "<div>\n",
       "<style scoped>\n",
       "    .dataframe tbody tr th:only-of-type {\n",
       "        vertical-align: middle;\n",
       "    }\n",
       "\n",
       "    .dataframe tbody tr th {\n",
       "        vertical-align: top;\n",
       "    }\n",
       "\n",
       "    .dataframe thead th {\n",
       "        text-align: right;\n",
       "    }\n",
       "</style>\n",
       "<table border=\"1\" class=\"dataframe\">\n",
       "  <thead>\n",
       "    <tr style=\"text-align: right;\">\n",
       "      <th></th>\n",
       "      <th>SALES</th>\n",
       "      <th>FrequencyCluster</th>\n",
       "      <th>CUSTOMERNAME</th>\n",
       "    </tr>\n",
       "  </thead>\n",
       "  <tbody>\n",
       "    <tr>\n",
       "      <th>0</th>\n",
       "      <td>259</td>\n",
       "      <td>3</td>\n",
       "      <td>Euro Shopping Channel</td>\n",
       "    </tr>\n",
       "  </tbody>\n",
       "</table>\n",
       "</div>"
      ],
      "text/plain": [
       "   SALES  FrequencyCluster           CUSTOMERNAME\n",
       "0    259                 3  Euro Shopping Channel"
      ]
     },
     "metadata": {},
     "output_type": "display_data"
    },
    {
     "data": {
      "text/html": [
       "<div>\n",
       "<style scoped>\n",
       "    .dataframe tbody tr th:only-of-type {\n",
       "        vertical-align: middle;\n",
       "    }\n",
       "\n",
       "    .dataframe tbody tr th {\n",
       "        vertical-align: top;\n",
       "    }\n",
       "\n",
       "    .dataframe thead th {\n",
       "        text-align: right;\n",
       "    }\n",
       "</style>\n",
       "<table border=\"1\" class=\"dataframe\">\n",
       "  <thead>\n",
       "    <tr style=\"text-align: right;\">\n",
       "      <th></th>\n",
       "      <th>SALES</th>\n",
       "      <th>RevenueCluster</th>\n",
       "      <th>CUSTOMERNAME</th>\n",
       "    </tr>\n",
       "  </thead>\n",
       "  <tbody>\n",
       "    <tr>\n",
       "      <th>0</th>\n",
       "      <td>912294.11</td>\n",
       "      <td>3</td>\n",
       "      <td>Euro Shopping Channel</td>\n",
       "    </tr>\n",
       "  </tbody>\n",
       "</table>\n",
       "</div>"
      ],
      "text/plain": [
       "       SALES  RevenueCluster           CUSTOMERNAME\n",
       "0  912294.11               3  Euro Shopping Channel"
      ]
     },
     "metadata": {},
     "output_type": "display_data"
    }
   ],
   "source": [
    "display(last_purchase_temp.head(1))\n",
    "display(tot_orders_temp.head(1))\n",
    "display(tot_sales_temp.head(1))"
   ]
  },
  {
   "cell_type": "markdown",
   "metadata": {},
   "source": [
    "First we'll create a new dataframe to contain our LTV values:"
   ]
  },
  {
   "cell_type": "code",
   "execution_count": 82,
   "metadata": {},
   "outputs": [],
   "source": [
    "ltv = last_purchase_temp[['CUSTOMERNAME','RecencyCluster','RECENCY']].merge(tot_orders_temp[['CUSTOMERNAME','FrequencyCluster','SALES']], \n",
    "                                                                  how='inner', \n",
    "                                                                  on='CUSTOMERNAME').merge(\n",
    "                                                                tot_sales_temp[['CUSTOMERNAME','RevenueCluster','SALES']],\n",
    "                                                                how='inner', on='CUSTOMERNAME')"
   ]
  },
  {
   "cell_type": "markdown",
   "metadata": {},
   "source": [
    "Next, we can create an 'Overall Score' column and assign a 'Value' label to each customer based on their score."
   ]
  },
  {
   "cell_type": "code",
   "execution_count": 83,
   "metadata": {},
   "outputs": [],
   "source": [
    "ltv['OverallScore'] = ltv['RecencyCluster'] + ltv['FrequencyCluster'] + ltv['RevenueCluster']\n",
    "ltv['Value'] = 'Low'\n",
    "ltv.loc[ltv['OverallScore']>2,'Value'] = 'Mid' \n",
    "ltv.loc[ltv['OverallScore']>4,'Value'] = 'High' \n",
    "ltv.columns = ['customer','recency_cluster','recency','frequency_cluster',\n",
    "        'orders','revenue_cluster','revenue','overall_score','value']"
   ]
  },
  {
   "cell_type": "code",
   "execution_count": 84,
   "metadata": {},
   "outputs": [
    {
     "data": {
      "text/html": [
       "<div>\n",
       "<style scoped>\n",
       "    .dataframe tbody tr th:only-of-type {\n",
       "        vertical-align: middle;\n",
       "    }\n",
       "\n",
       "    .dataframe tbody tr th {\n",
       "        vertical-align: top;\n",
       "    }\n",
       "\n",
       "    .dataframe thead th {\n",
       "        text-align: right;\n",
       "    }\n",
       "</style>\n",
       "<table border=\"1\" class=\"dataframe\">\n",
       "  <thead>\n",
       "    <tr style=\"text-align: right;\">\n",
       "      <th></th>\n",
       "      <th>customer</th>\n",
       "      <th>recency_cluster</th>\n",
       "      <th>recency</th>\n",
       "      <th>frequency_cluster</th>\n",
       "      <th>orders</th>\n",
       "      <th>revenue_cluster</th>\n",
       "      <th>revenue</th>\n",
       "      <th>overall_score</th>\n",
       "      <th>value</th>\n",
       "    </tr>\n",
       "  </thead>\n",
       "  <tbody>\n",
       "    <tr>\n",
       "      <th>0</th>\n",
       "      <td>AV Stores, Co.</td>\n",
       "      <td>2</td>\n",
       "      <td>195</td>\n",
       "      <td>1</td>\n",
       "      <td>51</td>\n",
       "      <td>1</td>\n",
       "      <td>157807.81</td>\n",
       "      <td>4</td>\n",
       "      <td>Mid</td>\n",
       "    </tr>\n",
       "    <tr>\n",
       "      <th>1</th>\n",
       "      <td>Alpha Cognac</td>\n",
       "      <td>2</td>\n",
       "      <td>264</td>\n",
       "      <td>0</td>\n",
       "      <td>20</td>\n",
       "      <td>0</td>\n",
       "      <td>70488.44</td>\n",
       "      <td>2</td>\n",
       "      <td>Low</td>\n",
       "    </tr>\n",
       "    <tr>\n",
       "      <th>2</th>\n",
       "      <td>Amica Models &amp; Co.</td>\n",
       "      <td>2</td>\n",
       "      <td>333</td>\n",
       "      <td>0</td>\n",
       "      <td>26</td>\n",
       "      <td>0</td>\n",
       "      <td>94117.26</td>\n",
       "      <td>2</td>\n",
       "      <td>Low</td>\n",
       "    </tr>\n",
       "    <tr>\n",
       "      <th>3</th>\n",
       "      <td>Anna's Decorations, Ltd</td>\n",
       "      <td>2</td>\n",
       "      <td>232</td>\n",
       "      <td>1</td>\n",
       "      <td>46</td>\n",
       "      <td>1</td>\n",
       "      <td>153996.13</td>\n",
       "      <td>4</td>\n",
       "      <td>Mid</td>\n",
       "    </tr>\n",
       "    <tr>\n",
       "      <th>4</th>\n",
       "      <td>Atelier graphique</td>\n",
       "      <td>2</td>\n",
       "      <td>266</td>\n",
       "      <td>0</td>\n",
       "      <td>7</td>\n",
       "      <td>0</td>\n",
       "      <td>24179.96</td>\n",
       "      <td>2</td>\n",
       "      <td>Low</td>\n",
       "    </tr>\n",
       "    <tr>\n",
       "      <th>5</th>\n",
       "      <td>Australian Collectables, Ltd</td>\n",
       "      <td>2</td>\n",
       "      <td>207</td>\n",
       "      <td>0</td>\n",
       "      <td>23</td>\n",
       "      <td>0</td>\n",
       "      <td>64591.46</td>\n",
       "      <td>2</td>\n",
       "      <td>Low</td>\n",
       "    </tr>\n",
       "    <tr>\n",
       "      <th>6</th>\n",
       "      <td>Australian Collectors, Co.</td>\n",
       "      <td>2</td>\n",
       "      <td>258</td>\n",
       "      <td>1</td>\n",
       "      <td>55</td>\n",
       "      <td>1</td>\n",
       "      <td>200995.41</td>\n",
       "      <td>4</td>\n",
       "      <td>Mid</td>\n",
       "    </tr>\n",
       "    <tr>\n",
       "      <th>7</th>\n",
       "      <td>Australian Gift Network, Co</td>\n",
       "      <td>2</td>\n",
       "      <td>229</td>\n",
       "      <td>0</td>\n",
       "      <td>15</td>\n",
       "      <td>0</td>\n",
       "      <td>59469.12</td>\n",
       "      <td>2</td>\n",
       "      <td>Low</td>\n",
       "    </tr>\n",
       "    <tr>\n",
       "      <th>8</th>\n",
       "      <td>Auto Assoc. &amp; Cie.</td>\n",
       "      <td>2</td>\n",
       "      <td>315</td>\n",
       "      <td>0</td>\n",
       "      <td>18</td>\n",
       "      <td>0</td>\n",
       "      <td>64834.32</td>\n",
       "      <td>2</td>\n",
       "      <td>Low</td>\n",
       "    </tr>\n",
       "    <tr>\n",
       "      <th>9</th>\n",
       "      <td>Auto Canal Petit</td>\n",
       "      <td>2</td>\n",
       "      <td>188</td>\n",
       "      <td>0</td>\n",
       "      <td>27</td>\n",
       "      <td>0</td>\n",
       "      <td>93170.66</td>\n",
       "      <td>2</td>\n",
       "      <td>Low</td>\n",
       "    </tr>\n",
       "    <tr>\n",
       "      <th>10</th>\n",
       "      <td>Auto-Moto Classics Inc.</td>\n",
       "      <td>2</td>\n",
       "      <td>178</td>\n",
       "      <td>0</td>\n",
       "      <td>8</td>\n",
       "      <td>0</td>\n",
       "      <td>26479.26</td>\n",
       "      <td>2</td>\n",
       "      <td>Low</td>\n",
       "    </tr>\n",
       "    <tr>\n",
       "      <th>11</th>\n",
       "      <td>Baane Mini Imports</td>\n",
       "      <td>2</td>\n",
       "      <td>221</td>\n",
       "      <td>1</td>\n",
       "      <td>32</td>\n",
       "      <td>1</td>\n",
       "      <td>116599.19</td>\n",
       "      <td>4</td>\n",
       "      <td>Mid</td>\n",
       "    </tr>\n",
       "    <tr>\n",
       "      <th>12</th>\n",
       "      <td>Bavarian Collectables Imports, Co.</td>\n",
       "      <td>2</td>\n",
       "      <td>329</td>\n",
       "      <td>0</td>\n",
       "      <td>14</td>\n",
       "      <td>0</td>\n",
       "      <td>34993.92</td>\n",
       "      <td>2</td>\n",
       "      <td>Low</td>\n",
       "    </tr>\n",
       "    <tr>\n",
       "      <th>13</th>\n",
       "      <td>Blauer See Auto, Co.</td>\n",
       "      <td>2</td>\n",
       "      <td>192</td>\n",
       "      <td>0</td>\n",
       "      <td>22</td>\n",
       "      <td>0</td>\n",
       "      <td>85171.59</td>\n",
       "      <td>2</td>\n",
       "      <td>Low</td>\n",
       "    </tr>\n",
       "    <tr>\n",
       "      <th>14</th>\n",
       "      <td>Boards &amp; Toys Co.</td>\n",
       "      <td>2</td>\n",
       "      <td>265</td>\n",
       "      <td>0</td>\n",
       "      <td>3</td>\n",
       "      <td>0</td>\n",
       "      <td>9129.35</td>\n",
       "      <td>2</td>\n",
       "      <td>Low</td>\n",
       "    </tr>\n",
       "    <tr>\n",
       "      <th>15</th>\n",
       "      <td>CAF Imports</td>\n",
       "      <td>2</td>\n",
       "      <td>173</td>\n",
       "      <td>0</td>\n",
       "      <td>13</td>\n",
       "      <td>0</td>\n",
       "      <td>49642.05</td>\n",
       "      <td>2</td>\n",
       "      <td>Low</td>\n",
       "    </tr>\n",
       "    <tr>\n",
       "      <th>16</th>\n",
       "      <td>Cambridge Collectables Co.</td>\n",
       "      <td>2</td>\n",
       "      <td>187</td>\n",
       "      <td>0</td>\n",
       "      <td>11</td>\n",
       "      <td>0</td>\n",
       "      <td>36163.62</td>\n",
       "      <td>2</td>\n",
       "      <td>Low</td>\n",
       "    </tr>\n",
       "    <tr>\n",
       "      <th>17</th>\n",
       "      <td>Canadian Gift Exchange Network</td>\n",
       "      <td>2</td>\n",
       "      <td>230</td>\n",
       "      <td>0</td>\n",
       "      <td>22</td>\n",
       "      <td>0</td>\n",
       "      <td>75238.92</td>\n",
       "      <td>2</td>\n",
       "      <td>Low</td>\n",
       "    </tr>\n",
       "    <tr>\n",
       "      <th>18</th>\n",
       "      <td>Classic Gift Ideas, Inc</td>\n",
       "      <td>2</td>\n",
       "      <td>209</td>\n",
       "      <td>0</td>\n",
       "      <td>21</td>\n",
       "      <td>0</td>\n",
       "      <td>67506.97</td>\n",
       "      <td>2</td>\n",
       "      <td>Low</td>\n",
       "    </tr>\n",
       "    <tr>\n",
       "      <th>19</th>\n",
       "      <td>Classic Legends Inc.</td>\n",
       "      <td>2</td>\n",
       "      <td>222</td>\n",
       "      <td>0</td>\n",
       "      <td>20</td>\n",
       "      <td>0</td>\n",
       "      <td>77795.20</td>\n",
       "      <td>2</td>\n",
       "      <td>Low</td>\n",
       "    </tr>\n",
       "    <tr>\n",
       "      <th>20</th>\n",
       "      <td>Clover Collections, Co.</td>\n",
       "      <td>2</td>\n",
       "      <td>194</td>\n",
       "      <td>0</td>\n",
       "      <td>16</td>\n",
       "      <td>0</td>\n",
       "      <td>57756.43</td>\n",
       "      <td>2</td>\n",
       "      <td>Low</td>\n",
       "    </tr>\n",
       "    <tr>\n",
       "      <th>21</th>\n",
       "      <td>Collectable Mini Designs Co.</td>\n",
       "      <td>2</td>\n",
       "      <td>208</td>\n",
       "      <td>0</td>\n",
       "      <td>25</td>\n",
       "      <td>0</td>\n",
       "      <td>87489.23</td>\n",
       "      <td>2</td>\n",
       "      <td>Low</td>\n",
       "    </tr>\n",
       "    <tr>\n",
       "      <th>22</th>\n",
       "      <td>Collectables For Less Inc.</td>\n",
       "      <td>2</td>\n",
       "      <td>302</td>\n",
       "      <td>0</td>\n",
       "      <td>24</td>\n",
       "      <td>0</td>\n",
       "      <td>81577.98</td>\n",
       "      <td>2</td>\n",
       "      <td>Low</td>\n",
       "    </tr>\n",
       "    <tr>\n",
       "      <th>23</th>\n",
       "      <td>Corporate Gift Ideas Co.</td>\n",
       "      <td>2</td>\n",
       "      <td>284</td>\n",
       "      <td>1</td>\n",
       "      <td>41</td>\n",
       "      <td>1</td>\n",
       "      <td>149882.50</td>\n",
       "      <td>4</td>\n",
       "      <td>Mid</td>\n",
       "    </tr>\n",
       "    <tr>\n",
       "      <th>24</th>\n",
       "      <td>Corrida Auto Replicas, Ltd</td>\n",
       "      <td>2</td>\n",
       "      <td>265</td>\n",
       "      <td>1</td>\n",
       "      <td>32</td>\n",
       "      <td>1</td>\n",
       "      <td>120615.28</td>\n",
       "      <td>4</td>\n",
       "      <td>Mid</td>\n",
       "    </tr>\n",
       "    <tr>\n",
       "      <th>25</th>\n",
       "      <td>Cruz &amp; Sons Co.</td>\n",
       "      <td>2</td>\n",
       "      <td>298</td>\n",
       "      <td>0</td>\n",
       "      <td>26</td>\n",
       "      <td>0</td>\n",
       "      <td>94015.73</td>\n",
       "      <td>2</td>\n",
       "      <td>Low</td>\n",
       "    </tr>\n",
       "    <tr>\n",
       "      <th>26</th>\n",
       "      <td>Daedalus Designs Imports</td>\n",
       "      <td>2</td>\n",
       "      <td>378</td>\n",
       "      <td>0</td>\n",
       "      <td>20</td>\n",
       "      <td>0</td>\n",
       "      <td>69052.41</td>\n",
       "      <td>2</td>\n",
       "      <td>Low</td>\n",
       "    </tr>\n",
       "    <tr>\n",
       "      <th>27</th>\n",
       "      <td>Danish Wholesale Imports</td>\n",
       "      <td>2</td>\n",
       "      <td>189</td>\n",
       "      <td>1</td>\n",
       "      <td>36</td>\n",
       "      <td>1</td>\n",
       "      <td>145041.60</td>\n",
       "      <td>4</td>\n",
       "      <td>Mid</td>\n",
       "    </tr>\n",
       "    <tr>\n",
       "      <th>28</th>\n",
       "      <td>Diecast Classics Inc.</td>\n",
       "      <td>2</td>\n",
       "      <td>227</td>\n",
       "      <td>1</td>\n",
       "      <td>31</td>\n",
       "      <td>1</td>\n",
       "      <td>122138.14</td>\n",
       "      <td>4</td>\n",
       "      <td>Mid</td>\n",
       "    </tr>\n",
       "    <tr>\n",
       "      <th>29</th>\n",
       "      <td>Diecast Collectables</td>\n",
       "      <td>2</td>\n",
       "      <td>243</td>\n",
       "      <td>0</td>\n",
       "      <td>18</td>\n",
       "      <td>0</td>\n",
       "      <td>70859.78</td>\n",
       "      <td>2</td>\n",
       "      <td>Low</td>\n",
       "    </tr>\n",
       "    <tr>\n",
       "      <th>...</th>\n",
       "      <td>...</td>\n",
       "      <td>...</td>\n",
       "      <td>...</td>\n",
       "      <td>...</td>\n",
       "      <td>...</td>\n",
       "      <td>...</td>\n",
       "      <td>...</td>\n",
       "      <td>...</td>\n",
       "      <td>...</td>\n",
       "    </tr>\n",
       "    <tr>\n",
       "      <th>62</th>\n",
       "      <td>Osaka Souveniers Co.</td>\n",
       "      <td>1</td>\n",
       "      <td>442</td>\n",
       "      <td>0</td>\n",
       "      <td>20</td>\n",
       "      <td>0</td>\n",
       "      <td>67605.07</td>\n",
       "      <td>1</td>\n",
       "      <td>Low</td>\n",
       "    </tr>\n",
       "    <tr>\n",
       "      <th>63</th>\n",
       "      <td>Oulu Toy Supplies, Inc.</td>\n",
       "      <td>1</td>\n",
       "      <td>438</td>\n",
       "      <td>1</td>\n",
       "      <td>32</td>\n",
       "      <td>0</td>\n",
       "      <td>104370.38</td>\n",
       "      <td>2</td>\n",
       "      <td>Low</td>\n",
       "    </tr>\n",
       "    <tr>\n",
       "      <th>64</th>\n",
       "      <td>Petit Auto</td>\n",
       "      <td>1</td>\n",
       "      <td>447</td>\n",
       "      <td>0</td>\n",
       "      <td>25</td>\n",
       "      <td>0</td>\n",
       "      <td>74972.52</td>\n",
       "      <td>1</td>\n",
       "      <td>Low</td>\n",
       "    </tr>\n",
       "    <tr>\n",
       "      <th>65</th>\n",
       "      <td>Quebec Home Shopping Network</td>\n",
       "      <td>1</td>\n",
       "      <td>543</td>\n",
       "      <td>0</td>\n",
       "      <td>22</td>\n",
       "      <td>0</td>\n",
       "      <td>74204.79</td>\n",
       "      <td>1</td>\n",
       "      <td>Low</td>\n",
       "    </tr>\n",
       "    <tr>\n",
       "      <th>66</th>\n",
       "      <td>Reims Collectables</td>\n",
       "      <td>1</td>\n",
       "      <td>474</td>\n",
       "      <td>1</td>\n",
       "      <td>41</td>\n",
       "      <td>1</td>\n",
       "      <td>135042.94</td>\n",
       "      <td>3</td>\n",
       "      <td>Mid</td>\n",
       "    </tr>\n",
       "    <tr>\n",
       "      <th>67</th>\n",
       "      <td>Rovelli Gifts</td>\n",
       "      <td>1</td>\n",
       "      <td>460</td>\n",
       "      <td>1</td>\n",
       "      <td>48</td>\n",
       "      <td>1</td>\n",
       "      <td>137955.72</td>\n",
       "      <td>3</td>\n",
       "      <td>Mid</td>\n",
       "    </tr>\n",
       "    <tr>\n",
       "      <th>68</th>\n",
       "      <td>Royal Canadian Collectables, Ltd.</td>\n",
       "      <td>1</td>\n",
       "      <td>599</td>\n",
       "      <td>0</td>\n",
       "      <td>26</td>\n",
       "      <td>0</td>\n",
       "      <td>74634.85</td>\n",
       "      <td>1</td>\n",
       "      <td>Low</td>\n",
       "    </tr>\n",
       "    <tr>\n",
       "      <th>69</th>\n",
       "      <td>Royale Belge</td>\n",
       "      <td>1</td>\n",
       "      <td>491</td>\n",
       "      <td>0</td>\n",
       "      <td>8</td>\n",
       "      <td>0</td>\n",
       "      <td>33440.10</td>\n",
       "      <td>1</td>\n",
       "      <td>Low</td>\n",
       "    </tr>\n",
       "    <tr>\n",
       "      <th>70</th>\n",
       "      <td>Salzburg Collectables</td>\n",
       "      <td>1</td>\n",
       "      <td>551</td>\n",
       "      <td>1</td>\n",
       "      <td>40</td>\n",
       "      <td>1</td>\n",
       "      <td>149798.63</td>\n",
       "      <td>3</td>\n",
       "      <td>Mid</td>\n",
       "    </tr>\n",
       "    <tr>\n",
       "      <th>71</th>\n",
       "      <td>Saveley &amp; Henriot, Co.</td>\n",
       "      <td>1</td>\n",
       "      <td>567</td>\n",
       "      <td>1</td>\n",
       "      <td>41</td>\n",
       "      <td>1</td>\n",
       "      <td>142874.25</td>\n",
       "      <td>3</td>\n",
       "      <td>Mid</td>\n",
       "    </tr>\n",
       "    <tr>\n",
       "      <th>72</th>\n",
       "      <td>Scandinavian Gift Ideas</td>\n",
       "      <td>1</td>\n",
       "      <td>539</td>\n",
       "      <td>1</td>\n",
       "      <td>38</td>\n",
       "      <td>1</td>\n",
       "      <td>134259.33</td>\n",
       "      <td>3</td>\n",
       "      <td>Mid</td>\n",
       "    </tr>\n",
       "    <tr>\n",
       "      <th>73</th>\n",
       "      <td>Signal Collectibles Ltd.</td>\n",
       "      <td>1</td>\n",
       "      <td>564</td>\n",
       "      <td>0</td>\n",
       "      <td>15</td>\n",
       "      <td>0</td>\n",
       "      <td>50218.51</td>\n",
       "      <td>1</td>\n",
       "      <td>Low</td>\n",
       "    </tr>\n",
       "    <tr>\n",
       "      <th>74</th>\n",
       "      <td>Signal Gift Stores</td>\n",
       "      <td>1</td>\n",
       "      <td>620</td>\n",
       "      <td>0</td>\n",
       "      <td>29</td>\n",
       "      <td>0</td>\n",
       "      <td>82751.08</td>\n",
       "      <td>1</td>\n",
       "      <td>Low</td>\n",
       "    </tr>\n",
       "    <tr>\n",
       "      <th>75</th>\n",
       "      <td>Souveniers And Things Co.</td>\n",
       "      <td>1</td>\n",
       "      <td>482</td>\n",
       "      <td>1</td>\n",
       "      <td>46</td>\n",
       "      <td>1</td>\n",
       "      <td>151570.98</td>\n",
       "      <td>3</td>\n",
       "      <td>Mid</td>\n",
       "    </tr>\n",
       "    <tr>\n",
       "      <th>76</th>\n",
       "      <td>Stylish Desk Decors, Co.</td>\n",
       "      <td>1</td>\n",
       "      <td>560</td>\n",
       "      <td>0</td>\n",
       "      <td>26</td>\n",
       "      <td>0</td>\n",
       "      <td>88804.50</td>\n",
       "      <td>1</td>\n",
       "      <td>Low</td>\n",
       "    </tr>\n",
       "    <tr>\n",
       "      <th>77</th>\n",
       "      <td>Suominen Souveniers</td>\n",
       "      <td>1</td>\n",
       "      <td>564</td>\n",
       "      <td>0</td>\n",
       "      <td>30</td>\n",
       "      <td>1</td>\n",
       "      <td>113961.15</td>\n",
       "      <td>2</td>\n",
       "      <td>Low</td>\n",
       "    </tr>\n",
       "    <tr>\n",
       "      <th>78</th>\n",
       "      <td>Super Scale Inc.</td>\n",
       "      <td>1</td>\n",
       "      <td>598</td>\n",
       "      <td>0</td>\n",
       "      <td>17</td>\n",
       "      <td>0</td>\n",
       "      <td>79472.07</td>\n",
       "      <td>1</td>\n",
       "      <td>Low</td>\n",
       "    </tr>\n",
       "    <tr>\n",
       "      <th>79</th>\n",
       "      <td>Technics Stores Inc.</td>\n",
       "      <td>1</td>\n",
       "      <td>588</td>\n",
       "      <td>1</td>\n",
       "      <td>34</td>\n",
       "      <td>1</td>\n",
       "      <td>120783.07</td>\n",
       "      <td>3</td>\n",
       "      <td>Mid</td>\n",
       "    </tr>\n",
       "    <tr>\n",
       "      <th>80</th>\n",
       "      <td>Tekni Collectables Inc.</td>\n",
       "      <td>1</td>\n",
       "      <td>553</td>\n",
       "      <td>0</td>\n",
       "      <td>21</td>\n",
       "      <td>0</td>\n",
       "      <td>83228.19</td>\n",
       "      <td>1</td>\n",
       "      <td>Low</td>\n",
       "    </tr>\n",
       "    <tr>\n",
       "      <th>81</th>\n",
       "      <td>The Sharp Gifts Warehouse</td>\n",
       "      <td>1</td>\n",
       "      <td>564</td>\n",
       "      <td>1</td>\n",
       "      <td>40</td>\n",
       "      <td>1</td>\n",
       "      <td>160010.27</td>\n",
       "      <td>3</td>\n",
       "      <td>Mid</td>\n",
       "    </tr>\n",
       "    <tr>\n",
       "      <th>82</th>\n",
       "      <td>Tokyo Collectables, Ltd</td>\n",
       "      <td>1</td>\n",
       "      <td>604</td>\n",
       "      <td>1</td>\n",
       "      <td>32</td>\n",
       "      <td>1</td>\n",
       "      <td>120562.74</td>\n",
       "      <td>3</td>\n",
       "      <td>Mid</td>\n",
       "    </tr>\n",
       "    <tr>\n",
       "      <th>83</th>\n",
       "      <td>Toms Spezialitten, Ltd</td>\n",
       "      <td>1</td>\n",
       "      <td>505</td>\n",
       "      <td>0</td>\n",
       "      <td>26</td>\n",
       "      <td>0</td>\n",
       "      <td>100306.58</td>\n",
       "      <td>1</td>\n",
       "      <td>Low</td>\n",
       "    </tr>\n",
       "    <tr>\n",
       "      <th>84</th>\n",
       "      <td>Toys of Finland, Co.</td>\n",
       "      <td>1</td>\n",
       "      <td>618</td>\n",
       "      <td>0</td>\n",
       "      <td>30</td>\n",
       "      <td>1</td>\n",
       "      <td>111250.38</td>\n",
       "      <td>2</td>\n",
       "      <td>Low</td>\n",
       "    </tr>\n",
       "    <tr>\n",
       "      <th>85</th>\n",
       "      <td>Toys4GrownUps.com</td>\n",
       "      <td>1</td>\n",
       "      <td>468</td>\n",
       "      <td>0</td>\n",
       "      <td>30</td>\n",
       "      <td>0</td>\n",
       "      <td>104561.96</td>\n",
       "      <td>1</td>\n",
       "      <td>Low</td>\n",
       "    </tr>\n",
       "    <tr>\n",
       "      <th>86</th>\n",
       "      <td>UK Collectables, Ltd.</td>\n",
       "      <td>1</td>\n",
       "      <td>515</td>\n",
       "      <td>0</td>\n",
       "      <td>29</td>\n",
       "      <td>1</td>\n",
       "      <td>118008.27</td>\n",
       "      <td>2</td>\n",
       "      <td>Low</td>\n",
       "    </tr>\n",
       "    <tr>\n",
       "      <th>87</th>\n",
       "      <td>Vida Sport, Ltd</td>\n",
       "      <td>1</td>\n",
       "      <td>476</td>\n",
       "      <td>1</td>\n",
       "      <td>31</td>\n",
       "      <td>1</td>\n",
       "      <td>117713.56</td>\n",
       "      <td>3</td>\n",
       "      <td>Mid</td>\n",
       "    </tr>\n",
       "    <tr>\n",
       "      <th>88</th>\n",
       "      <td>Vitachrome Inc.</td>\n",
       "      <td>1</td>\n",
       "      <td>391</td>\n",
       "      <td>0</td>\n",
       "      <td>25</td>\n",
       "      <td>0</td>\n",
       "      <td>88041.26</td>\n",
       "      <td>1</td>\n",
       "      <td>Low</td>\n",
       "    </tr>\n",
       "    <tr>\n",
       "      <th>89</th>\n",
       "      <td>Volvo Model Replicas, Co</td>\n",
       "      <td>1</td>\n",
       "      <td>552</td>\n",
       "      <td>0</td>\n",
       "      <td>19</td>\n",
       "      <td>0</td>\n",
       "      <td>75754.88</td>\n",
       "      <td>1</td>\n",
       "      <td>Low</td>\n",
       "    </tr>\n",
       "    <tr>\n",
       "      <th>90</th>\n",
       "      <td>West Coast Collectables Co.</td>\n",
       "      <td>1</td>\n",
       "      <td>488</td>\n",
       "      <td>0</td>\n",
       "      <td>13</td>\n",
       "      <td>0</td>\n",
       "      <td>46084.64</td>\n",
       "      <td>1</td>\n",
       "      <td>Low</td>\n",
       "    </tr>\n",
       "    <tr>\n",
       "      <th>91</th>\n",
       "      <td>giftsbymail.co.uk</td>\n",
       "      <td>1</td>\n",
       "      <td>437</td>\n",
       "      <td>0</td>\n",
       "      <td>26</td>\n",
       "      <td>0</td>\n",
       "      <td>78240.84</td>\n",
       "      <td>1</td>\n",
       "      <td>Low</td>\n",
       "    </tr>\n",
       "  </tbody>\n",
       "</table>\n",
       "<p>92 rows × 9 columns</p>\n",
       "</div>"
      ],
      "text/plain": [
       "                              customer  recency_cluster  recency  \\\n",
       "0                       AV Stores, Co.                2      195   \n",
       "1                         Alpha Cognac                2      264   \n",
       "2                   Amica Models & Co.                2      333   \n",
       "3              Anna's Decorations, Ltd                2      232   \n",
       "4                    Atelier graphique                2      266   \n",
       "5         Australian Collectables, Ltd                2      207   \n",
       "6           Australian Collectors, Co.                2      258   \n",
       "7          Australian Gift Network, Co                2      229   \n",
       "8                   Auto Assoc. & Cie.                2      315   \n",
       "9                     Auto Canal Petit                2      188   \n",
       "10             Auto-Moto Classics Inc.                2      178   \n",
       "11                  Baane Mini Imports                2      221   \n",
       "12  Bavarian Collectables Imports, Co.                2      329   \n",
       "13                Blauer See Auto, Co.                2      192   \n",
       "14                   Boards & Toys Co.                2      265   \n",
       "15                         CAF Imports                2      173   \n",
       "16          Cambridge Collectables Co.                2      187   \n",
       "17      Canadian Gift Exchange Network                2      230   \n",
       "18             Classic Gift Ideas, Inc                2      209   \n",
       "19                Classic Legends Inc.                2      222   \n",
       "20             Clover Collections, Co.                2      194   \n",
       "21        Collectable Mini Designs Co.                2      208   \n",
       "22          Collectables For Less Inc.                2      302   \n",
       "23            Corporate Gift Ideas Co.                2      284   \n",
       "24          Corrida Auto Replicas, Ltd                2      265   \n",
       "25                     Cruz & Sons Co.                2      298   \n",
       "26            Daedalus Designs Imports                2      378   \n",
       "27            Danish Wholesale Imports                2      189   \n",
       "28               Diecast Classics Inc.                2      227   \n",
       "29                Diecast Collectables                2      243   \n",
       "..                                 ...              ...      ...   \n",
       "62                Osaka Souveniers Co.                1      442   \n",
       "63             Oulu Toy Supplies, Inc.                1      438   \n",
       "64                          Petit Auto                1      447   \n",
       "65        Quebec Home Shopping Network                1      543   \n",
       "66                  Reims Collectables                1      474   \n",
       "67                       Rovelli Gifts                1      460   \n",
       "68   Royal Canadian Collectables, Ltd.                1      599   \n",
       "69                        Royale Belge                1      491   \n",
       "70               Salzburg Collectables                1      551   \n",
       "71              Saveley & Henriot, Co.                1      567   \n",
       "72             Scandinavian Gift Ideas                1      539   \n",
       "73            Signal Collectibles Ltd.                1      564   \n",
       "74                  Signal Gift Stores                1      620   \n",
       "75           Souveniers And Things Co.                1      482   \n",
       "76            Stylish Desk Decors, Co.                1      560   \n",
       "77                 Suominen Souveniers                1      564   \n",
       "78                    Super Scale Inc.                1      598   \n",
       "79                Technics Stores Inc.                1      588   \n",
       "80             Tekni Collectables Inc.                1      553   \n",
       "81           The Sharp Gifts Warehouse                1      564   \n",
       "82             Tokyo Collectables, Ltd                1      604   \n",
       "83              Toms Spezialitten, Ltd                1      505   \n",
       "84                Toys of Finland, Co.                1      618   \n",
       "85                   Toys4GrownUps.com                1      468   \n",
       "86               UK Collectables, Ltd.                1      515   \n",
       "87                     Vida Sport, Ltd                1      476   \n",
       "88                     Vitachrome Inc.                1      391   \n",
       "89            Volvo Model Replicas, Co                1      552   \n",
       "90         West Coast Collectables Co.                1      488   \n",
       "91                   giftsbymail.co.uk                1      437   \n",
       "\n",
       "    frequency_cluster  orders  revenue_cluster    revenue  overall_score value  \n",
       "0                   1      51                1  157807.81              4   Mid  \n",
       "1                   0      20                0   70488.44              2   Low  \n",
       "2                   0      26                0   94117.26              2   Low  \n",
       "3                   1      46                1  153996.13              4   Mid  \n",
       "4                   0       7                0   24179.96              2   Low  \n",
       "5                   0      23                0   64591.46              2   Low  \n",
       "6                   1      55                1  200995.41              4   Mid  \n",
       "7                   0      15                0   59469.12              2   Low  \n",
       "8                   0      18                0   64834.32              2   Low  \n",
       "9                   0      27                0   93170.66              2   Low  \n",
       "10                  0       8                0   26479.26              2   Low  \n",
       "11                  1      32                1  116599.19              4   Mid  \n",
       "12                  0      14                0   34993.92              2   Low  \n",
       "13                  0      22                0   85171.59              2   Low  \n",
       "14                  0       3                0    9129.35              2   Low  \n",
       "15                  0      13                0   49642.05              2   Low  \n",
       "16                  0      11                0   36163.62              2   Low  \n",
       "17                  0      22                0   75238.92              2   Low  \n",
       "18                  0      21                0   67506.97              2   Low  \n",
       "19                  0      20                0   77795.20              2   Low  \n",
       "20                  0      16                0   57756.43              2   Low  \n",
       "21                  0      25                0   87489.23              2   Low  \n",
       "22                  0      24                0   81577.98              2   Low  \n",
       "23                  1      41                1  149882.50              4   Mid  \n",
       "24                  1      32                1  120615.28              4   Mid  \n",
       "25                  0      26                0   94015.73              2   Low  \n",
       "26                  0      20                0   69052.41              2   Low  \n",
       "27                  1      36                1  145041.60              4   Mid  \n",
       "28                  1      31                1  122138.14              4   Mid  \n",
       "29                  0      18                0   70859.78              2   Low  \n",
       "..                ...     ...              ...        ...            ...   ...  \n",
       "62                  0      20                0   67605.07              1   Low  \n",
       "63                  1      32                0  104370.38              2   Low  \n",
       "64                  0      25                0   74972.52              1   Low  \n",
       "65                  0      22                0   74204.79              1   Low  \n",
       "66                  1      41                1  135042.94              3   Mid  \n",
       "67                  1      48                1  137955.72              3   Mid  \n",
       "68                  0      26                0   74634.85              1   Low  \n",
       "69                  0       8                0   33440.10              1   Low  \n",
       "70                  1      40                1  149798.63              3   Mid  \n",
       "71                  1      41                1  142874.25              3   Mid  \n",
       "72                  1      38                1  134259.33              3   Mid  \n",
       "73                  0      15                0   50218.51              1   Low  \n",
       "74                  0      29                0   82751.08              1   Low  \n",
       "75                  1      46                1  151570.98              3   Mid  \n",
       "76                  0      26                0   88804.50              1   Low  \n",
       "77                  0      30                1  113961.15              2   Low  \n",
       "78                  0      17                0   79472.07              1   Low  \n",
       "79                  1      34                1  120783.07              3   Mid  \n",
       "80                  0      21                0   83228.19              1   Low  \n",
       "81                  1      40                1  160010.27              3   Mid  \n",
       "82                  1      32                1  120562.74              3   Mid  \n",
       "83                  0      26                0  100306.58              1   Low  \n",
       "84                  0      30                1  111250.38              2   Low  \n",
       "85                  0      30                0  104561.96              1   Low  \n",
       "86                  0      29                1  118008.27              2   Low  \n",
       "87                  1      31                1  117713.56              3   Mid  \n",
       "88                  0      25                0   88041.26              1   Low  \n",
       "89                  0      19                0   75754.88              1   Low  \n",
       "90                  0      13                0   46084.64              1   Low  \n",
       "91                  0      26                0   78240.84              1   Low  \n",
       "\n",
       "[92 rows x 9 columns]"
      ]
     },
     "execution_count": 84,
     "metadata": {},
     "output_type": "execute_result"
    }
   ],
   "source": [
    "ltv.head(100)"
   ]
  },
  {
   "cell_type": "markdown",
   "metadata": {},
   "source": [
    "The scoring below shows us that customers with score 8 are our best customers whereas 0 are the worst."
   ]
  },
  {
   "cell_type": "code",
   "execution_count": 85,
   "metadata": {},
   "outputs": [
    {
     "data": {
      "text/html": [
       "<div>\n",
       "<style scoped>\n",
       "    .dataframe tbody tr th:only-of-type {\n",
       "        vertical-align: middle;\n",
       "    }\n",
       "\n",
       "    .dataframe tbody tr th {\n",
       "        vertical-align: top;\n",
       "    }\n",
       "\n",
       "    .dataframe thead th {\n",
       "        text-align: right;\n",
       "    }\n",
       "</style>\n",
       "<table border=\"1\" class=\"dataframe\">\n",
       "  <thead>\n",
       "    <tr style=\"text-align: right;\">\n",
       "      <th></th>\n",
       "      <th>recency</th>\n",
       "      <th>orders</th>\n",
       "      <th>revenue</th>\n",
       "    </tr>\n",
       "    <tr>\n",
       "      <th>overall_score</th>\n",
       "      <th></th>\n",
       "      <th></th>\n",
       "      <th></th>\n",
       "    </tr>\n",
       "  </thead>\n",
       "  <tbody>\n",
       "    <tr>\n",
       "      <th>0</th>\n",
       "      <td>751.500000</td>\n",
       "      <td>23.000000</td>\n",
       "      <td>84032.191250</td>\n",
       "    </tr>\n",
       "    <tr>\n",
       "      <th>1</th>\n",
       "      <td>521.631579</td>\n",
       "      <td>21.894737</td>\n",
       "      <td>76336.016316</td>\n",
       "    </tr>\n",
       "    <tr>\n",
       "      <th>2</th>\n",
       "      <td>319.000000</td>\n",
       "      <td>20.931034</td>\n",
       "      <td>73635.618621</td>\n",
       "    </tr>\n",
       "    <tr>\n",
       "      <th>3</th>\n",
       "      <td>306.428571</td>\n",
       "      <td>29.761905</td>\n",
       "      <td>105545.416667</td>\n",
       "    </tr>\n",
       "    <tr>\n",
       "      <th>4</th>\n",
       "      <td>230.888889</td>\n",
       "      <td>40.777778</td>\n",
       "      <td>148896.193333</td>\n",
       "    </tr>\n",
       "    <tr>\n",
       "      <th>5</th>\n",
       "      <td>109.250000</td>\n",
       "      <td>46.250000</td>\n",
       "      <td>162720.602500</td>\n",
       "    </tr>\n",
       "    <tr>\n",
       "      <th>6</th>\n",
       "      <td>742.000000</td>\n",
       "      <td>259.000000</td>\n",
       "      <td>912294.110000</td>\n",
       "    </tr>\n",
       "    <tr>\n",
       "      <th>7</th>\n",
       "      <td>14.000000</td>\n",
       "      <td>180.000000</td>\n",
       "      <td>654858.060000</td>\n",
       "    </tr>\n",
       "  </tbody>\n",
       "</table>\n",
       "</div>"
      ],
      "text/plain": [
       "                  recency      orders        revenue\n",
       "overall_score                                       \n",
       "0              751.500000   23.000000   84032.191250\n",
       "1              521.631579   21.894737   76336.016316\n",
       "2              319.000000   20.931034   73635.618621\n",
       "3              306.428571   29.761905  105545.416667\n",
       "4              230.888889   40.777778  148896.193333\n",
       "5              109.250000   46.250000  162720.602500\n",
       "6              742.000000  259.000000  912294.110000\n",
       "7               14.000000  180.000000  654858.060000"
      ]
     },
     "execution_count": 85,
     "metadata": {},
     "output_type": "execute_result"
    }
   ],
   "source": [
    "ltv.groupby('overall_score')['recency','orders','revenue'].mean()"
   ]
  },
  {
   "cell_type": "code",
   "execution_count": 86,
   "metadata": {
    "scrolled": false
   },
   "outputs": [
    {
     "data": {
      "image/png": "[encoded data removed]",
      "text/plain": [
       "<Figure size 720x504 with 1 Axes>"
      ]
     },
     "metadata": {},
     "output_type": "display_data"
    },
    {
     "data": {
      "image/png": "[encoded data removed]",
      "text/plain": [
       "<Figure size 720x504 with 1 Axes>"
      ]
     },
     "metadata": {},
     "output_type": "display_data"
    },
    {
     "data": {
      "image/png": "[encoded data removed]",
      "text/plain": [
       "<Figure size 720x504 with 1 Axes>"
      ]
     },
     "metadata": {},
     "output_type": "display_data"
    }
   ],
   "source": [
    "colors = {'High':'red', 'Mid':'green', 'Low':'blue'}\n",
    "ltv.plot(kind=\"scatter\", x=\"recency\", y=\"orders\", alpha=0.7,\n",
    "    #label=\"population\", \n",
    "    figsize=(10,7),\n",
    "    c=ltv['value'].apply(lambda x: colors[x]),\n",
    "    sharex=False)\n",
    "ltv.plot(kind=\"scatter\", x=\"orders\", y=\"revenue\", alpha=0.7,\n",
    "    #label=\"population\", \n",
    "    figsize=(10,7),\n",
    "    c=ltv['value'].apply(lambda x: colors[x]),\n",
    "    sharex=False)\n",
    "ltv.plot(kind=\"scatter\", x=\"revenue\", y=\"recency\", alpha=0.7,\n",
    "    #label=\"population\", \n",
    "    figsize=(10,7),\n",
    "    c=ltv['value'].apply(lambda x: colors[x]),\n",
    "    sharex=False)\n",
    "plt.show()"
   ]
  },
  {
   "cell_type": "code",
   "execution_count": null,
   "metadata": {},
   "outputs": [],
   "source": []
  }
 ],
 "metadata": {
  "kernelspec": {
   "display_name": "Python 3",
   "language": "python",
   "name": "python3"
  },
  "language_info": {
   "codemirror_mode": {
    "name": "ipython",
    "version": 3
   },
   "file_extension": ".py",
   "mimetype": "text/x-python",
   "name": "python",
   "nbconvert_exporter": "python",
   "pygments_lexer": "ipython3",
   "version": "3.7.3"
  }
 },
 "nbformat": 4,
 "nbformat_minor": 2
}
