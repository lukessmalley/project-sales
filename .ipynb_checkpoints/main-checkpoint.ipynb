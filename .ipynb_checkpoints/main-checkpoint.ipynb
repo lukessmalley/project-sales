{
 "cells": [
  {
   "cell_type": "markdown",
   "metadata": {},
   "source": [
    "# Basic Sales Data Analysis"
   ]
  },
  {
   "cell_type": "markdown",
   "metadata": {},
   "source": [
    "## Introduction\n",
    "This notebook demonstrates how to perform basic data analysis on sales data using Python. It seeks to answer four questions that are commonly asked:\n",
    "1. Who are the most profitable customers?\n",
    "2. Is there a difference between profitable customers and average customers?\n",
    "3. Can we characterize profitable customers? \n",
    "4. Can we predict if a new customer will be profitable? "
   ]
  },
  {
   "cell_type": "markdown",
   "metadata": {},
   "source": [
    "## Import Libraries"
   ]
  },
  {
   "cell_type": "code",
   "execution_count": 1,
   "metadata": {},
   "outputs": [],
   "source": [
    "import pandas as pd\n",
    "import numpy as np;\n",
    "import seaborn as sns\n",
    "import matplotlib.pyplot as plt\n",
    "from scipy.stats import ttest_1samp, ttest_rel, ttest_ind\n",
    "from sklearn.model_selection import train_test_split\n",
    "from sklearn import preprocessing\n",
    "from sklearn.metrics import confusion_matrix \n",
    "from sklearn.metrics import accuracy_score \n",
    "from sklearn.metrics import classification_report "
   ]
  },
  {
   "cell_type": "markdown",
   "metadata": {},
   "source": [
    "## Import Data"
   ]
  },
  {
   "cell_type": "markdown",
   "metadata": {},
   "source": [
    "This workbook uses data from provided by Gus Segura. More information about this dataset can be found here (https://www.kaggle.com/kyanyoga/sample-sales-data)"
   ]
  },
  {
   "cell_type": "code",
   "execution_count": 2,
   "metadata": {},
   "outputs": [],
   "source": [
    "data = pd.read_csv('sales_data_sample.csv',encoding='cp1252')"
   ]
  },
  {
   "cell_type": "markdown",
   "metadata": {},
   "source": [
    "## Data Exploration"
   ]
  },
  {
   "cell_type": "code",
   "execution_count": 3,
   "metadata": {},
   "outputs": [
    {
     "data": {
      "text/html": [
       "<div>\n",
       "<style scoped>\n",
       "    .dataframe tbody tr th:only-of-type {\n",
       "        vertical-align: middle;\n",
       "    }\n",
       "\n",
       "    .dataframe tbody tr th {\n",
       "        vertical-align: top;\n",
       "    }\n",
       "\n",
       "    .dataframe thead th {\n",
       "        text-align: right;\n",
       "    }\n",
       "</style>\n",
       "<table border=\"1\" class=\"dataframe\">\n",
       "  <thead>\n",
       "    <tr style=\"text-align: right;\">\n",
       "      <th></th>\n",
       "      <th>ORDERNUMBER</th>\n",
       "      <th>QUANTITYORDERED</th>\n",
       "      <th>PRICEEACH</th>\n",
       "      <th>ORDERLINENUMBER</th>\n",
       "      <th>SALES</th>\n",
       "      <th>ORDERDATE</th>\n",
       "      <th>STATUS</th>\n",
       "      <th>QTR_ID</th>\n",
       "      <th>MONTH_ID</th>\n",
       "      <th>YEAR_ID</th>\n",
       "      <th>...</th>\n",
       "      <th>ADDRESSLINE1</th>\n",
       "      <th>ADDRESSLINE2</th>\n",
       "      <th>CITY</th>\n",
       "      <th>STATE</th>\n",
       "      <th>POSTALCODE</th>\n",
       "      <th>COUNTRY</th>\n",
       "      <th>TERRITORY</th>\n",
       "      <th>CONTACTLASTNAME</th>\n",
       "      <th>CONTACTFIRSTNAME</th>\n",
       "      <th>DEALSIZE</th>\n",
       "    </tr>\n",
       "  </thead>\n",
       "  <tbody>\n",
       "    <tr>\n",
       "      <th>0</th>\n",
       "      <td>10107</td>\n",
       "      <td>30</td>\n",
       "      <td>95.70</td>\n",
       "      <td>2</td>\n",
       "      <td>2871.00</td>\n",
       "      <td>2/24/2003 0:00</td>\n",
       "      <td>Shipped</td>\n",
       "      <td>1</td>\n",
       "      <td>2</td>\n",
       "      <td>2003</td>\n",
       "      <td>...</td>\n",
       "      <td>897 Long Airport Avenue</td>\n",
       "      <td>NaN</td>\n",
       "      <td>NYC</td>\n",
       "      <td>NY</td>\n",
       "      <td>10022</td>\n",
       "      <td>USA</td>\n",
       "      <td>NaN</td>\n",
       "      <td>Yu</td>\n",
       "      <td>Kwai</td>\n",
       "      <td>Small</td>\n",
       "    </tr>\n",
       "    <tr>\n",
       "      <th>1</th>\n",
       "      <td>10121</td>\n",
       "      <td>34</td>\n",
       "      <td>81.35</td>\n",
       "      <td>5</td>\n",
       "      <td>2765.90</td>\n",
       "      <td>5/7/2003 0:00</td>\n",
       "      <td>Shipped</td>\n",
       "      <td>2</td>\n",
       "      <td>5</td>\n",
       "      <td>2003</td>\n",
       "      <td>...</td>\n",
       "      <td>59 rue de l'Abbaye</td>\n",
       "      <td>NaN</td>\n",
       "      <td>Reims</td>\n",
       "      <td>NaN</td>\n",
       "      <td>51100</td>\n",
       "      <td>France</td>\n",
       "      <td>EMEA</td>\n",
       "      <td>Henriot</td>\n",
       "      <td>Paul</td>\n",
       "      <td>Small</td>\n",
       "    </tr>\n",
       "    <tr>\n",
       "      <th>2</th>\n",
       "      <td>10134</td>\n",
       "      <td>41</td>\n",
       "      <td>94.74</td>\n",
       "      <td>2</td>\n",
       "      <td>3884.34</td>\n",
       "      <td>7/1/2003 0:00</td>\n",
       "      <td>Shipped</td>\n",
       "      <td>3</td>\n",
       "      <td>7</td>\n",
       "      <td>2003</td>\n",
       "      <td>...</td>\n",
       "      <td>27 rue du Colonel Pierre Avia</td>\n",
       "      <td>NaN</td>\n",
       "      <td>Paris</td>\n",
       "      <td>NaN</td>\n",
       "      <td>75508</td>\n",
       "      <td>France</td>\n",
       "      <td>EMEA</td>\n",
       "      <td>Da Cunha</td>\n",
       "      <td>Daniel</td>\n",
       "      <td>Medium</td>\n",
       "    </tr>\n",
       "    <tr>\n",
       "      <th>3</th>\n",
       "      <td>10145</td>\n",
       "      <td>45</td>\n",
       "      <td>83.26</td>\n",
       "      <td>6</td>\n",
       "      <td>3746.70</td>\n",
       "      <td>8/25/2003 0:00</td>\n",
       "      <td>Shipped</td>\n",
       "      <td>3</td>\n",
       "      <td>8</td>\n",
       "      <td>2003</td>\n",
       "      <td>...</td>\n",
       "      <td>78934 Hillside Dr.</td>\n",
       "      <td>NaN</td>\n",
       "      <td>Pasadena</td>\n",
       "      <td>CA</td>\n",
       "      <td>90003</td>\n",
       "      <td>USA</td>\n",
       "      <td>NaN</td>\n",
       "      <td>Young</td>\n",
       "      <td>Julie</td>\n",
       "      <td>Medium</td>\n",
       "    </tr>\n",
       "    <tr>\n",
       "      <th>4</th>\n",
       "      <td>10159</td>\n",
       "      <td>49</td>\n",
       "      <td>100.00</td>\n",
       "      <td>14</td>\n",
       "      <td>5205.27</td>\n",
       "      <td>10/10/2003 0:00</td>\n",
       "      <td>Shipped</td>\n",
       "      <td>4</td>\n",
       "      <td>10</td>\n",
       "      <td>2003</td>\n",
       "      <td>...</td>\n",
       "      <td>7734 Strong St.</td>\n",
       "      <td>NaN</td>\n",
       "      <td>San Francisco</td>\n",
       "      <td>CA</td>\n",
       "      <td>NaN</td>\n",
       "      <td>USA</td>\n",
       "      <td>NaN</td>\n",
       "      <td>Brown</td>\n",
       "      <td>Julie</td>\n",
       "      <td>Medium</td>\n",
       "    </tr>\n",
       "  </tbody>\n",
       "</table>\n",
       "<p>5 rows × 25 columns</p>\n",
       "</div>"
      ],
      "text/plain": [
       "   ORDERNUMBER  QUANTITYORDERED  PRICEEACH  ORDERLINENUMBER    SALES  \\\n",
       "0        10107               30      95.70                2  2871.00   \n",
       "1        10121               34      81.35                5  2765.90   \n",
       "2        10134               41      94.74                2  3884.34   \n",
       "3        10145               45      83.26                6  3746.70   \n",
       "4        10159               49     100.00               14  5205.27   \n",
       "\n",
       "         ORDERDATE   STATUS  QTR_ID  MONTH_ID  YEAR_ID  ...  \\\n",
       "0   2/24/2003 0:00  Shipped       1         2     2003  ...   \n",
       "1    5/7/2003 0:00  Shipped       2         5     2003  ...   \n",
       "2    7/1/2003 0:00  Shipped       3         7     2003  ...   \n",
       "3   8/25/2003 0:00  Shipped       3         8     2003  ...   \n",
       "4  10/10/2003 0:00  Shipped       4        10     2003  ...   \n",
       "\n",
       "                    ADDRESSLINE1  ADDRESSLINE2           CITY STATE  \\\n",
       "0        897 Long Airport Avenue           NaN            NYC    NY   \n",
       "1             59 rue de l'Abbaye           NaN          Reims   NaN   \n",
       "2  27 rue du Colonel Pierre Avia           NaN          Paris   NaN   \n",
       "3             78934 Hillside Dr.           NaN       Pasadena    CA   \n",
       "4                7734 Strong St.           NaN  San Francisco    CA   \n",
       "\n",
       "  POSTALCODE COUNTRY TERRITORY CONTACTLASTNAME CONTACTFIRSTNAME DEALSIZE  \n",
       "0      10022     USA       NaN              Yu             Kwai    Small  \n",
       "1      51100  France      EMEA         Henriot             Paul    Small  \n",
       "2      75508  France      EMEA        Da Cunha           Daniel   Medium  \n",
       "3      90003     USA       NaN           Young            Julie   Medium  \n",
       "4        NaN     USA       NaN           Brown            Julie   Medium  \n",
       "\n",
       "[5 rows x 25 columns]"
      ]
     },
     "execution_count": 3,
     "metadata": {},
     "output_type": "execute_result"
    }
   ],
   "source": [
    "data.head()"
   ]
  },
  {
   "cell_type": "code",
   "execution_count": 4,
   "metadata": {},
   "outputs": [
    {
     "data": {
      "text/plain": [
       "Index(['ORDERNUMBER', 'QUANTITYORDERED', 'PRICEEACH', 'ORDERLINENUMBER',\n",
       "       'SALES', 'ORDERDATE', 'STATUS', 'QTR_ID', 'MONTH_ID', 'YEAR_ID',\n",
       "       'PRODUCTLINE', 'MSRP', 'PRODUCTCODE', 'CUSTOMERNAME', 'PHONE',\n",
       "       'ADDRESSLINE1', 'ADDRESSLINE2', 'CITY', 'STATE', 'POSTALCODE',\n",
       "       'COUNTRY', 'TERRITORY', 'CONTACTLASTNAME', 'CONTACTFIRSTNAME',\n",
       "       'DEALSIZE'],\n",
       "      dtype='object')"
      ]
     },
     "execution_count": 4,
     "metadata": {},
     "output_type": "execute_result"
    }
   ],
   "source": [
    "data.columns"
   ]
  },
  {
   "cell_type": "markdown",
   "metadata": {},
   "source": [
    "First, we'll remove unnecessary columns. We'll keep the following columns:\n",
    "1. SALES\n",
    "2. ORDERDATE: we can turn this into a time series to plot performance over time later\n",
    "3. PRODUCTLINE: we might want to compare how different products perform. We can also use the purchasing habits of different products to characterize our customers\n",
    "4. PRODUCTCODE: similar reasons as above\n",
    "5. COUNTRY: similar reasons as above\n",
    "6. DEALSIZE: we can potentially use these dealsize buckets to characterize our customers. "
   ]
  },
  {
   "cell_type": "code",
   "execution_count": 5,
   "metadata": {},
   "outputs": [],
   "source": [
    "sales_data = data.drop(['ORDERNUMBER','QUANTITYORDERED','PRICEEACH','ORDERLINENUMBER','STATUS','QTR_ID',\n",
    "                       'MSRP','PHONE','ADDRESSLINE1','ADDRESSLINE2','CITY','STATE','POSTALCODE',\n",
    "                       'TERRITORY','CONTACTLASTNAME','CONTACTFIRSTNAME','MONTH_ID',\n",
    "                       'YEAR_ID'],axis=1)"
   ]
  },
  {
   "cell_type": "code",
   "execution_count": 6,
   "metadata": {},
   "outputs": [],
   "source": [
    "column_order = ['ORDERDATE','CUSTOMERNAME',\n",
    "               'SALES','PRODUCTLINE','PRODUCTCODE',\n",
    "               'COUNTRY','DEALSIZE']\n",
    "sales_data = sales_data[column_order]"
   ]
  },
  {
   "cell_type": "code",
   "execution_count": 7,
   "metadata": {},
   "outputs": [],
   "source": [
    "sales_data['ORDERDATE']= pd.to_datetime(sales_data['ORDERDATE'])\n",
    "sales_data = sales_data.sort_values(by=['ORDERDATE'], ascending=True)\n",
    "sales_data = sales_data.set_index('ORDERDATE')"
   ]
  },
  {
   "cell_type": "code",
   "execution_count": 8,
   "metadata": {},
   "outputs": [
    {
     "data": {
      "text/html": [
       "<div>\n",
       "<style scoped>\n",
       "    .dataframe tbody tr th:only-of-type {\n",
       "        vertical-align: middle;\n",
       "    }\n",
       "\n",
       "    .dataframe tbody tr th {\n",
       "        vertical-align: top;\n",
       "    }\n",
       "\n",
       "    .dataframe thead th {\n",
       "        text-align: right;\n",
       "    }\n",
       "</style>\n",
       "<table border=\"1\" class=\"dataframe\">\n",
       "  <thead>\n",
       "    <tr style=\"text-align: right;\">\n",
       "      <th></th>\n",
       "      <th>CUSTOMERNAME</th>\n",
       "      <th>SALES</th>\n",
       "      <th>PRODUCTLINE</th>\n",
       "      <th>PRODUCTCODE</th>\n",
       "      <th>COUNTRY</th>\n",
       "      <th>DEALSIZE</th>\n",
       "    </tr>\n",
       "    <tr>\n",
       "      <th>ORDERDATE</th>\n",
       "      <th></th>\n",
       "      <th></th>\n",
       "      <th></th>\n",
       "      <th></th>\n",
       "      <th></th>\n",
       "      <th></th>\n",
       "    </tr>\n",
       "  </thead>\n",
       "  <tbody>\n",
       "    <tr>\n",
       "      <th>2003-01-06</th>\n",
       "      <td>Online Diecast Creations Co.</td>\n",
       "      <td>5151.00</td>\n",
       "      <td>Vintage Cars</td>\n",
       "      <td>S18_1749</td>\n",
       "      <td>USA</td>\n",
       "      <td>Medium</td>\n",
       "    </tr>\n",
       "    <tr>\n",
       "      <th>2003-01-06</th>\n",
       "      <td>Online Diecast Creations Co.</td>\n",
       "      <td>3390.00</td>\n",
       "      <td>Vintage Cars</td>\n",
       "      <td>S18_2248</td>\n",
       "      <td>USA</td>\n",
       "      <td>Medium</td>\n",
       "    </tr>\n",
       "    <tr>\n",
       "      <th>2003-01-06</th>\n",
       "      <td>Online Diecast Creations Co.</td>\n",
       "      <td>1903.22</td>\n",
       "      <td>Vintage Cars</td>\n",
       "      <td>S18_4409</td>\n",
       "      <td>USA</td>\n",
       "      <td>Small</td>\n",
       "    </tr>\n",
       "    <tr>\n",
       "      <th>2003-01-06</th>\n",
       "      <td>Online Diecast Creations Co.</td>\n",
       "      <td>1689.03</td>\n",
       "      <td>Vintage Cars</td>\n",
       "      <td>S24_3969</td>\n",
       "      <td>USA</td>\n",
       "      <td>Small</td>\n",
       "    </tr>\n",
       "    <tr>\n",
       "      <th>2003-01-09</th>\n",
       "      <td>Blauer See Auto, Co.</td>\n",
       "      <td>1404.00</td>\n",
       "      <td>Vintage Cars</td>\n",
       "      <td>S24_1937</td>\n",
       "      <td>Germany</td>\n",
       "      <td>Small</td>\n",
       "    </tr>\n",
       "  </tbody>\n",
       "</table>\n",
       "</div>"
      ],
      "text/plain": [
       "                            CUSTOMERNAME    SALES   PRODUCTLINE PRODUCTCODE  \\\n",
       "ORDERDATE                                                                     \n",
       "2003-01-06  Online Diecast Creations Co.  5151.00  Vintage Cars    S18_1749   \n",
       "2003-01-06  Online Diecast Creations Co.  3390.00  Vintage Cars    S18_2248   \n",
       "2003-01-06  Online Diecast Creations Co.  1903.22  Vintage Cars    S18_4409   \n",
       "2003-01-06  Online Diecast Creations Co.  1689.03  Vintage Cars    S24_3969   \n",
       "2003-01-09          Blauer See Auto, Co.  1404.00  Vintage Cars    S24_1937   \n",
       "\n",
       "            COUNTRY DEALSIZE  \n",
       "ORDERDATE                     \n",
       "2003-01-06      USA   Medium  \n",
       "2003-01-06      USA   Medium  \n",
       "2003-01-06      USA    Small  \n",
       "2003-01-06      USA    Small  \n",
       "2003-01-09  Germany    Small  "
      ]
     },
     "execution_count": 8,
     "metadata": {},
     "output_type": "execute_result"
    }
   ],
   "source": [
    "sales_data.head()"
   ]
  },
  {
   "cell_type": "markdown",
   "metadata": {},
   "source": [
    "## 1. Who are the most profitable customers? "
   ]
  },
  {
   "cell_type": "markdown",
   "metadata": {},
   "source": [
    "### Total sales & total orders"
   ]
  },
  {
   "cell_type": "markdown",
   "metadata": {},
   "source": [
    "Our first task is to group our data by customer, so that we can view the total revenue per customer and the total number of orders that they have made."
   ]
  },
  {
   "cell_type": "code",
   "execution_count": 9,
   "metadata": {},
   "outputs": [],
   "source": [
    "tot_sales = sales_data.groupby(['CUSTOMERNAME']).sum().sort_values(by=['SALES'],ascending=False)\n",
    "tot_orders = sales_data.groupby(['CUSTOMERNAME']).count().sort_values(by=['SALES'],ascending=False).drop(['PRODUCTLINE',\n",
    "                                                                                                          'PRODUCTCODE',\n",
    "                                                                                                          'COUNTRY',\n",
    "                                                                                                          'DEALSIZE'],axis=1)\n",
    "customer_data = pd.merge(tot_orders, tot_sales, on='CUSTOMERNAME')\n",
    "customer_data.columns = ['tot_orders','tot_sales']"
   ]
  },
  {
   "cell_type": "code",
   "execution_count": 10,
   "metadata": {},
   "outputs": [
    {
     "data": {
      "text/html": [
       "<div>\n",
       "<style scoped>\n",
       "    .dataframe tbody tr th:only-of-type {\n",
       "        vertical-align: middle;\n",
       "    }\n",
       "\n",
       "    .dataframe tbody tr th {\n",
       "        vertical-align: top;\n",
       "    }\n",
       "\n",
       "    .dataframe thead th {\n",
       "        text-align: right;\n",
       "    }\n",
       "</style>\n",
       "<table border=\"1\" class=\"dataframe\">\n",
       "  <thead>\n",
       "    <tr style=\"text-align: right;\">\n",
       "      <th></th>\n",
       "      <th>tot_orders</th>\n",
       "      <th>tot_sales</th>\n",
       "    </tr>\n",
       "    <tr>\n",
       "      <th>CUSTOMERNAME</th>\n",
       "      <th></th>\n",
       "      <th></th>\n",
       "    </tr>\n",
       "  </thead>\n",
       "  <tbody>\n",
       "    <tr>\n",
       "      <th>Euro Shopping Channel</th>\n",
       "      <td>259</td>\n",
       "      <td>912294.11</td>\n",
       "    </tr>\n",
       "    <tr>\n",
       "      <th>Mini Gifts Distributors Ltd.</th>\n",
       "      <td>180</td>\n",
       "      <td>654858.06</td>\n",
       "    </tr>\n",
       "    <tr>\n",
       "      <th>Australian Collectors, Co.</th>\n",
       "      <td>55</td>\n",
       "      <td>200995.41</td>\n",
       "    </tr>\n",
       "    <tr>\n",
       "      <th>La Rochelle Gifts</th>\n",
       "      <td>53</td>\n",
       "      <td>180124.90</td>\n",
       "    </tr>\n",
       "    <tr>\n",
       "      <th>AV Stores, Co.</th>\n",
       "      <td>51</td>\n",
       "      <td>157807.81</td>\n",
       "    </tr>\n",
       "    <tr>\n",
       "      <th>Land of Toys Inc.</th>\n",
       "      <td>49</td>\n",
       "      <td>164069.44</td>\n",
       "    </tr>\n",
       "    <tr>\n",
       "      <th>Muscle Machine Inc</th>\n",
       "      <td>48</td>\n",
       "      <td>197736.94</td>\n",
       "    </tr>\n",
       "    <tr>\n",
       "      <th>Rovelli Gifts</th>\n",
       "      <td>48</td>\n",
       "      <td>137955.72</td>\n",
       "    </tr>\n",
       "    <tr>\n",
       "      <th>Anna's Decorations, Ltd</th>\n",
       "      <td>46</td>\n",
       "      <td>153996.13</td>\n",
       "    </tr>\n",
       "    <tr>\n",
       "      <th>Souveniers And Things Co.</th>\n",
       "      <td>46</td>\n",
       "      <td>151570.98</td>\n",
       "    </tr>\n",
       "  </tbody>\n",
       "</table>\n",
       "</div>"
      ],
      "text/plain": [
       "                              tot_orders  tot_sales\n",
       "CUSTOMERNAME                                       \n",
       "Euro Shopping Channel                259  912294.11\n",
       "Mini Gifts Distributors Ltd.         180  654858.06\n",
       "Australian Collectors, Co.            55  200995.41\n",
       "La Rochelle Gifts                     53  180124.90\n",
       "AV Stores, Co.                        51  157807.81\n",
       "Land of Toys Inc.                     49  164069.44\n",
       "Muscle Machine Inc                    48  197736.94\n",
       "Rovelli Gifts                         48  137955.72\n",
       "Anna's Decorations, Ltd               46  153996.13\n",
       "Souveniers And Things Co.             46  151570.98"
      ]
     },
     "execution_count": 10,
     "metadata": {},
     "output_type": "execute_result"
    }
   ],
   "source": [
    "customer_data.head(10)"
   ]
  },
  {
   "cell_type": "markdown",
   "metadata": {},
   "source": [
    "We can see that Euro Shopping Channel and Mini Gift Distributors have generated significantly more revenue that the rest of the customers. Let's see how this date looks on a plot."
   ]
  },
  {
   "cell_type": "code",
   "execution_count": 11,
   "metadata": {},
   "outputs": [
    {
     "data": {
      "text/plain": [
       "<matplotlib.axes._subplots.AxesSubplot at 0x26efa2d8438>"
      ]
     },
     "execution_count": 11,
     "metadata": {},
     "output_type": "execute_result"
    },
    {
     "data": {
      "image/png": "[encoded data removed]",
      "text/plain": [
       "<Figure size 432x288 with 1 Axes>"
      ]
     },
     "metadata": {
      "needs_background": "light"
     },
     "output_type": "display_data"
    }
   ],
   "source": [
    "sns.regplot(customer_data['tot_orders'], customer_data['tot_sales'])"
   ]
  },
  {
   "cell_type": "markdown",
   "metadata": {},
   "source": [
    "Those two customers are making it difficult to read the data. Let's remove them from the dataset temporarily to take a closer look at the rest of the customers."
   ]
  },
  {
   "cell_type": "code",
   "execution_count": null,
   "metadata": {},
   "outputs": [],
   "source": []
  },
  {
   "cell_type": "code",
   "execution_count": 12,
   "metadata": {},
   "outputs": [],
   "source": [
    "temp_table = customer_data.drop(['Euro Shopping Channel','Mini Gifts Distributors Ltd.'])"
   ]
  },
  {
   "cell_type": "code",
   "execution_count": 13,
   "metadata": {},
   "outputs": [
    {
     "data": {
      "text/plain": [
       "<matplotlib.axes._subplots.AxesSubplot at 0x26efa645358>"
      ]
     },
     "execution_count": 13,
     "metadata": {},
     "output_type": "execute_result"
    },
    {
     "data": {
      "image/png": "[encoded data removed]",
      "text/plain": [
       "<Figure size 432x288 with 1 Axes>"
      ]
     },
     "metadata": {
      "needs_background": "light"
     },
     "output_type": "display_data"
    }
   ],
   "source": [
    "sns.regplot(temp_table['tot_orders'], temp_table['tot_sales'])"
   ]
  },
  {
   "cell_type": "markdown",
   "metadata": {},
   "source": [
    "As we might expect, total sales and total orders appear to be very closely correlated. Let's confirm that:"
   ]
  },
  {
   "cell_type": "code",
   "execution_count": 14,
   "metadata": {},
   "outputs": [
    {
     "name": "stdout",
     "output_type": "stream",
     "text": [
      "            tot_orders  tot_sales\n",
      "tot_orders    1.000000   0.967797\n",
      "tot_sales     0.967797   1.000000\n"
     ]
    }
   ],
   "source": [
    "print(temp_table.corr())"
   ]
  },
  {
   "cell_type": "markdown",
   "metadata": {},
   "source": [
    "### Average order value"
   ]
  },
  {
   "cell_type": "markdown",
   "metadata": {},
   "source": [
    "Customers that are above our trendline are - in theory - more profitable than those below it; that's because they bring in more money with less orders, and therefore less admin/costs are required. We can create a column called \"Average Order Value\" to provide a figure for each customer."
   ]
  },
  {
   "cell_type": "code",
   "execution_count": 15,
   "metadata": {},
   "outputs": [],
   "source": [
    "avg_sales = sales_data.groupby(['CUSTOMERNAME']).mean().sort_values(by=['SALES'],ascending=False).round(2)\n",
    "customer_data = pd.merge(customer_data, avg_sales, on='CUSTOMERNAME')\n",
    "customer_data.columns = ['tot_orders','tot_sales','avg_sales']"
   ]
  },
  {
   "cell_type": "code",
   "execution_count": 16,
   "metadata": {},
   "outputs": [],
   "source": [
    "customer_data = pd.merge(customer_data, avg_sales, on='CUSTOMERNAME')\n",
    "customer_data.columns = ['tot_orders','tot_sales','avg_sales']"
   ]
  },
  {
   "cell_type": "code",
   "execution_count": 17,
   "metadata": {},
   "outputs": [
    {
     "data": {
      "image/png": "[encoded data removed]",
      "text/plain": [
       "<Figure size 720x504 with 2 Axes>"
      ]
     },
     "metadata": {
      "needs_background": "light"
     },
     "output_type": "display_data"
    }
   ],
   "source": [
    "customer_data.drop(['Euro Shopping Channel','Mini Gifts Distributors Ltd.']).plot(kind=\"scatter\", x=\"tot_orders\", y=\"tot_sales\", alpha=0.9,\n",
    "     figsize=(10,7),\n",
    "    c=\"avg_sales\", cmap=plt.get_cmap(\"seismic\"), colorbar=True,\n",
    "    sharex=False)\n",
    "plt.show()"
   ]
  },
  {
   "cell_type": "markdown",
   "metadata": {},
   "source": [
    "In the above plot, our most profitable customers are in warmer colors, and our less profitable customers are in cold colors."
   ]
  },
  {
   "cell_type": "markdown",
   "metadata": {},
   "source": [
    "Next, we can create a column that assigns a value to each customer based on whether they are more profitable than the mean or less profitable."
   ]
  },
  {
   "cell_type": "markdown",
   "metadata": {},
   "source": [
    "One way to measure profitability is average order value. Every order that is processed naturally incurs costs, so we should prefer customers that make fewer, higher value orders."
   ]
  },
  {
   "cell_type": "code",
   "execution_count": 18,
   "metadata": {},
   "outputs": [
    {
     "name": "stdout",
     "output_type": "stream",
     "text": [
      "Mean: 3551.3818478260887\n",
      "Standard Deviation: 371.4417782802849\n"
     ]
    }
   ],
   "source": [
    "print('Mean:', np.mean(customer_data['avg_sales']))\n",
    "print('Standard Deviation:', np.std(customer_data['avg_sales']))"
   ]
  },
  {
   "cell_type": "markdown",
   "metadata": {},
   "source": [
    "The average order value is 3551, and the standard deviation is 371. We could classify customers into three brackets:\n",
    "1. Customers that have an average order value greater than one standard deviation above the mean (Profitable customers)\n",
    "2. Customers that have an average order value less than one standard deviation away from the mean (Average customers)\n",
    "3. Customers that have an average order value greater than one standard deviation below the mean (Unprofitable customers)"
   ]
  },
  {
   "cell_type": "code",
   "execution_count": 19,
   "metadata": {},
   "outputs": [],
   "source": [
    "def label_customer(row):\n",
    "    if row['avg_sales'] > (np.mean(customer_data['avg_sales'] + np.std(customer_data['avg_sales']))):\n",
    "        return 'Profitable'\n",
    "    if row['avg_sales'] < (np.mean(customer_data['avg_sales'] - np.std(customer_data['avg_sales']))):\n",
    "        return 'Unprofitable'\n",
    "    return 'Average'   "
   ]
  },
  {
   "cell_type": "code",
   "execution_count": 20,
   "metadata": {},
   "outputs": [],
   "source": [
    "customer_data['class'] = customer_data.apply(lambda row: label_customer(row), axis=1)"
   ]
  },
  {
   "cell_type": "code",
   "execution_count": 21,
   "metadata": {},
   "outputs": [
    {
     "data": {
      "text/plain": [
       "Average         63\n",
       "Profitable      16\n",
       "Unprofitable    13\n",
       "Name: class, dtype: int64"
      ]
     },
     "execution_count": 21,
     "metadata": {},
     "output_type": "execute_result"
    }
   ],
   "source": [
    "customer_data['class'].value_counts()"
   ]
  },
  {
   "cell_type": "markdown",
   "metadata": {},
   "source": [
    "We can see that we have 16 profitable customers, 13 unprofitable, and 63 average. Below are our profitable customers:"
   ]
  },
  {
   "cell_type": "code",
   "execution_count": 22,
   "metadata": {},
   "outputs": [
    {
     "data": {
      "text/html": [
       "<div>\n",
       "<style scoped>\n",
       "    .dataframe tbody tr th:only-of-type {\n",
       "        vertical-align: middle;\n",
       "    }\n",
       "\n",
       "    .dataframe tbody tr th {\n",
       "        vertical-align: top;\n",
       "    }\n",
       "\n",
       "    .dataframe thead th {\n",
       "        text-align: right;\n",
       "    }\n",
       "</style>\n",
       "<table border=\"1\" class=\"dataframe\">\n",
       "  <thead>\n",
       "    <tr style=\"text-align: right;\">\n",
       "      <th></th>\n",
       "      <th>tot_orders</th>\n",
       "      <th>tot_sales</th>\n",
       "      <th>avg_sales</th>\n",
       "      <th>class</th>\n",
       "    </tr>\n",
       "    <tr>\n",
       "      <th>CUSTOMERNAME</th>\n",
       "      <th></th>\n",
       "      <th></th>\n",
       "      <th></th>\n",
       "      <th></th>\n",
       "    </tr>\n",
       "  </thead>\n",
       "  <tbody>\n",
       "    <tr>\n",
       "      <th>Super Scale Inc.</th>\n",
       "      <td>17</td>\n",
       "      <td>79472.07</td>\n",
       "      <td>4674.83</td>\n",
       "      <td>Profitable</td>\n",
       "    </tr>\n",
       "    <tr>\n",
       "      <th>Mini Caravy</th>\n",
       "      <td>19</td>\n",
       "      <td>80438.48</td>\n",
       "      <td>4233.60</td>\n",
       "      <td>Profitable</td>\n",
       "    </tr>\n",
       "    <tr>\n",
       "      <th>La Corne D'abondance, Co.</th>\n",
       "      <td>23</td>\n",
       "      <td>97203.68</td>\n",
       "      <td>4226.25</td>\n",
       "      <td>Profitable</td>\n",
       "    </tr>\n",
       "    <tr>\n",
       "      <th>Royale Belge</th>\n",
       "      <td>8</td>\n",
       "      <td>33440.10</td>\n",
       "      <td>4180.01</td>\n",
       "      <td>Profitable</td>\n",
       "    </tr>\n",
       "    <tr>\n",
       "      <th>Muscle Machine Inc</th>\n",
       "      <td>48</td>\n",
       "      <td>197736.94</td>\n",
       "      <td>4119.52</td>\n",
       "      <td>Profitable</td>\n",
       "    </tr>\n",
       "    <tr>\n",
       "      <th>Gift Depot Inc.</th>\n",
       "      <td>25</td>\n",
       "      <td>101894.79</td>\n",
       "      <td>4075.79</td>\n",
       "      <td>Profitable</td>\n",
       "    </tr>\n",
       "    <tr>\n",
       "      <th>UK Collectables, Ltd.</th>\n",
       "      <td>29</td>\n",
       "      <td>118008.27</td>\n",
       "      <td>4069.25</td>\n",
       "      <td>Profitable</td>\n",
       "    </tr>\n",
       "    <tr>\n",
       "      <th>Danish Wholesale Imports</th>\n",
       "      <td>36</td>\n",
       "      <td>145041.60</td>\n",
       "      <td>4028.93</td>\n",
       "      <td>Profitable</td>\n",
       "    </tr>\n",
       "    <tr>\n",
       "      <th>Dragon Souveniers, Ltd.</th>\n",
       "      <td>43</td>\n",
       "      <td>172989.68</td>\n",
       "      <td>4023.02</td>\n",
       "      <td>Profitable</td>\n",
       "    </tr>\n",
       "    <tr>\n",
       "      <th>The Sharp Gifts Warehouse</th>\n",
       "      <td>40</td>\n",
       "      <td>160010.27</td>\n",
       "      <td>4000.26</td>\n",
       "      <td>Profitable</td>\n",
       "    </tr>\n",
       "    <tr>\n",
       "      <th>Volvo Model Replicas, Co</th>\n",
       "      <td>19</td>\n",
       "      <td>75754.88</td>\n",
       "      <td>3987.10</td>\n",
       "      <td>Profitable</td>\n",
       "    </tr>\n",
       "    <tr>\n",
       "      <th>Australian Gift Network, Co</th>\n",
       "      <td>15</td>\n",
       "      <td>59469.12</td>\n",
       "      <td>3964.61</td>\n",
       "      <td>Profitable</td>\n",
       "    </tr>\n",
       "    <tr>\n",
       "      <th>Tekni Collectables Inc.</th>\n",
       "      <td>21</td>\n",
       "      <td>83228.19</td>\n",
       "      <td>3963.25</td>\n",
       "      <td>Profitable</td>\n",
       "    </tr>\n",
       "    <tr>\n",
       "      <th>Diecast Classics Inc.</th>\n",
       "      <td>31</td>\n",
       "      <td>122138.14</td>\n",
       "      <td>3939.94</td>\n",
       "      <td>Profitable</td>\n",
       "    </tr>\n",
       "    <tr>\n",
       "      <th>Diecast Collectables</th>\n",
       "      <td>18</td>\n",
       "      <td>70859.78</td>\n",
       "      <td>3936.65</td>\n",
       "      <td>Profitable</td>\n",
       "    </tr>\n",
       "    <tr>\n",
       "      <th>Lyon Souveniers</th>\n",
       "      <td>20</td>\n",
       "      <td>78570.34</td>\n",
       "      <td>3928.52</td>\n",
       "      <td>Profitable</td>\n",
       "    </tr>\n",
       "  </tbody>\n",
       "</table>\n",
       "</div>"
      ],
      "text/plain": [
       "                             tot_orders  tot_sales  avg_sales       class\n",
       "CUSTOMERNAME                                                             \n",
       "Super Scale Inc.                     17   79472.07    4674.83  Profitable\n",
       "Mini Caravy                          19   80438.48    4233.60  Profitable\n",
       "La Corne D'abondance, Co.            23   97203.68    4226.25  Profitable\n",
       "Royale Belge                          8   33440.10    4180.01  Profitable\n",
       "Muscle Machine Inc                   48  197736.94    4119.52  Profitable\n",
       "Gift Depot Inc.                      25  101894.79    4075.79  Profitable\n",
       "UK Collectables, Ltd.                29  118008.27    4069.25  Profitable\n",
       "Danish Wholesale Imports             36  145041.60    4028.93  Profitable\n",
       "Dragon Souveniers, Ltd.              43  172989.68    4023.02  Profitable\n",
       "The Sharp Gifts Warehouse            40  160010.27    4000.26  Profitable\n",
       "Volvo Model Replicas, Co             19   75754.88    3987.10  Profitable\n",
       "Australian Gift Network, Co          15   59469.12    3964.61  Profitable\n",
       "Tekni Collectables Inc.              21   83228.19    3963.25  Profitable\n",
       "Diecast Classics Inc.                31  122138.14    3939.94  Profitable\n",
       "Diecast Collectables                 18   70859.78    3936.65  Profitable\n",
       "Lyon Souveniers                      20   78570.34    3928.52  Profitable"
      ]
     },
     "execution_count": 22,
     "metadata": {},
     "output_type": "execute_result"
    }
   ],
   "source": [
    "customer_data[customer_data['class']==\"Profitable\"].sort_values(by=['avg_sales'], ascending=False)"
   ]
  },
  {
   "cell_type": "markdown",
   "metadata": {},
   "source": [
    "And below are our least profitable customers:"
   ]
  },
  {
   "cell_type": "code",
   "execution_count": 23,
   "metadata": {},
   "outputs": [
    {
     "data": {
      "text/html": [
       "<div>\n",
       "<style scoped>\n",
       "    .dataframe tbody tr th:only-of-type {\n",
       "        vertical-align: middle;\n",
       "    }\n",
       "\n",
       "    .dataframe tbody tr th {\n",
       "        vertical-align: top;\n",
       "    }\n",
       "\n",
       "    .dataframe thead th {\n",
       "        text-align: right;\n",
       "    }\n",
       "</style>\n",
       "<table border=\"1\" class=\"dataframe\">\n",
       "  <thead>\n",
       "    <tr style=\"text-align: right;\">\n",
       "      <th></th>\n",
       "      <th>tot_orders</th>\n",
       "      <th>tot_sales</th>\n",
       "      <th>avg_sales</th>\n",
       "      <th>class</th>\n",
       "    </tr>\n",
       "    <tr>\n",
       "      <th>CUSTOMERNAME</th>\n",
       "      <th></th>\n",
       "      <th></th>\n",
       "      <th></th>\n",
       "      <th></th>\n",
       "    </tr>\n",
       "  </thead>\n",
       "  <tbody>\n",
       "    <tr>\n",
       "      <th>Bavarian Collectables Imports, Co.</th>\n",
       "      <td>14</td>\n",
       "      <td>34993.92</td>\n",
       "      <td>2499.57</td>\n",
       "      <td>Unprofitable</td>\n",
       "    </tr>\n",
       "    <tr>\n",
       "      <th>Australian Collectables, Ltd</th>\n",
       "      <td>23</td>\n",
       "      <td>64591.46</td>\n",
       "      <td>2808.32</td>\n",
       "      <td>Unprofitable</td>\n",
       "    </tr>\n",
       "    <tr>\n",
       "      <th>Signal Gift Stores</th>\n",
       "      <td>29</td>\n",
       "      <td>82751.08</td>\n",
       "      <td>2853.49</td>\n",
       "      <td>Unprofitable</td>\n",
       "    </tr>\n",
       "    <tr>\n",
       "      <th>Royal Canadian Collectables, Ltd.</th>\n",
       "      <td>26</td>\n",
       "      <td>74634.85</td>\n",
       "      <td>2870.57</td>\n",
       "      <td>Unprofitable</td>\n",
       "    </tr>\n",
       "    <tr>\n",
       "      <th>Rovelli Gifts</th>\n",
       "      <td>48</td>\n",
       "      <td>137955.72</td>\n",
       "      <td>2874.08</td>\n",
       "      <td>Unprofitable</td>\n",
       "    </tr>\n",
       "    <tr>\n",
       "      <th>Marseille Mini Autos</th>\n",
       "      <td>25</td>\n",
       "      <td>74936.14</td>\n",
       "      <td>2997.45</td>\n",
       "      <td>Unprofitable</td>\n",
       "    </tr>\n",
       "    <tr>\n",
       "      <th>Petit Auto</th>\n",
       "      <td>25</td>\n",
       "      <td>74972.52</td>\n",
       "      <td>2998.90</td>\n",
       "      <td>Unprofitable</td>\n",
       "    </tr>\n",
       "    <tr>\n",
       "      <th>Double Decker Gift Stores, Ltd</th>\n",
       "      <td>12</td>\n",
       "      <td>36019.04</td>\n",
       "      <td>3001.59</td>\n",
       "      <td>Unprofitable</td>\n",
       "    </tr>\n",
       "    <tr>\n",
       "      <th>giftsbymail.co.uk</th>\n",
       "      <td>26</td>\n",
       "      <td>78240.84</td>\n",
       "      <td>3009.26</td>\n",
       "      <td>Unprofitable</td>\n",
       "    </tr>\n",
       "    <tr>\n",
       "      <th>Gift Ideas Corp.</th>\n",
       "      <td>19</td>\n",
       "      <td>57294.42</td>\n",
       "      <td>3015.50</td>\n",
       "      <td>Unprofitable</td>\n",
       "    </tr>\n",
       "    <tr>\n",
       "      <th>Boards &amp; Toys Co.</th>\n",
       "      <td>3</td>\n",
       "      <td>9129.35</td>\n",
       "      <td>3043.12</td>\n",
       "      <td>Unprofitable</td>\n",
       "    </tr>\n",
       "    <tr>\n",
       "      <th>AV Stores, Co.</th>\n",
       "      <td>51</td>\n",
       "      <td>157807.81</td>\n",
       "      <td>3094.27</td>\n",
       "      <td>Unprofitable</td>\n",
       "    </tr>\n",
       "    <tr>\n",
       "      <th>Mini Creations Ltd.</th>\n",
       "      <td>35</td>\n",
       "      <td>108951.13</td>\n",
       "      <td>3112.89</td>\n",
       "      <td>Unprofitable</td>\n",
       "    </tr>\n",
       "  </tbody>\n",
       "</table>\n",
       "</div>"
      ],
      "text/plain": [
       "                                    tot_orders  tot_sales  avg_sales  \\\n",
       "CUSTOMERNAME                                                           \n",
       "Bavarian Collectables Imports, Co.          14   34993.92    2499.57   \n",
       "Australian Collectables, Ltd                23   64591.46    2808.32   \n",
       "Signal Gift Stores                          29   82751.08    2853.49   \n",
       "Royal Canadian Collectables, Ltd.           26   74634.85    2870.57   \n",
       "Rovelli Gifts                               48  137955.72    2874.08   \n",
       "Marseille Mini Autos                        25   74936.14    2997.45   \n",
       "Petit Auto                                  25   74972.52    2998.90   \n",
       "Double Decker Gift Stores, Ltd              12   36019.04    3001.59   \n",
       "giftsbymail.co.uk                           26   78240.84    3009.26   \n",
       "Gift Ideas Corp.                            19   57294.42    3015.50   \n",
       "Boards & Toys Co.                            3    9129.35    3043.12   \n",
       "AV Stores, Co.                              51  157807.81    3094.27   \n",
       "Mini Creations Ltd.                         35  108951.13    3112.89   \n",
       "\n",
       "                                           class  \n",
       "CUSTOMERNAME                                      \n",
       "Bavarian Collectables Imports, Co.  Unprofitable  \n",
       "Australian Collectables, Ltd        Unprofitable  \n",
       "Signal Gift Stores                  Unprofitable  \n",
       "Royal Canadian Collectables, Ltd.   Unprofitable  \n",
       "Rovelli Gifts                       Unprofitable  \n",
       "Marseille Mini Autos                Unprofitable  \n",
       "Petit Auto                          Unprofitable  \n",
       "Double Decker Gift Stores, Ltd      Unprofitable  \n",
       "giftsbymail.co.uk                   Unprofitable  \n",
       "Gift Ideas Corp.                    Unprofitable  \n",
       "Boards & Toys Co.                   Unprofitable  \n",
       "AV Stores, Co.                      Unprofitable  \n",
       "Mini Creations Ltd.                 Unprofitable  "
      ]
     },
     "execution_count": 23,
     "metadata": {},
     "output_type": "execute_result"
    }
   ],
   "source": [
    "customer_data[customer_data['class']==\"Unprofitable\"].sort_values(by=['avg_sales'], ascending=True)"
   ]
  },
  {
   "cell_type": "markdown",
   "metadata": {},
   "source": [
    "So in theory, we would want to prioritize our efforts on our most profitable customers, and spend less time nurturing less profitable customers. We might also want to focus our efforts on acquiring customers that are similar to our profitable customers. But first, we should examine whether the difference between the profitable and average customers is signficant enough to warrant treating them differently."
   ]
  },
  {
   "cell_type": "markdown",
   "metadata": {},
   "source": [
    "## 2. Is there a difference between profitable customers and average customers?"
   ]
  },
  {
   "cell_type": "markdown",
   "metadata": {},
   "source": [
    "Let's test the hypothesis that the average order value for profitable customers is not significantly different from the average order value. "
   ]
  },
  {
   "cell_type": "code",
   "execution_count": 24,
   "metadata": {},
   "outputs": [
    {
     "data": {
      "text/plain": [
       "Ttest_1sampResult(statistic=11.440671532245702, pvalue=8.276594505520693e-09)"
      ]
     },
     "execution_count": 24,
     "metadata": {},
     "output_type": "execute_result"
    }
   ],
   "source": [
    "profitable = customer_data[customer_data['class']==\"Profitable\"]\n",
    "ttest_1samp(profitable['avg_sales'],np.mean(customer_data['avg_sales']))"
   ]
  },
  {
   "cell_type": "markdown",
   "metadata": {},
   "source": [
    "This small p-value (typically ≤ 0.05) indicates strong evidence against the null hypothesis, so we can reject the null hypothesis that there is no difference between the two groups. This suggests that we should treat profitable customers differently."
   ]
  },
  {
   "cell_type": "markdown",
   "metadata": {},
   "source": [
    "## 3. Can we characterize profitable customers?"
   ]
  },
  {
   "cell_type": "markdown",
   "metadata": {},
   "source": [
    "What do profitable customers look like? There are couple of ways we can use the data to characterise our customers:\n",
    "1. Country\n",
    "2. What product types they buy\n",
    "3. What specific products they buy\n",
    "\n",
    "Let's check the different options in each category to see what we're dealing with."
   ]
  },
  {
   "cell_type": "code",
   "execution_count": 25,
   "metadata": {},
   "outputs": [
    {
     "name": "stdout",
     "output_type": "stream",
     "text": [
      "19\n",
      "7\n",
      "109\n"
     ]
    }
   ],
   "source": [
    "print(sales_data['COUNTRY'].value_counts().count())\n",
    "print(sales_data['PRODUCTLINE'].value_counts().count())\n",
    "print(sales_data['PRODUCTCODE'].value_counts().count())"
   ]
  },
  {
   "cell_type": "code",
   "execution_count": 26,
   "metadata": {},
   "outputs": [
    {
     "data": {
      "image/png": "[encoded data removed]",
      "text/plain": [
       "<Figure size 1080x504 with 1 Axes>"
      ]
     },
     "metadata": {},
     "output_type": "display_data"
    }
   ],
   "source": [
    "country_count = sales_data['COUNTRY'].value_counts()\n",
    "sns.set(style=\"darkgrid\")\n",
    "sns.set(rc={'figure.figsize':(15,7)})\n",
    "sns.barplot(country_count.index, country_count.values, alpha=0.9)\n",
    "plt.title('Frequency Distribution of Customer Locations')\n",
    "plt.ylabel('Number of Customers', fontsize=12)\n",
    "plt.xlabel('Country', fontsize=12)\n",
    "plt.show()"
   ]
  },
  {
   "cell_type": "code",
   "execution_count": 27,
   "metadata": {},
   "outputs": [
    {
     "data": {
      "image/png": "[encoded data removed]",
      "text/plain": [
       "<Figure size 1080x504 with 1 Axes>"
      ]
     },
     "metadata": {},
     "output_type": "display_data"
    }
   ],
   "source": [
    "product_count = sales_data['PRODUCTLINE'].value_counts()\n",
    "sns.set(style=\"darkgrid\")\n",
    "sns.set(rc={'figure.figsize':(15,7)})\n",
    "sns.barplot(product_count.index, product_count.values, alpha=0.9)\n",
    "plt.title('Frequency Distribution of Products')\n",
    "plt.ylabel('Number of products sold', fontsize=12)\n",
    "plt.xlabel('Product', fontsize=12)\n",
    "plt.show()"
   ]
  },
  {
   "cell_type": "markdown",
   "metadata": {},
   "source": [
    "We have 19 countries, 7 product types, and 109 different products. For modelling purposes, we shall focus on the first two, because 109 products is likely to be introduce too many characteristics for a model to learn.\n"
   ]
  },
  {
   "cell_type": "markdown",
   "metadata": {},
   "source": [
    "We need to convert our categorical data into numerical data to prepare it for machine learning."
   ]
  },
  {
   "cell_type": "markdown",
   "metadata": {},
   "source": [
    "#### Preparing Country Data"
   ]
  },
  {
   "cell_type": "code",
   "execution_count": 28,
   "metadata": {},
   "outputs": [
    {
     "name": "stdout",
     "output_type": "stream",
     "text": [
      "{'COUNTRY': {'Australia': 1, 'Austria': 2, 'Belgium': 3, 'Canada': 4, 'Denmark': 5, 'Finland': 6, 'France': 7, 'Germany': 8, 'Ireland': 9, 'Italy': 10, 'Japan': 11, 'Norway': 12, 'Philippines': 13, 'Singapore': 14, 'Spain': 15, 'Sweden': 16, 'Switzerland': 17, 'UK': 18, 'USA': 19}}\n"
     ]
    }
   ],
   "source": [
    "labels = sales_data['COUNTRY'].astype('category').cat.categories.tolist()\n",
    "replace_map_comp = {'COUNTRY' : {k: v for k,v in zip(labels,list(range(1,len(labels)+1)))}}\n",
    "print(replace_map_comp)"
   ]
  },
  {
   "cell_type": "code",
   "execution_count": 29,
   "metadata": {},
   "outputs": [],
   "source": [
    "sales_data_replace = sales_data.copy()\n",
    "sales_data_replace.replace(replace_map_comp, inplace=True)"
   ]
  },
  {
   "cell_type": "code",
   "execution_count": 30,
   "metadata": {},
   "outputs": [
    {
     "data": {
      "text/html": [
       "<div>\n",
       "<style scoped>\n",
       "    .dataframe tbody tr th:only-of-type {\n",
       "        vertical-align: middle;\n",
       "    }\n",
       "\n",
       "    .dataframe tbody tr th {\n",
       "        vertical-align: top;\n",
       "    }\n",
       "\n",
       "    .dataframe thead th {\n",
       "        text-align: right;\n",
       "    }\n",
       "</style>\n",
       "<table border=\"1\" class=\"dataframe\">\n",
       "  <thead>\n",
       "    <tr style=\"text-align: right;\">\n",
       "      <th></th>\n",
       "      <th>CUSTOMERNAME</th>\n",
       "      <th>SALES</th>\n",
       "      <th>PRODUCTLINE</th>\n",
       "      <th>PRODUCTCODE</th>\n",
       "      <th>COUNTRY</th>\n",
       "      <th>DEALSIZE</th>\n",
       "    </tr>\n",
       "    <tr>\n",
       "      <th>ORDERDATE</th>\n",
       "      <th></th>\n",
       "      <th></th>\n",
       "      <th></th>\n",
       "      <th></th>\n",
       "      <th></th>\n",
       "      <th></th>\n",
       "    </tr>\n",
       "  </thead>\n",
       "  <tbody>\n",
       "    <tr>\n",
       "      <th>2003-01-06</th>\n",
       "      <td>Online Diecast Creations Co.</td>\n",
       "      <td>5151.00</td>\n",
       "      <td>Vintage Cars</td>\n",
       "      <td>S18_1749</td>\n",
       "      <td>19</td>\n",
       "      <td>Medium</td>\n",
       "    </tr>\n",
       "    <tr>\n",
       "      <th>2003-01-06</th>\n",
       "      <td>Online Diecast Creations Co.</td>\n",
       "      <td>3390.00</td>\n",
       "      <td>Vintage Cars</td>\n",
       "      <td>S18_2248</td>\n",
       "      <td>19</td>\n",
       "      <td>Medium</td>\n",
       "    </tr>\n",
       "    <tr>\n",
       "      <th>2003-01-06</th>\n",
       "      <td>Online Diecast Creations Co.</td>\n",
       "      <td>1903.22</td>\n",
       "      <td>Vintage Cars</td>\n",
       "      <td>S18_4409</td>\n",
       "      <td>19</td>\n",
       "      <td>Small</td>\n",
       "    </tr>\n",
       "    <tr>\n",
       "      <th>2003-01-06</th>\n",
       "      <td>Online Diecast Creations Co.</td>\n",
       "      <td>1689.03</td>\n",
       "      <td>Vintage Cars</td>\n",
       "      <td>S24_3969</td>\n",
       "      <td>19</td>\n",
       "      <td>Small</td>\n",
       "    </tr>\n",
       "    <tr>\n",
       "      <th>2003-01-09</th>\n",
       "      <td>Blauer See Auto, Co.</td>\n",
       "      <td>1404.00</td>\n",
       "      <td>Vintage Cars</td>\n",
       "      <td>S24_1937</td>\n",
       "      <td>8</td>\n",
       "      <td>Small</td>\n",
       "    </tr>\n",
       "  </tbody>\n",
       "</table>\n",
       "</div>"
      ],
      "text/plain": [
       "                            CUSTOMERNAME    SALES   PRODUCTLINE PRODUCTCODE  \\\n",
       "ORDERDATE                                                                     \n",
       "2003-01-06  Online Diecast Creations Co.  5151.00  Vintage Cars    S18_1749   \n",
       "2003-01-06  Online Diecast Creations Co.  3390.00  Vintage Cars    S18_2248   \n",
       "2003-01-06  Online Diecast Creations Co.  1903.22  Vintage Cars    S18_4409   \n",
       "2003-01-06  Online Diecast Creations Co.  1689.03  Vintage Cars    S24_3969   \n",
       "2003-01-09          Blauer See Auto, Co.  1404.00  Vintage Cars    S24_1937   \n",
       "\n",
       "            COUNTRY DEALSIZE  \n",
       "ORDERDATE                     \n",
       "2003-01-06       19   Medium  \n",
       "2003-01-06       19   Medium  \n",
       "2003-01-06       19    Small  \n",
       "2003-01-06       19    Small  \n",
       "2003-01-09        8    Small  "
      ]
     },
     "execution_count": 30,
     "metadata": {},
     "output_type": "execute_result"
    }
   ],
   "source": [
    "sales_data_replace.head()"
   ]
  },
  {
   "cell_type": "markdown",
   "metadata": {},
   "source": [
    "#### Preparing Product Data "
   ]
  },
  {
   "cell_type": "code",
   "execution_count": 31,
   "metadata": {},
   "outputs": [],
   "source": [
    "product_sales = pd.crosstab(sales_data.CUSTOMERNAME, sales_data.PRODUCTLINE)"
   ]
  },
  {
   "cell_type": "code",
   "execution_count": 32,
   "metadata": {},
   "outputs": [
    {
     "data": {
      "text/html": [
       "<div>\n",
       "<style scoped>\n",
       "    .dataframe tbody tr th:only-of-type {\n",
       "        vertical-align: middle;\n",
       "    }\n",
       "\n",
       "    .dataframe tbody tr th {\n",
       "        vertical-align: top;\n",
       "    }\n",
       "\n",
       "    .dataframe thead th {\n",
       "        text-align: right;\n",
       "    }\n",
       "</style>\n",
       "<table border=\"1\" class=\"dataframe\">\n",
       "  <thead>\n",
       "    <tr style=\"text-align: right;\">\n",
       "      <th>PRODUCTLINE</th>\n",
       "      <th>Classic Cars</th>\n",
       "      <th>Motorcycles</th>\n",
       "      <th>Planes</th>\n",
       "      <th>Ships</th>\n",
       "      <th>Trains</th>\n",
       "      <th>Trucks and Buses</th>\n",
       "      <th>Vintage Cars</th>\n",
       "    </tr>\n",
       "    <tr>\n",
       "      <th>CUSTOMERNAME</th>\n",
       "      <th></th>\n",
       "      <th></th>\n",
       "      <th></th>\n",
       "      <th></th>\n",
       "      <th></th>\n",
       "      <th></th>\n",
       "      <th></th>\n",
       "    </tr>\n",
       "  </thead>\n",
       "  <tbody>\n",
       "    <tr>\n",
       "      <th>AV Stores, Co.</th>\n",
       "      <td>19</td>\n",
       "      <td>0</td>\n",
       "      <td>0</td>\n",
       "      <td>7</td>\n",
       "      <td>3</td>\n",
       "      <td>0</td>\n",
       "      <td>22</td>\n",
       "    </tr>\n",
       "    <tr>\n",
       "      <th>Alpha Cognac</th>\n",
       "      <td>4</td>\n",
       "      <td>0</td>\n",
       "      <td>6</td>\n",
       "      <td>7</td>\n",
       "      <td>0</td>\n",
       "      <td>0</td>\n",
       "      <td>3</td>\n",
       "    </tr>\n",
       "    <tr>\n",
       "      <th>Amica Models &amp; Co.</th>\n",
       "      <td>4</td>\n",
       "      <td>0</td>\n",
       "      <td>0</td>\n",
       "      <td>3</td>\n",
       "      <td>1</td>\n",
       "      <td>1</td>\n",
       "      <td>17</td>\n",
       "    </tr>\n",
       "    <tr>\n",
       "      <th>Anna's Decorations, Ltd</th>\n",
       "      <td>24</td>\n",
       "      <td>6</td>\n",
       "      <td>0</td>\n",
       "      <td>0</td>\n",
       "      <td>0</td>\n",
       "      <td>9</td>\n",
       "      <td>7</td>\n",
       "    </tr>\n",
       "    <tr>\n",
       "      <th>Atelier graphique</th>\n",
       "      <td>4</td>\n",
       "      <td>2</td>\n",
       "      <td>0</td>\n",
       "      <td>0</td>\n",
       "      <td>0</td>\n",
       "      <td>0</td>\n",
       "      <td>1</td>\n",
       "    </tr>\n",
       "  </tbody>\n",
       "</table>\n",
       "</div>"
      ],
      "text/plain": [
       "PRODUCTLINE              Classic Cars  Motorcycles  Planes  Ships  Trains  \\\n",
       "CUSTOMERNAME                                                                \n",
       "AV Stores, Co.                     19            0       0      7       3   \n",
       "Alpha Cognac                        4            0       6      7       0   \n",
       "Amica Models & Co.                  4            0       0      3       1   \n",
       "Anna's Decorations, Ltd            24            6       0      0       0   \n",
       "Atelier graphique                   4            2       0      0       0   \n",
       "\n",
       "PRODUCTLINE              Trucks and Buses  Vintage Cars  \n",
       "CUSTOMERNAME                                             \n",
       "AV Stores, Co.                          0            22  \n",
       "Alpha Cognac                            0             3  \n",
       "Amica Models & Co.                      1            17  \n",
       "Anna's Decorations, Ltd                 9             7  \n",
       "Atelier graphique                       0             1  "
      ]
     },
     "execution_count": 32,
     "metadata": {},
     "output_type": "execute_result"
    }
   ],
   "source": [
    "product_sales.head()"
   ]
  },
  {
   "cell_type": "markdown",
   "metadata": {},
   "source": [
    "We need to standardize this data, because what's important is the distribution of products sold across the customers. "
   ]
  },
  {
   "cell_type": "code",
   "execution_count": 33,
   "metadata": {},
   "outputs": [],
   "source": [
    "standardized_data = ((pd.DataFrame(preprocessing.scale(product_sales), \n",
    "                            index=product_sales.index, \n",
    "                            columns=product_sales.columns)).merge(customer_data, \n",
    "                                                                  how='inner', \n",
    "                                                                  on='CUSTOMERNAME')).merge(sales_data_replace,\n",
    "                                how='left',\n",
    "                                on='CUSTOMERNAME').drop_duplicates(subset='CUSTOMERNAME', \n",
    "                                                                   keep='first').drop(['PRODUCTLINE','PRODUCTCODE',\n",
    "                                                                                    'DEALSIZE','tot_orders','tot_sales',\n",
    "                                                                                    'SALES','avg_sales'],axis=1)\n",
    "label = standardized_data['class']\n",
    "standardized_data.drop(labels=['class'], axis=1,inplace = True)\n",
    "standardized_data.insert(9, 'class', label)\n",
    "standardized_data = standardized_data.drop('CUSTOMERNAME',axis=1)"
   ]
  },
  {
   "cell_type": "code",
   "execution_count": 34,
   "metadata": {},
   "outputs": [
    {
     "data": {
      "text/html": [
       "<div>\n",
       "<style scoped>\n",
       "    .dataframe tbody tr th:only-of-type {\n",
       "        vertical-align: middle;\n",
       "    }\n",
       "\n",
       "    .dataframe tbody tr th {\n",
       "        vertical-align: top;\n",
       "    }\n",
       "\n",
       "    .dataframe thead th {\n",
       "        text-align: right;\n",
       "    }\n",
       "</style>\n",
       "<table border=\"1\" class=\"dataframe\">\n",
       "  <thead>\n",
       "    <tr style=\"text-align: right;\">\n",
       "      <th></th>\n",
       "      <th>Classic Cars</th>\n",
       "      <th>Motorcycles</th>\n",
       "      <th>Planes</th>\n",
       "      <th>Ships</th>\n",
       "      <th>Trains</th>\n",
       "      <th>Trucks and Buses</th>\n",
       "      <th>Vintage Cars</th>\n",
       "      <th>COUNTRY</th>\n",
       "      <th>class</th>\n",
       "    </tr>\n",
       "  </thead>\n",
       "  <tbody>\n",
       "    <tr>\n",
       "      <th>0</th>\n",
       "      <td>0.622872</td>\n",
       "      <td>-0.761786</td>\n",
       "      <td>-0.679517</td>\n",
       "      <td>1.139645</td>\n",
       "      <td>1.266027</td>\n",
       "      <td>-0.592820</td>\n",
       "      <td>1.943155</td>\n",
       "      <td>18</td>\n",
       "      <td>Unprofitable</td>\n",
       "    </tr>\n",
       "    <tr>\n",
       "      <th>51</th>\n",
       "      <td>-0.477721</td>\n",
       "      <td>-0.761786</td>\n",
       "      <td>0.546278</td>\n",
       "      <td>1.139645</td>\n",
       "      <td>-0.489870</td>\n",
       "      <td>-0.592820</td>\n",
       "      <td>-0.453906</td>\n",
       "      <td>7</td>\n",
       "      <td>Average</td>\n",
       "    </tr>\n",
       "    <tr>\n",
       "      <th>71</th>\n",
       "      <td>-0.477721</td>\n",
       "      <td>-0.761786</td>\n",
       "      <td>-0.679517</td>\n",
       "      <td>0.116744</td>\n",
       "      <td>0.095429</td>\n",
       "      <td>-0.411626</td>\n",
       "      <td>1.312350</td>\n",
       "      <td>10</td>\n",
       "      <td>Average</td>\n",
       "    </tr>\n",
       "    <tr>\n",
       "      <th>97</th>\n",
       "      <td>0.989737</td>\n",
       "      <td>0.508624</td>\n",
       "      <td>-0.679517</td>\n",
       "      <td>-0.650432</td>\n",
       "      <td>-0.489870</td>\n",
       "      <td>1.037927</td>\n",
       "      <td>0.050739</td>\n",
       "      <td>1</td>\n",
       "      <td>Average</td>\n",
       "    </tr>\n",
       "    <tr>\n",
       "      <th>143</th>\n",
       "      <td>-0.477721</td>\n",
       "      <td>-0.338316</td>\n",
       "      <td>-0.679517</td>\n",
       "      <td>-0.650432</td>\n",
       "      <td>-0.489870</td>\n",
       "      <td>-0.592820</td>\n",
       "      <td>-0.706228</td>\n",
       "      <td>7</td>\n",
       "      <td>Average</td>\n",
       "    </tr>\n",
       "  </tbody>\n",
       "</table>\n",
       "</div>"
      ],
      "text/plain": [
       "     Classic Cars  Motorcycles    Planes     Ships    Trains  \\\n",
       "0        0.622872    -0.761786 -0.679517  1.139645  1.266027   \n",
       "51      -0.477721    -0.761786  0.546278  1.139645 -0.489870   \n",
       "71      -0.477721    -0.761786 -0.679517  0.116744  0.095429   \n",
       "97       0.989737     0.508624 -0.679517 -0.650432 -0.489870   \n",
       "143     -0.477721    -0.338316 -0.679517 -0.650432 -0.489870   \n",
       "\n",
       "     Trucks and Buses  Vintage Cars  COUNTRY         class  \n",
       "0           -0.592820      1.943155       18  Unprofitable  \n",
       "51          -0.592820     -0.453906        7       Average  \n",
       "71          -0.411626      1.312350       10       Average  \n",
       "97           1.037927      0.050739        1       Average  \n",
       "143         -0.592820     -0.706228        7       Average  "
      ]
     },
     "execution_count": 34,
     "metadata": {},
     "output_type": "execute_result"
    }
   ],
   "source": [
    "standardized_data.head()"
   ]
  },
  {
   "cell_type": "markdown",
   "metadata": {},
   "source": [
    "#### Creating class variable"
   ]
  },
  {
   "cell_type": "code",
   "execution_count": 35,
   "metadata": {},
   "outputs": [
    {
     "name": "stdout",
     "output_type": "stream",
     "text": [
      "{'class': {'Average': 1, 'Profitable': 2, 'Unprofitable': 3}}\n"
     ]
    }
   ],
   "source": [
    "customer_labels = standardized_data['class'].astype('category').cat.categories.tolist()\n",
    "replace_map_cust = {'class' : {k: v for k,v in zip(customer_labels,list(range(1,len(customer_labels)+1)))}}\n",
    "print(replace_map_cust)"
   ]
  },
  {
   "cell_type": "code",
   "execution_count": 36,
   "metadata": {},
   "outputs": [],
   "source": [
    "standardized_data_replace = standardized_data.copy()\n",
    "standardized_data_replace.replace(replace_map_cust, inplace=True)"
   ]
  },
  {
   "cell_type": "code",
   "execution_count": 37,
   "metadata": {},
   "outputs": [
    {
     "data": {
      "text/html": [
       "<div>\n",
       "<style scoped>\n",
       "    .dataframe tbody tr th:only-of-type {\n",
       "        vertical-align: middle;\n",
       "    }\n",
       "\n",
       "    .dataframe tbody tr th {\n",
       "        vertical-align: top;\n",
       "    }\n",
       "\n",
       "    .dataframe thead th {\n",
       "        text-align: right;\n",
       "    }\n",
       "</style>\n",
       "<table border=\"1\" class=\"dataframe\">\n",
       "  <thead>\n",
       "    <tr style=\"text-align: right;\">\n",
       "      <th></th>\n",
       "      <th>Classic Cars</th>\n",
       "      <th>Motorcycles</th>\n",
       "      <th>Planes</th>\n",
       "      <th>Ships</th>\n",
       "      <th>Trains</th>\n",
       "      <th>Trucks and Buses</th>\n",
       "      <th>Vintage Cars</th>\n",
       "      <th>COUNTRY</th>\n",
       "      <th>class</th>\n",
       "    </tr>\n",
       "  </thead>\n",
       "  <tbody>\n",
       "    <tr>\n",
       "      <th>0</th>\n",
       "      <td>0.622872</td>\n",
       "      <td>-0.761786</td>\n",
       "      <td>-0.679517</td>\n",
       "      <td>1.139645</td>\n",
       "      <td>1.266027</td>\n",
       "      <td>-0.592820</td>\n",
       "      <td>1.943155</td>\n",
       "      <td>18</td>\n",
       "      <td>3</td>\n",
       "    </tr>\n",
       "    <tr>\n",
       "      <th>51</th>\n",
       "      <td>-0.477721</td>\n",
       "      <td>-0.761786</td>\n",
       "      <td>0.546278</td>\n",
       "      <td>1.139645</td>\n",
       "      <td>-0.489870</td>\n",
       "      <td>-0.592820</td>\n",
       "      <td>-0.453906</td>\n",
       "      <td>7</td>\n",
       "      <td>1</td>\n",
       "    </tr>\n",
       "    <tr>\n",
       "      <th>71</th>\n",
       "      <td>-0.477721</td>\n",
       "      <td>-0.761786</td>\n",
       "      <td>-0.679517</td>\n",
       "      <td>0.116744</td>\n",
       "      <td>0.095429</td>\n",
       "      <td>-0.411626</td>\n",
       "      <td>1.312350</td>\n",
       "      <td>10</td>\n",
       "      <td>1</td>\n",
       "    </tr>\n",
       "    <tr>\n",
       "      <th>97</th>\n",
       "      <td>0.989737</td>\n",
       "      <td>0.508624</td>\n",
       "      <td>-0.679517</td>\n",
       "      <td>-0.650432</td>\n",
       "      <td>-0.489870</td>\n",
       "      <td>1.037927</td>\n",
       "      <td>0.050739</td>\n",
       "      <td>1</td>\n",
       "      <td>1</td>\n",
       "    </tr>\n",
       "    <tr>\n",
       "      <th>143</th>\n",
       "      <td>-0.477721</td>\n",
       "      <td>-0.338316</td>\n",
       "      <td>-0.679517</td>\n",
       "      <td>-0.650432</td>\n",
       "      <td>-0.489870</td>\n",
       "      <td>-0.592820</td>\n",
       "      <td>-0.706228</td>\n",
       "      <td>7</td>\n",
       "      <td>1</td>\n",
       "    </tr>\n",
       "  </tbody>\n",
       "</table>\n",
       "</div>"
      ],
      "text/plain": [
       "     Classic Cars  Motorcycles    Planes     Ships    Trains  \\\n",
       "0        0.622872    -0.761786 -0.679517  1.139645  1.266027   \n",
       "51      -0.477721    -0.761786  0.546278  1.139645 -0.489870   \n",
       "71      -0.477721    -0.761786 -0.679517  0.116744  0.095429   \n",
       "97       0.989737     0.508624 -0.679517 -0.650432 -0.489870   \n",
       "143     -0.477721    -0.338316 -0.679517 -0.650432 -0.489870   \n",
       "\n",
       "     Trucks and Buses  Vintage Cars  COUNTRY  class  \n",
       "0           -0.592820      1.943155       18      3  \n",
       "51          -0.592820     -0.453906        7      1  \n",
       "71          -0.411626      1.312350       10      1  \n",
       "97           1.037927      0.050739        1      1  \n",
       "143         -0.592820     -0.706228        7      1  "
      ]
     },
     "execution_count": 37,
     "metadata": {},
     "output_type": "execute_result"
    }
   ],
   "source": [
    "standardized_data_replace.head()"
   ]
  },
  {
   "cell_type": "code",
   "execution_count": 38,
   "metadata": {},
   "outputs": [
    {
     "data": {
      "text/plain": [
       "1    63\n",
       "2    16\n",
       "3    13\n",
       "Name: class, dtype: int64"
      ]
     },
     "execution_count": 38,
     "metadata": {},
     "output_type": "execute_result"
    }
   ],
   "source": [
    "standardized_data_replace['class'].value_counts()"
   ]
  },
  {
   "cell_type": "code",
   "execution_count": 39,
   "metadata": {},
   "outputs": [],
   "source": [
    "X = standardized_data_replace.drop(['class'], axis = 1)\n",
    "y = standardized_data_replace['class'] \n",
    "\n",
    "X_train, X_test, y_train, y_test = train_test_split(X, y, test_size=0.30)"
   ]
  },
  {
   "cell_type": "markdown",
   "metadata": {},
   "source": [
    "#### Using KNN "
   ]
  },
  {
   "cell_type": "code",
   "execution_count": 40,
   "metadata": {},
   "outputs": [
    {
     "name": "stdout",
     "output_type": "stream",
     "text": [
      "4 KNN Accuracy: 67.86%\n"
     ]
    }
   ],
   "source": [
    "from sklearn.neighbors import KNeighborsClassifier\n",
    "knn = KNeighborsClassifier(n_neighbors = 4)  # n_neighbors means k\n",
    "knn.fit(X_train, y_train)\n",
    "y_pred = knn.predict(X_test)\n",
    "print(f\"4 KNN Accuracy: {round(knn.score(X_test, y_test)*100,2)}%\")"
   ]
  },
  {
   "cell_type": "code",
   "execution_count": 41,
   "metadata": {},
   "outputs": [
    {
     "name": "stdout",
     "output_type": "stream",
     "text": [
      "{'class': {'Average': 1, 'Profitable': 2, 'Unprofitable': 3}}\n",
      "Confusion Matrix :\n",
      "[[18  0  0]\n",
      " [ 4  1  0]\n",
      " [ 5  0  0]]\n",
      "Accuracy Score : 0.6785714285714286\n",
      "Report : \n",
      "              precision    recall  f1-score   support\n",
      "\n",
      "           1       0.67      1.00      0.80        18\n",
      "           2       1.00      0.20      0.33         5\n",
      "           3       0.00      0.00      0.00         5\n",
      "\n",
      "    accuracy                           0.68        28\n",
      "   macro avg       0.56      0.40      0.38        28\n",
      "weighted avg       0.61      0.68      0.57        28\n",
      "\n"
     ]
    },
    {
     "name": "stderr",
     "output_type": "stream",
     "text": [
      "C:\\Users\\lukes\\Anaconda3\\lib\\site-packages\\sklearn\\metrics\\classification.py:1437: UndefinedMetricWarning: Precision and F-score are ill-defined and being set to 0.0 in labels with no predicted samples.\n",
      "  'precision', 'predicted', average, warn_for)\n"
     ]
    }
   ],
   "source": [
    "results = confusion_matrix(y_test, y_pred) \n",
    "print(replace_map_cust)\n",
    "print ('Confusion Matrix :')\n",
    "print(results) \n",
    "print ('Accuracy Score :',accuracy_score(y_test, y_pred)) \n",
    "print ('Report : ')\n",
    "print (classification_report(y_test, y_pred))"
   ]
  },
  {
   "cell_type": "markdown",
   "metadata": {},
   "source": [
    "Using the KNeighbours classifier, it appears that we can correcrtly classify customers with an accuracy of 76%."
   ]
  },
  {
   "cell_type": "markdown",
   "metadata": {},
   "source": [
    "#### Using Random Forest"
   ]
  },
  {
   "cell_type": "code",
   "execution_count": 42,
   "metadata": {},
   "outputs": [],
   "source": [
    "from sklearn.ensemble import RandomForestClassifier\n",
    "clf=RandomForestClassifier(n_estimators=100)\n",
    "clf.fit(X_train,y_train)\n",
    "y_pred=clf.predict(X_test)"
   ]
  },
  {
   "cell_type": "code",
   "execution_count": 43,
   "metadata": {},
   "outputs": [
    {
     "name": "stdout",
     "output_type": "stream",
     "text": [
      "Random Forest Accuracy: 64.29%\n"
     ]
    }
   ],
   "source": [
    "from sklearn import metrics\n",
    "print(f\"Random Forest Accuracy: {round(metrics.accuracy_score(y_test, y_pred)*100,2)}%\")"
   ]
  },
  {
   "cell_type": "code",
   "execution_count": 44,
   "metadata": {},
   "outputs": [
    {
     "name": "stdout",
     "output_type": "stream",
     "text": [
      "{'class': {'Average': 1, 'Profitable': 2, 'Unprofitable': 3}}\n",
      "Confusion Matrix :\n",
      "[[17  0  1]\n",
      " [ 5  0  0]\n",
      " [ 4  0  1]]\n",
      "Accuracy Score : 0.6428571428571429\n",
      "Report : \n",
      "              precision    recall  f1-score   support\n",
      "\n",
      "           1       0.65      0.94      0.77        18\n",
      "           2       0.00      0.00      0.00         5\n",
      "           3       0.50      0.20      0.29         5\n",
      "\n",
      "    accuracy                           0.64        28\n",
      "   macro avg       0.38      0.38      0.35        28\n",
      "weighted avg       0.51      0.64      0.55        28\n",
      "\n"
     ]
    },
    {
     "name": "stderr",
     "output_type": "stream",
     "text": [
      "C:\\Users\\lukes\\Anaconda3\\lib\\site-packages\\sklearn\\metrics\\classification.py:1437: UndefinedMetricWarning: Precision and F-score are ill-defined and being set to 0.0 in labels with no predicted samples.\n",
      "  'precision', 'predicted', average, warn_for)\n"
     ]
    }
   ],
   "source": [
    "results = confusion_matrix(y_test, y_pred) \n",
    "print(replace_map_cust)\n",
    "print ('Confusion Matrix :')\n",
    "print(results) \n",
    "print ('Accuracy Score :',accuracy_score(y_test, y_pred)) \n",
    "print ('Report : ')\n",
    "print (classification_report(y_test, y_pred))"
   ]
  },
  {
   "cell_type": "markdown",
   "metadata": {},
   "source": [
    "We can see which features are most important to our classification model:"
   ]
  },
  {
   "cell_type": "code",
   "execution_count": 45,
   "metadata": {},
   "outputs": [
    {
     "data": {
      "text/plain": [
       "RandomForestClassifier(bootstrap=True, class_weight=None, criterion='gini',\n",
       "                       max_depth=None, max_features='auto', max_leaf_nodes=None,\n",
       "                       min_impurity_decrease=0.0, min_impurity_split=None,\n",
       "                       min_samples_leaf=1, min_samples_split=2,\n",
       "                       min_weight_fraction_leaf=0.0, n_estimators=100, n_jobs=1,\n",
       "                       oob_score=False, random_state=None, verbose=0,\n",
       "                       warm_start=False)"
      ]
     },
     "execution_count": 45,
     "metadata": {},
     "output_type": "execute_result"
    }
   ],
   "source": [
    "RandomForestClassifier(bootstrap=True, class_weight=None, criterion='gini',\n",
    "            max_depth=None, max_features='auto', max_leaf_nodes=None,\n",
    "            min_impurity_decrease=0.0, min_impurity_split=None,\n",
    "            min_samples_leaf=1, min_samples_split=2,\n",
    "            min_weight_fraction_leaf=0.0, n_estimators=100, n_jobs=1,\n",
    "            oob_score=False, random_state=None, verbose=0,\n",
    "            warm_start=False)"
   ]
  },
  {
   "cell_type": "code",
   "execution_count": 46,
   "metadata": {},
   "outputs": [],
   "source": [
    "feature_imp = pd.Series(clf.feature_importances_,index=X.columns).sort_values(ascending=False)"
   ]
  },
  {
   "cell_type": "code",
   "execution_count": 47,
   "metadata": {},
   "outputs": [
    {
     "data": {
      "image/png": "[encoded data removed]",
      "text/plain": [
       "<Figure size 1080x504 with 1 Axes>"
      ]
     },
     "metadata": {},
     "output_type": "display_data"
    }
   ],
   "source": [
    "sns.barplot(x=feature_imp, y=feature_imp.index)\n",
    "plt.xlabel('Feature Importance Score')\n",
    "plt.ylabel('Features')\n",
    "plt.show()"
   ]
  },
  {
   "cell_type": "markdown",
   "metadata": {},
   "source": [
    "## 4. Can we predict if a new customer will be profitable? "
   ]
  },
  {
   "cell_type": "markdown",
   "metadata": {},
   "source": [
    "For this scenario, we will see if we can predict if a company will profitable in two years, based on an analysis of their behaviour during the first year. "
   ]
  },
  {
   "cell_type": "code",
   "execution_count": 48,
   "metadata": {},
   "outputs": [
    {
     "data": {
      "text/plain": [
       "Int64Index([2004, 2003, 2005], dtype='int64')"
      ]
     },
     "execution_count": 48,
     "metadata": {},
     "output_type": "execute_result"
    }
   ],
   "source": [
    "data['YEAR_ID'].value_counts().index"
   ]
  },
  {
   "cell_type": "markdown",
   "metadata": {},
   "source": [
    "We can train our model on data just from year 2003 to see if it can predict who are the profitable custoemrs in 2005."
   ]
  },
  {
   "cell_type": "code",
   "execution_count": 49,
   "metadata": {},
   "outputs": [],
   "source": [
    "sales_data_2003 = data[data['YEAR_ID']==2003].drop(['ORDERNUMBER','QUANTITYORDERED','PRICEEACH','ORDERLINENUMBER','STATUS','QTR_ID',\n",
    "                       'MSRP','PHONE','ADDRESSLINE1','ADDRESSLINE2','CITY','STATE','POSTALCODE',\n",
    "                       'TERRITORY','CONTACTLASTNAME','CONTACTFIRSTNAME','MONTH_ID',\n",
    "                       'YEAR_ID'],axis=1)\n",
    "column_order = ['ORDERDATE','CUSTOMERNAME',\n",
    "               'SALES','PRODUCTLINE','PRODUCTCODE',\n",
    "               'COUNTRY','DEALSIZE']\n",
    "sales_data_2003 = sales_data_2003[column_order]\n",
    "sales_data_2003['ORDERDATE']= pd.to_datetime(sales_data_2003['ORDERDATE'])\n",
    "sales_data_2003 = sales_data_2003.sort_values(by=['ORDERDATE'], ascending=True)\n",
    "sales_data_2003 = sales_data_2003.set_index('ORDERDATE')\n",
    "tot_sales_2003 = sales_data_2003.groupby(['CUSTOMERNAME']).sum().sort_values(by=['SALES'],ascending=False)\n",
    "tot_orders_2003 = sales_data_2003.groupby(['CUSTOMERNAME']).count().sort_values(by=['SALES'],ascending=False).drop(['PRODUCTLINE',\n",
    "                                                                                                          'PRODUCTCODE',\n",
    "                                                                                                          'COUNTRY',\n",
    "                                                                                                          'DEALSIZE'],axis=1)"
   ]
  },
  {
   "cell_type": "code",
   "execution_count": 50,
   "metadata": {},
   "outputs": [],
   "source": [
    "customer_data_2003 = pd.merge(tot_orders_2003, tot_sales_2003, on='CUSTOMERNAME')\n",
    "customer_data_2003.columns = ['tot_orders_2003','tot_sales_2003']"
   ]
  },
  {
   "cell_type": "code",
   "execution_count": 51,
   "metadata": {},
   "outputs": [],
   "source": [
    "avg_sales_2003 = sales_data_2003.groupby(['CUSTOMERNAME']).mean().sort_values(by=['SALES'],ascending=False).round(2)\n",
    "customer_data_2003 = pd.merge(customer_data_2003, avg_sales_2003, on='CUSTOMERNAME')\n",
    "customer_data_2003.columns = ['tot_orders_2003','tot_sales_2003','avg_sales_2003']"
   ]
  },
  {
   "cell_type": "markdown",
   "metadata": {},
   "source": [
    "After creating our dataframe for 2003, we apply the customer labels that we created analyzing the global data."
   ]
  },
  {
   "cell_type": "code",
   "execution_count": 52,
   "metadata": {},
   "outputs": [],
   "source": [
    "customer_data_2003['class'] = customer_data['class']"
   ]
  },
  {
   "cell_type": "markdown",
   "metadata": {},
   "source": [
    "#### Standardize Data "
   ]
  },
  {
   "cell_type": "code",
   "execution_count": 53,
   "metadata": {},
   "outputs": [],
   "source": [
    "labels = sales_data_2003['COUNTRY'].astype('category').cat.categories.tolist()\n",
    "replace_map_comp = {'COUNTRY' : {k: v for k,v in zip(labels,list(range(1,len(labels)+1)))}}\n",
    "sales_data_2003_replace = sales_data_2003.copy()\n",
    "sales_data_2003_replace.replace(replace_map_comp, inplace=True)\n",
    "product_sales_2003 = pd.crosstab(sales_data_2003.CUSTOMERNAME, sales_data_2003.PRODUCTLINE)\n",
    "standardized_data_2003 = ((pd.DataFrame(preprocessing.scale(product_sales_2003), \n",
    "                            index=product_sales_2003.index, \n",
    "                            columns=product_sales_2003.columns)).merge(customer_data_2003, \n",
    "                                                                  how='inner', \n",
    "                                                                  on='CUSTOMERNAME')).merge(sales_data_2003_replace,\n",
    "                                how='left',\n",
    "                                on='CUSTOMERNAME').drop_duplicates(subset='CUSTOMERNAME', \n",
    "                                                                   keep='first').drop(['PRODUCTLINE','PRODUCTCODE',\n",
    "                                                                                    'DEALSIZE','tot_orders_2003',\n",
    "                                                                                    'tot_sales_2003',\n",
    "                                                                                    'SALES','avg_sales_2003'],axis=1)"
   ]
  },
  {
   "cell_type": "code",
   "execution_count": 54,
   "metadata": {},
   "outputs": [],
   "source": [
    "label = standardized_data_2003['class']\n",
    "standardized_data_2003.drop(labels=['class'], axis=1,inplace = True)\n",
    "standardized_data_2003.insert(9, 'class', label)\n",
    "standardized_data_2003 = standardized_data_2003.drop('CUSTOMERNAME',axis=1)\n",
    "customer_labels = standardized_data_2003['class'].astype('category').cat.categories.tolist()\n",
    "replace_map_cust = {'class' : {k: v for k,v in zip(customer_labels,list(range(1,len(customer_labels)+1)))}}\n",
    "standardized_data_2003_replace = standardized_data_2003.copy()\n",
    "standardized_data_2003_replace.replace(replace_map_cust, inplace=True)\n",
    "X = standardized_data_2003_replace.drop(['class'], axis = 1)\n",
    "y = standardized_data_2003_replace['class'] \n",
    "X_train, X_test, y_train, y_test = train_test_split(X, y, test_size=0.30)"
   ]
  },
  {
   "cell_type": "markdown",
   "metadata": {},
   "source": [
    "#### Applying KNN and Random Forest classifiers to the new data."
   ]
  },
  {
   "cell_type": "code",
   "execution_count": 55,
   "metadata": {},
   "outputs": [
    {
     "name": "stdout",
     "output_type": "stream",
     "text": [
      "4 KNN Accuracy: 66.67%\n"
     ]
    }
   ],
   "source": [
    "knn = KNeighborsClassifier(n_neighbors = 4)  # n_neighbors means k\n",
    "knn.fit(X_train, y_train)\n",
    "y_pred = knn.predict(X_test)\n",
    "print(f\"4 KNN Accuracy: {round(knn.score(X_test, y_test)*100,2)}%\")"
   ]
  },
  {
   "cell_type": "code",
   "execution_count": 56,
   "metadata": {},
   "outputs": [
    {
     "name": "stdout",
     "output_type": "stream",
     "text": [
      "{'class': {'Average': 1, 'Profitable': 2, 'Unprofitable': 3}}\n",
      "Confusion Matrix :\n",
      "[[14  0  0]\n",
      " [ 3  0  0]\n",
      " [ 4  0  0]]\n",
      "Accuracy Score : 0.6666666666666666\n",
      "Report : \n",
      "              precision    recall  f1-score   support\n",
      "\n",
      "           1       0.67      1.00      0.80        14\n",
      "           2       0.00      0.00      0.00         3\n",
      "           3       0.00      0.00      0.00         4\n",
      "\n",
      "    accuracy                           0.67        21\n",
      "   macro avg       0.22      0.33      0.27        21\n",
      "weighted avg       0.44      0.67      0.53        21\n",
      "\n"
     ]
    },
    {
     "name": "stderr",
     "output_type": "stream",
     "text": [
      "C:\\Users\\lukes\\Anaconda3\\lib\\site-packages\\sklearn\\metrics\\classification.py:1437: UndefinedMetricWarning: Precision and F-score are ill-defined and being set to 0.0 in labels with no predicted samples.\n",
      "  'precision', 'predicted', average, warn_for)\n"
     ]
    }
   ],
   "source": [
    "results = confusion_matrix(y_test, y_pred) \n",
    "print(replace_map_cust)\n",
    "print ('Confusion Matrix :')\n",
    "print(results) \n",
    "print ('Accuracy Score :',accuracy_score(y_test, y_pred)) \n",
    "print ('Report : ')\n",
    "print (classification_report(y_test, y_pred))"
   ]
  },
  {
   "cell_type": "code",
   "execution_count": 57,
   "metadata": {},
   "outputs": [
    {
     "name": "stdout",
     "output_type": "stream",
     "text": [
      "Random Forest Accuracy: 61.9%\n"
     ]
    }
   ],
   "source": [
    "clf=RandomForestClassifier(n_estimators=100)\n",
    "clf.fit(X_train,y_train)\n",
    "y_pred=clf.predict(X_test)\n",
    "print(f\"Random Forest Accuracy: {round(metrics.accuracy_score(y_test, y_pred)*100,2)}%\")"
   ]
  },
  {
   "cell_type": "code",
   "execution_count": 58,
   "metadata": {},
   "outputs": [
    {
     "name": "stdout",
     "output_type": "stream",
     "text": [
      "{'class': {'Average': 1, 'Profitable': 2, 'Unprofitable': 3}}\n",
      "Confusion Matrix :\n",
      "[[12  1  1]\n",
      " [ 3  0  0]\n",
      " [ 3  0  1]]\n",
      "Accuracy Score : 0.6190476190476191\n",
      "Report : \n",
      "              precision    recall  f1-score   support\n",
      "\n",
      "           1       0.67      0.86      0.75        14\n",
      "           2       0.00      0.00      0.00         3\n",
      "           3       0.50      0.25      0.33         4\n",
      "\n",
      "    accuracy                           0.62        21\n",
      "   macro avg       0.39      0.37      0.36        21\n",
      "weighted avg       0.54      0.62      0.56        21\n",
      "\n"
     ]
    }
   ],
   "source": [
    "results = confusion_matrix(y_test, y_pred) \n",
    "print(replace_map_cust)\n",
    "print ('Confusion Matrix :')\n",
    "print(results) \n",
    "print ('Accuracy Score :',accuracy_score(y_test, y_pred)) \n",
    "print ('Report : ')\n",
    "print (classification_report(y_test, y_pred))"
   ]
  },
  {
   "cell_type": "markdown",
   "metadata": {},
   "source": [
    "Despite our high accuracy scores, our models are poor at predicting profitable and unprofitable customers. "
   ]
  },
  {
   "cell_type": "markdown",
   "metadata": {},
   "source": [
    "## Tracking sales in a time series to forecast future sales"
   ]
  },
  {
   "cell_type": "markdown",
   "metadata": {},
   "source": [
    "Let's see how the sales of our profitable customers changed over time. First, we create a list containing the names of our profitable customers."
   ]
  },
  {
   "cell_type": "code",
   "execution_count": 83,
   "metadata": {},
   "outputs": [],
   "source": [
    "profitable_customers = list(customer_data[customer_data['class']==\"Profitable\"].sort_values(by=['avg_sales'], ascending=False).index)"
   ]
  },
  {
   "cell_type": "code",
   "execution_count": 88,
   "metadata": {},
   "outputs": [],
   "source": [
    "sales_data_prof = sales_data[sales_data['CUSTOMERNAME'].isin(profitable_customers)]"
   ]
  },
  {
   "cell_type": "markdown",
   "metadata": {},
   "source": [
    "Let's begin my analyzing just one customer: Muscle Machine. "
   ]
  },
  {
   "cell_type": "code",
   "execution_count": 94,
   "metadata": {},
   "outputs": [],
   "source": [
    "muscle_machine_data = sales_data[sales_data['CUSTOMERNAME'] =='Muscle Machine Inc']"
   ]
  },
  {
   "cell_type": "code",
   "execution_count": 96,
   "metadata": {},
   "outputs": [
    {
     "data": {
      "text/html": [
       "<div>\n",
       "<style scoped>\n",
       "    .dataframe tbody tr th:only-of-type {\n",
       "        vertical-align: middle;\n",
       "    }\n",
       "\n",
       "    .dataframe tbody tr th {\n",
       "        vertical-align: top;\n",
       "    }\n",
       "\n",
       "    .dataframe thead th {\n",
       "        text-align: right;\n",
       "    }\n",
       "</style>\n",
       "<table border=\"1\" class=\"dataframe\">\n",
       "  <thead>\n",
       "    <tr style=\"text-align: right;\">\n",
       "      <th></th>\n",
       "      <th>CUSTOMERNAME</th>\n",
       "      <th>SALES</th>\n",
       "      <th>PRODUCTLINE</th>\n",
       "      <th>PRODUCTCODE</th>\n",
       "      <th>COUNTRY</th>\n",
       "      <th>DEALSIZE</th>\n",
       "    </tr>\n",
       "    <tr>\n",
       "      <th>ORDERDATE</th>\n",
       "      <th></th>\n",
       "      <th></th>\n",
       "      <th></th>\n",
       "      <th></th>\n",
       "      <th></th>\n",
       "      <th></th>\n",
       "    </tr>\n",
       "  </thead>\n",
       "  <tbody>\n",
       "    <tr>\n",
       "      <th>2003-06-03</th>\n",
       "      <td>Muscle Machine Inc</td>\n",
       "      <td>1939.80</td>\n",
       "      <td>Classic Cars</td>\n",
       "      <td>S24_4048</td>\n",
       "      <td>USA</td>\n",
       "      <td>Small</td>\n",
       "    </tr>\n",
       "    <tr>\n",
       "      <th>2003-06-03</th>\n",
       "      <td>Muscle Machine Inc</td>\n",
       "      <td>6295.95</td>\n",
       "      <td>Trucks and Buses</td>\n",
       "      <td>S18_2319</td>\n",
       "      <td>USA</td>\n",
       "      <td>Medium</td>\n",
       "    </tr>\n",
       "    <tr>\n",
       "      <th>2003-06-03</th>\n",
       "      <td>Muscle Machine Inc</td>\n",
       "      <td>2559.60</td>\n",
       "      <td>Trucks and Buses</td>\n",
       "      <td>S12_4473</td>\n",
       "      <td>USA</td>\n",
       "      <td>Small</td>\n",
       "    </tr>\n",
       "    <tr>\n",
       "      <th>2003-06-03</th>\n",
       "      <td>Muscle Machine Inc</td>\n",
       "      <td>6176.42</td>\n",
       "      <td>Trucks and Buses</td>\n",
       "      <td>S50_1392</td>\n",
       "      <td>USA</td>\n",
       "      <td>Medium</td>\n",
       "    </tr>\n",
       "    <tr>\n",
       "      <th>2003-06-03</th>\n",
       "      <td>Muscle Machine Inc</td>\n",
       "      <td>8138.76</td>\n",
       "      <td>Classic Cars</td>\n",
       "      <td>S12_3891</td>\n",
       "      <td>USA</td>\n",
       "      <td>Large</td>\n",
       "    </tr>\n",
       "  </tbody>\n",
       "</table>\n",
       "</div>"
      ],
      "text/plain": [
       "                  CUSTOMERNAME    SALES       PRODUCTLINE PRODUCTCODE COUNTRY  \\\n",
       "ORDERDATE                                                                       \n",
       "2003-06-03  Muscle Machine Inc  1939.80      Classic Cars    S24_4048     USA   \n",
       "2003-06-03  Muscle Machine Inc  6295.95  Trucks and Buses    S18_2319     USA   \n",
       "2003-06-03  Muscle Machine Inc  2559.60  Trucks and Buses    S12_4473     USA   \n",
       "2003-06-03  Muscle Machine Inc  6176.42  Trucks and Buses    S50_1392     USA   \n",
       "2003-06-03  Muscle Machine Inc  8138.76      Classic Cars    S12_3891     USA   \n",
       "\n",
       "           DEALSIZE  \n",
       "ORDERDATE            \n",
       "2003-06-03    Small  \n",
       "2003-06-03   Medium  \n",
       "2003-06-03    Small  \n",
       "2003-06-03   Medium  \n",
       "2003-06-03    Large  "
      ]
     },
     "execution_count": 96,
     "metadata": {},
     "output_type": "execute_result"
    }
   ],
   "source": [
    "muscle_machine_data.head()"
   ]
  },
  {
   "cell_type": "code",
   "execution_count": 97,
   "metadata": {},
   "outputs": [],
   "source": [
    "muscle_machine_data = muscle_machine_data.groupby('ORDERDATE')['SALES'].sum().reset_index()"
   ]
  },
  {
   "cell_type": "code",
   "execution_count": 98,
   "metadata": {},
   "outputs": [
    {
     "data": {
      "text/plain": [
       "DatetimeIndex(['2003-06-03', '2003-12-02', '2004-07-07', '2004-12-01'], dtype='datetime64[ns]', name='ORDERDATE', freq=None)"
      ]
     },
     "execution_count": 98,
     "metadata": {},
     "output_type": "execute_result"
    }
   ],
   "source": [
    "muscle_machine_data = muscle_machine_data.set_index('ORDERDATE')"
   ]
  },
  {
   "cell_type": "code",
   "execution_count": null,
   "metadata": {},
   "outputs": [],
   "source": []
  }
 ],
 "metadata": {
  "kernelspec": {
   "display_name": "Python 3",
   "language": "python",
   "name": "python3"
  },
  "language_info": {
   "codemirror_mode": {
    "name": "ipython",
    "version": 3
   },
   "file_extension": ".py",
   "mimetype": "text/x-python",
   "name": "python",
   "nbconvert_exporter": "python",
   "pygments_lexer": "ipython3",
   "version": "3.7.3"
  }
 },
 "nbformat": 4,
 "nbformat_minor": 2
}
