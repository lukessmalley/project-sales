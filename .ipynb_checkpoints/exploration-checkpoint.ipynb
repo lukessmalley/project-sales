{
 "cells": [
  {
   "cell_type": "markdown",
   "metadata": {},
   "source": [
    "# Analyzing Sales Data"
   ]
  },
  {
   "cell_type": "markdown",
   "metadata": {},
   "source": [
    "## Import Libraries"
   ]
  },
  {
   "cell_type": "code",
   "execution_count": 75,
   "metadata": {},
   "outputs": [],
   "source": [
    "import warnings\n",
    "import pandas as pd\n",
    "import numpy as np\n",
    "import itertools\n",
    "import matplotlib\n",
    "import matplotlib.pyplot as plt\n",
    "import statsmodels.api as sm\n",
    "import seaborn as sns\n",
    "from scipy import stats\n",
    "from pylab import rcParams\n",
    "\n",
    "warnings.filterwarnings(\"ignore\")\n",
    "plt.style.use('fivethirtyeight')\n",
    "matplotlib.rcParams['axes.labelsize'] = 14\n",
    "matplotlib.rcParams['xtick.labelsize'] = 12\n",
    "matplotlib.rcParams['ytick.labelsize'] = 12\n",
    "matplotlib.rcParams['text.color'] = 'k'"
   ]
  },
  {
   "cell_type": "markdown",
   "metadata": {},
   "source": [
    "## Import Data"
   ]
  },
  {
   "cell_type": "code",
   "execution_count": 109,
   "metadata": {},
   "outputs": [],
   "source": [
    "data = pd.read_csv('sales_data_sample.csv',encoding='cp1252')"
   ]
  },
  {
   "cell_type": "code",
   "execution_count": 3,
   "metadata": {},
   "outputs": [
    {
     "data": {
      "text/html": [
       "<div>\n",
       "<style scoped>\n",
       "    .dataframe tbody tr th:only-of-type {\n",
       "        vertical-align: middle;\n",
       "    }\n",
       "\n",
       "    .dataframe tbody tr th {\n",
       "        vertical-align: top;\n",
       "    }\n",
       "\n",
       "    .dataframe thead th {\n",
       "        text-align: right;\n",
       "    }\n",
       "</style>\n",
       "<table border=\"1\" class=\"dataframe\">\n",
       "  <thead>\n",
       "    <tr style=\"text-align: right;\">\n",
       "      <th></th>\n",
       "      <th>ORDERNUMBER</th>\n",
       "      <th>QUANTITYORDERED</th>\n",
       "      <th>PRICEEACH</th>\n",
       "      <th>ORDERLINENUMBER</th>\n",
       "      <th>SALES</th>\n",
       "      <th>ORDERDATE</th>\n",
       "      <th>STATUS</th>\n",
       "      <th>QTR_ID</th>\n",
       "      <th>MONTH_ID</th>\n",
       "      <th>YEAR_ID</th>\n",
       "      <th>...</th>\n",
       "      <th>ADDRESSLINE1</th>\n",
       "      <th>ADDRESSLINE2</th>\n",
       "      <th>CITY</th>\n",
       "      <th>STATE</th>\n",
       "      <th>POSTALCODE</th>\n",
       "      <th>COUNTRY</th>\n",
       "      <th>TERRITORY</th>\n",
       "      <th>CONTACTLASTNAME</th>\n",
       "      <th>CONTACTFIRSTNAME</th>\n",
       "      <th>DEALSIZE</th>\n",
       "    </tr>\n",
       "  </thead>\n",
       "  <tbody>\n",
       "    <tr>\n",
       "      <th>0</th>\n",
       "      <td>10107</td>\n",
       "      <td>30</td>\n",
       "      <td>95.70</td>\n",
       "      <td>2</td>\n",
       "      <td>2871.00</td>\n",
       "      <td>2/24/2003 0:00</td>\n",
       "      <td>Shipped</td>\n",
       "      <td>1</td>\n",
       "      <td>2</td>\n",
       "      <td>2003</td>\n",
       "      <td>...</td>\n",
       "      <td>897 Long Airport Avenue</td>\n",
       "      <td>NaN</td>\n",
       "      <td>NYC</td>\n",
       "      <td>NY</td>\n",
       "      <td>10022</td>\n",
       "      <td>USA</td>\n",
       "      <td>NaN</td>\n",
       "      <td>Yu</td>\n",
       "      <td>Kwai</td>\n",
       "      <td>Small</td>\n",
       "    </tr>\n",
       "    <tr>\n",
       "      <th>1</th>\n",
       "      <td>10121</td>\n",
       "      <td>34</td>\n",
       "      <td>81.35</td>\n",
       "      <td>5</td>\n",
       "      <td>2765.90</td>\n",
       "      <td>5/7/2003 0:00</td>\n",
       "      <td>Shipped</td>\n",
       "      <td>2</td>\n",
       "      <td>5</td>\n",
       "      <td>2003</td>\n",
       "      <td>...</td>\n",
       "      <td>59 rue de l'Abbaye</td>\n",
       "      <td>NaN</td>\n",
       "      <td>Reims</td>\n",
       "      <td>NaN</td>\n",
       "      <td>51100</td>\n",
       "      <td>France</td>\n",
       "      <td>EMEA</td>\n",
       "      <td>Henriot</td>\n",
       "      <td>Paul</td>\n",
       "      <td>Small</td>\n",
       "    </tr>\n",
       "    <tr>\n",
       "      <th>2</th>\n",
       "      <td>10134</td>\n",
       "      <td>41</td>\n",
       "      <td>94.74</td>\n",
       "      <td>2</td>\n",
       "      <td>3884.34</td>\n",
       "      <td>7/1/2003 0:00</td>\n",
       "      <td>Shipped</td>\n",
       "      <td>3</td>\n",
       "      <td>7</td>\n",
       "      <td>2003</td>\n",
       "      <td>...</td>\n",
       "      <td>27 rue du Colonel Pierre Avia</td>\n",
       "      <td>NaN</td>\n",
       "      <td>Paris</td>\n",
       "      <td>NaN</td>\n",
       "      <td>75508</td>\n",
       "      <td>France</td>\n",
       "      <td>EMEA</td>\n",
       "      <td>Da Cunha</td>\n",
       "      <td>Daniel</td>\n",
       "      <td>Medium</td>\n",
       "    </tr>\n",
       "    <tr>\n",
       "      <th>3</th>\n",
       "      <td>10145</td>\n",
       "      <td>45</td>\n",
       "      <td>83.26</td>\n",
       "      <td>6</td>\n",
       "      <td>3746.70</td>\n",
       "      <td>8/25/2003 0:00</td>\n",
       "      <td>Shipped</td>\n",
       "      <td>3</td>\n",
       "      <td>8</td>\n",
       "      <td>2003</td>\n",
       "      <td>...</td>\n",
       "      <td>78934 Hillside Dr.</td>\n",
       "      <td>NaN</td>\n",
       "      <td>Pasadena</td>\n",
       "      <td>CA</td>\n",
       "      <td>90003</td>\n",
       "      <td>USA</td>\n",
       "      <td>NaN</td>\n",
       "      <td>Young</td>\n",
       "      <td>Julie</td>\n",
       "      <td>Medium</td>\n",
       "    </tr>\n",
       "    <tr>\n",
       "      <th>4</th>\n",
       "      <td>10159</td>\n",
       "      <td>49</td>\n",
       "      <td>100.00</td>\n",
       "      <td>14</td>\n",
       "      <td>5205.27</td>\n",
       "      <td>10/10/2003 0:00</td>\n",
       "      <td>Shipped</td>\n",
       "      <td>4</td>\n",
       "      <td>10</td>\n",
       "      <td>2003</td>\n",
       "      <td>...</td>\n",
       "      <td>7734 Strong St.</td>\n",
       "      <td>NaN</td>\n",
       "      <td>San Francisco</td>\n",
       "      <td>CA</td>\n",
       "      <td>NaN</td>\n",
       "      <td>USA</td>\n",
       "      <td>NaN</td>\n",
       "      <td>Brown</td>\n",
       "      <td>Julie</td>\n",
       "      <td>Medium</td>\n",
       "    </tr>\n",
       "  </tbody>\n",
       "</table>\n",
       "<p>5 rows × 25 columns</p>\n",
       "</div>"
      ],
      "text/plain": [
       "   ORDERNUMBER  QUANTITYORDERED  PRICEEACH  ORDERLINENUMBER    SALES  \\\n",
       "0        10107               30      95.70                2  2871.00   \n",
       "1        10121               34      81.35                5  2765.90   \n",
       "2        10134               41      94.74                2  3884.34   \n",
       "3        10145               45      83.26                6  3746.70   \n",
       "4        10159               49     100.00               14  5205.27   \n",
       "\n",
       "         ORDERDATE   STATUS  QTR_ID  MONTH_ID  YEAR_ID  ...  \\\n",
       "0   2/24/2003 0:00  Shipped       1         2     2003  ...   \n",
       "1    5/7/2003 0:00  Shipped       2         5     2003  ...   \n",
       "2    7/1/2003 0:00  Shipped       3         7     2003  ...   \n",
       "3   8/25/2003 0:00  Shipped       3         8     2003  ...   \n",
       "4  10/10/2003 0:00  Shipped       4        10     2003  ...   \n",
       "\n",
       "                    ADDRESSLINE1  ADDRESSLINE2           CITY STATE  \\\n",
       "0        897 Long Airport Avenue           NaN            NYC    NY   \n",
       "1             59 rue de l'Abbaye           NaN          Reims   NaN   \n",
       "2  27 rue du Colonel Pierre Avia           NaN          Paris   NaN   \n",
       "3             78934 Hillside Dr.           NaN       Pasadena    CA   \n",
       "4                7734 Strong St.           NaN  San Francisco    CA   \n",
       "\n",
       "  POSTALCODE COUNTRY TERRITORY CONTACTLASTNAME CONTACTFIRSTNAME DEALSIZE  \n",
       "0      10022     USA       NaN              Yu             Kwai    Small  \n",
       "1      51100  France      EMEA         Henriot             Paul    Small  \n",
       "2      75508  France      EMEA        Da Cunha           Daniel   Medium  \n",
       "3      90003     USA       NaN           Young            Julie   Medium  \n",
       "4        NaN     USA       NaN           Brown            Julie   Medium  \n",
       "\n",
       "[5 rows x 25 columns]"
      ]
     },
     "execution_count": 3,
     "metadata": {},
     "output_type": "execute_result"
    }
   ],
   "source": [
    "data.head()"
   ]
  },
  {
   "cell_type": "markdown",
   "metadata": {},
   "source": [
    "## Who are the most profitable customers?"
   ]
  },
  {
   "cell_type": "markdown",
   "metadata": {},
   "source": [
    "Step 1: clean data\n",
    "Step 2: create unique customer number\n",
    "Step 3: define who are the most profitable"
   ]
  },
  {
   "cell_type": "code",
   "execution_count": 4,
   "metadata": {},
   "outputs": [],
   "source": [
    "customer_sales = data.drop(['ORDERLINENUMBER', 'STATUS','QTR_ID','MONTH_ID',\n",
    "           'ADDRESSLINE1','ADDRESSLINE2','CITY','STATE','POSTALCODE',\n",
    "           'TERRITORY','PRICEEACH','ORDERNUMBER','QUANTITYORDERED',\n",
    "           'PRODUCTLINE','MSRP','PRODUCTCODE','CONTACTLASTNAME',\n",
    "           'CONTACTFIRSTNAME','PHONE','ORDERDATE','COUNTRY','YEAR_ID'],axis=1)"
   ]
  },
  {
   "cell_type": "code",
   "execution_count": 5,
   "metadata": {},
   "outputs": [],
   "source": [
    "column_order = ['CUSTOMERNAME','SALES','DEALSIZE']\n",
    "customer_sales = customer_sales[column_order]"
   ]
  },
  {
   "cell_type": "code",
   "execution_count": 6,
   "metadata": {},
   "outputs": [
    {
     "data": {
      "text/html": [
       "<div>\n",
       "<style scoped>\n",
       "    .dataframe tbody tr th:only-of-type {\n",
       "        vertical-align: middle;\n",
       "    }\n",
       "\n",
       "    .dataframe tbody tr th {\n",
       "        vertical-align: top;\n",
       "    }\n",
       "\n",
       "    .dataframe thead th {\n",
       "        text-align: right;\n",
       "    }\n",
       "</style>\n",
       "<table border=\"1\" class=\"dataframe\">\n",
       "  <thead>\n",
       "    <tr style=\"text-align: right;\">\n",
       "      <th></th>\n",
       "      <th>CUSTOMERNAME</th>\n",
       "      <th>SALES</th>\n",
       "      <th>DEALSIZE</th>\n",
       "    </tr>\n",
       "  </thead>\n",
       "  <tbody>\n",
       "    <tr>\n",
       "      <th>598</th>\n",
       "      <td>The Sharp Gifts Warehouse</td>\n",
       "      <td>14082.8</td>\n",
       "      <td>Large</td>\n",
       "    </tr>\n",
       "    <tr>\n",
       "      <th>744</th>\n",
       "      <td>Online Diecast Creations Co.</td>\n",
       "      <td>12536.5</td>\n",
       "      <td>Large</td>\n",
       "    </tr>\n",
       "    <tr>\n",
       "      <th>53</th>\n",
       "      <td>Euro Shopping Channel</td>\n",
       "      <td>12001.0</td>\n",
       "      <td>Large</td>\n",
       "    </tr>\n",
       "    <tr>\n",
       "      <th>1062</th>\n",
       "      <td>Euro Shopping Channel</td>\n",
       "      <td>11887.8</td>\n",
       "      <td>Large</td>\n",
       "    </tr>\n",
       "    <tr>\n",
       "      <th>104</th>\n",
       "      <td>UK Collectables, Ltd.</td>\n",
       "      <td>11886.6</td>\n",
       "      <td>Large</td>\n",
       "    </tr>\n",
       "  </tbody>\n",
       "</table>\n",
       "</div>"
      ],
      "text/plain": [
       "                      CUSTOMERNAME    SALES DEALSIZE\n",
       "598      The Sharp Gifts Warehouse  14082.8    Large\n",
       "744   Online Diecast Creations Co.  12536.5    Large\n",
       "53           Euro Shopping Channel  12001.0    Large\n",
       "1062         Euro Shopping Channel  11887.8    Large\n",
       "104          UK Collectables, Ltd.  11886.6    Large"
      ]
     },
     "execution_count": 6,
     "metadata": {},
     "output_type": "execute_result"
    }
   ],
   "source": [
    "customer_sales.sort_values(by=['SALES'], ascending=False).head()"
   ]
  },
  {
   "cell_type": "code",
   "execution_count": 7,
   "metadata": {},
   "outputs": [
    {
     "data": {
      "text/html": [
       "<div>\n",
       "<style scoped>\n",
       "    .dataframe tbody tr th:only-of-type {\n",
       "        vertical-align: middle;\n",
       "    }\n",
       "\n",
       "    .dataframe tbody tr th {\n",
       "        vertical-align: top;\n",
       "    }\n",
       "\n",
       "    .dataframe thead th {\n",
       "        text-align: right;\n",
       "    }\n",
       "</style>\n",
       "<table border=\"1\" class=\"dataframe\">\n",
       "  <thead>\n",
       "    <tr style=\"text-align: right;\">\n",
       "      <th>DEALSIZE</th>\n",
       "      <th>Large</th>\n",
       "      <th>Medium</th>\n",
       "      <th>Small</th>\n",
       "    </tr>\n",
       "    <tr>\n",
       "      <th>CUSTOMERNAME</th>\n",
       "      <th></th>\n",
       "      <th></th>\n",
       "      <th></th>\n",
       "    </tr>\n",
       "  </thead>\n",
       "  <tbody>\n",
       "    <tr>\n",
       "      <th>Mini Gifts Distributors Ltd.</th>\n",
       "      <td>11</td>\n",
       "      <td>92</td>\n",
       "      <td>77</td>\n",
       "    </tr>\n",
       "    <tr>\n",
       "      <th>Euro Shopping Channel</th>\n",
       "      <td>11</td>\n",
       "      <td>131</td>\n",
       "      <td>117</td>\n",
       "    </tr>\n",
       "    <tr>\n",
       "      <th>The Sharp Gifts Warehouse</th>\n",
       "      <td>6</td>\n",
       "      <td>16</td>\n",
       "      <td>18</td>\n",
       "    </tr>\n",
       "    <tr>\n",
       "      <th>Muscle Machine Inc</th>\n",
       "      <td>5</td>\n",
       "      <td>28</td>\n",
       "      <td>15</td>\n",
       "    </tr>\n",
       "    <tr>\n",
       "      <th>Danish Wholesale Imports</th>\n",
       "      <td>5</td>\n",
       "      <td>18</td>\n",
       "      <td>13</td>\n",
       "    </tr>\n",
       "    <tr>\n",
       "      <th>Corrida Auto Replicas, Ltd</th>\n",
       "      <td>4</td>\n",
       "      <td>14</td>\n",
       "      <td>14</td>\n",
       "    </tr>\n",
       "    <tr>\n",
       "      <th>L'ordine Souveniers</th>\n",
       "      <td>4</td>\n",
       "      <td>13</td>\n",
       "      <td>22</td>\n",
       "    </tr>\n",
       "    <tr>\n",
       "      <th>Diecast Classics Inc.</th>\n",
       "      <td>4</td>\n",
       "      <td>12</td>\n",
       "      <td>15</td>\n",
       "    </tr>\n",
       "    <tr>\n",
       "      <th>Salzburg Collectables</th>\n",
       "      <td>4</td>\n",
       "      <td>20</td>\n",
       "      <td>16</td>\n",
       "    </tr>\n",
       "    <tr>\n",
       "      <th>Tekni Collectables Inc.</th>\n",
       "      <td>4</td>\n",
       "      <td>9</td>\n",
       "      <td>8</td>\n",
       "    </tr>\n",
       "  </tbody>\n",
       "</table>\n",
       "</div>"
      ],
      "text/plain": [
       "DEALSIZE                      Large  Medium  Small\n",
       "CUSTOMERNAME                                      \n",
       "Mini Gifts Distributors Ltd.     11      92     77\n",
       "Euro Shopping Channel            11     131    117\n",
       "The Sharp Gifts Warehouse         6      16     18\n",
       "Muscle Machine Inc                5      28     15\n",
       "Danish Wholesale Imports          5      18     13\n",
       "Corrida Auto Replicas, Ltd        4      14     14\n",
       "L'ordine Souveniers               4      13     22\n",
       "Diecast Classics Inc.             4      12     15\n",
       "Salzburg Collectables             4      20     16\n",
       "Tekni Collectables Inc.           4       9      8"
      ]
     },
     "execution_count": 7,
     "metadata": {},
     "output_type": "execute_result"
    }
   ],
   "source": [
    "contable = pd.crosstab(customer_sales['CUSTOMERNAME'],customer_sales['DEALSIZE'])\n",
    "contable.sort_values(by=['Large'], ascending=False).head(10)"
   ]
  },
  {
   "cell_type": "code",
   "execution_count": 8,
   "metadata": {},
   "outputs": [],
   "source": [
    "avg_sales = customer_sales.groupby(['CUSTOMERNAME']).mean().sort_values(by=['SALES'],ascending=False)"
   ]
  },
  {
   "cell_type": "code",
   "execution_count": 9,
   "metadata": {},
   "outputs": [
    {
     "data": {
      "text/html": [
       "<div>\n",
       "<style scoped>\n",
       "    .dataframe tbody tr th:only-of-type {\n",
       "        vertical-align: middle;\n",
       "    }\n",
       "\n",
       "    .dataframe tbody tr th {\n",
       "        vertical-align: top;\n",
       "    }\n",
       "\n",
       "    .dataframe thead th {\n",
       "        text-align: right;\n",
       "    }\n",
       "</style>\n",
       "<table border=\"1\" class=\"dataframe\">\n",
       "  <thead>\n",
       "    <tr style=\"text-align: right;\">\n",
       "      <th></th>\n",
       "      <th>SALES</th>\n",
       "    </tr>\n",
       "    <tr>\n",
       "      <th>CUSTOMERNAME</th>\n",
       "      <th></th>\n",
       "    </tr>\n",
       "  </thead>\n",
       "  <tbody>\n",
       "    <tr>\n",
       "      <th>Super Scale Inc.</th>\n",
       "      <td>4674.827647</td>\n",
       "    </tr>\n",
       "    <tr>\n",
       "      <th>Mini Caravy</th>\n",
       "      <td>4233.604211</td>\n",
       "    </tr>\n",
       "    <tr>\n",
       "      <th>La Corne D'abondance, Co.</th>\n",
       "      <td>4226.246957</td>\n",
       "    </tr>\n",
       "    <tr>\n",
       "      <th>Royale Belge</th>\n",
       "      <td>4180.012500</td>\n",
       "    </tr>\n",
       "    <tr>\n",
       "      <th>Muscle Machine Inc</th>\n",
       "      <td>4119.519583</td>\n",
       "    </tr>\n",
       "    <tr>\n",
       "      <th>Gift Depot Inc.</th>\n",
       "      <td>4075.791600</td>\n",
       "    </tr>\n",
       "    <tr>\n",
       "      <th>UK Collectables, Ltd.</th>\n",
       "      <td>4069.250690</td>\n",
       "    </tr>\n",
       "    <tr>\n",
       "      <th>Danish Wholesale Imports</th>\n",
       "      <td>4028.933333</td>\n",
       "    </tr>\n",
       "    <tr>\n",
       "      <th>Dragon Souveniers, Ltd.</th>\n",
       "      <td>4023.015814</td>\n",
       "    </tr>\n",
       "    <tr>\n",
       "      <th>The Sharp Gifts Warehouse</th>\n",
       "      <td>4000.256750</td>\n",
       "    </tr>\n",
       "  </tbody>\n",
       "</table>\n",
       "</div>"
      ],
      "text/plain": [
       "                                 SALES\n",
       "CUSTOMERNAME                          \n",
       "Super Scale Inc.           4674.827647\n",
       "Mini Caravy                4233.604211\n",
       "La Corne D'abondance, Co.  4226.246957\n",
       "Royale Belge               4180.012500\n",
       "Muscle Machine Inc         4119.519583\n",
       "Gift Depot Inc.            4075.791600\n",
       "UK Collectables, Ltd.      4069.250690\n",
       "Danish Wholesale Imports   4028.933333\n",
       "Dragon Souveniers, Ltd.    4023.015814\n",
       "The Sharp Gifts Warehouse  4000.256750"
      ]
     },
     "execution_count": 9,
     "metadata": {},
     "output_type": "execute_result"
    }
   ],
   "source": [
    "avg_sales.head(10)"
   ]
  },
  {
   "cell_type": "code",
   "execution_count": 10,
   "metadata": {},
   "outputs": [],
   "source": [
    "tot_sales = customer_sales.groupby(['CUSTOMERNAME']).sum().sort_values(by=['SALES'],ascending=False)"
   ]
  },
  {
   "cell_type": "code",
   "execution_count": 11,
   "metadata": {},
   "outputs": [
    {
     "data": {
      "text/html": [
       "<div>\n",
       "<style scoped>\n",
       "    .dataframe tbody tr th:only-of-type {\n",
       "        vertical-align: middle;\n",
       "    }\n",
       "\n",
       "    .dataframe tbody tr th {\n",
       "        vertical-align: top;\n",
       "    }\n",
       "\n",
       "    .dataframe thead th {\n",
       "        text-align: right;\n",
       "    }\n",
       "</style>\n",
       "<table border=\"1\" class=\"dataframe\">\n",
       "  <thead>\n",
       "    <tr style=\"text-align: right;\">\n",
       "      <th></th>\n",
       "      <th>SALES</th>\n",
       "    </tr>\n",
       "    <tr>\n",
       "      <th>CUSTOMERNAME</th>\n",
       "      <th></th>\n",
       "    </tr>\n",
       "  </thead>\n",
       "  <tbody>\n",
       "    <tr>\n",
       "      <th>Euro Shopping Channel</th>\n",
       "      <td>912294.11</td>\n",
       "    </tr>\n",
       "    <tr>\n",
       "      <th>Mini Gifts Distributors Ltd.</th>\n",
       "      <td>654858.06</td>\n",
       "    </tr>\n",
       "    <tr>\n",
       "      <th>Australian Collectors, Co.</th>\n",
       "      <td>200995.41</td>\n",
       "    </tr>\n",
       "    <tr>\n",
       "      <th>Muscle Machine Inc</th>\n",
       "      <td>197736.94</td>\n",
       "    </tr>\n",
       "    <tr>\n",
       "      <th>La Rochelle Gifts</th>\n",
       "      <td>180124.90</td>\n",
       "    </tr>\n",
       "    <tr>\n",
       "      <th>Dragon Souveniers, Ltd.</th>\n",
       "      <td>172989.68</td>\n",
       "    </tr>\n",
       "    <tr>\n",
       "      <th>Land of Toys Inc.</th>\n",
       "      <td>164069.44</td>\n",
       "    </tr>\n",
       "    <tr>\n",
       "      <th>The Sharp Gifts Warehouse</th>\n",
       "      <td>160010.27</td>\n",
       "    </tr>\n",
       "    <tr>\n",
       "      <th>AV Stores, Co.</th>\n",
       "      <td>157807.81</td>\n",
       "    </tr>\n",
       "    <tr>\n",
       "      <th>Anna's Decorations, Ltd</th>\n",
       "      <td>153996.13</td>\n",
       "    </tr>\n",
       "  </tbody>\n",
       "</table>\n",
       "</div>"
      ],
      "text/plain": [
       "                                  SALES\n",
       "CUSTOMERNAME                           \n",
       "Euro Shopping Channel         912294.11\n",
       "Mini Gifts Distributors Ltd.  654858.06\n",
       "Australian Collectors, Co.    200995.41\n",
       "Muscle Machine Inc            197736.94\n",
       "La Rochelle Gifts             180124.90\n",
       "Dragon Souveniers, Ltd.       172989.68\n",
       "Land of Toys Inc.             164069.44\n",
       "The Sharp Gifts Warehouse     160010.27\n",
       "AV Stores, Co.                157807.81\n",
       "Anna's Decorations, Ltd       153996.13"
      ]
     },
     "execution_count": 11,
     "metadata": {},
     "output_type": "execute_result"
    }
   ],
   "source": [
    "tot_sales.head(10)"
   ]
  },
  {
   "cell_type": "code",
   "execution_count": 12,
   "metadata": {},
   "outputs": [],
   "source": [
    "tot_orders = customer_sales.groupby(['CUSTOMERNAME']).count().sort_values(by=['SALES'],ascending=False)"
   ]
  },
  {
   "cell_type": "code",
   "execution_count": 13,
   "metadata": {},
   "outputs": [],
   "source": [
    "tot_orders = tot_orders.drop('DEALSIZE',axis=1)"
   ]
  },
  {
   "cell_type": "code",
   "execution_count": 14,
   "metadata": {},
   "outputs": [
    {
     "data": {
      "text/html": [
       "<div>\n",
       "<style scoped>\n",
       "    .dataframe tbody tr th:only-of-type {\n",
       "        vertical-align: middle;\n",
       "    }\n",
       "\n",
       "    .dataframe tbody tr th {\n",
       "        vertical-align: top;\n",
       "    }\n",
       "\n",
       "    .dataframe thead th {\n",
       "        text-align: right;\n",
       "    }\n",
       "</style>\n",
       "<table border=\"1\" class=\"dataframe\">\n",
       "  <thead>\n",
       "    <tr style=\"text-align: right;\">\n",
       "      <th></th>\n",
       "      <th>SALES</th>\n",
       "    </tr>\n",
       "    <tr>\n",
       "      <th>CUSTOMERNAME</th>\n",
       "      <th></th>\n",
       "    </tr>\n",
       "  </thead>\n",
       "  <tbody>\n",
       "    <tr>\n",
       "      <th>Euro Shopping Channel</th>\n",
       "      <td>259</td>\n",
       "    </tr>\n",
       "    <tr>\n",
       "      <th>Mini Gifts Distributors Ltd.</th>\n",
       "      <td>180</td>\n",
       "    </tr>\n",
       "    <tr>\n",
       "      <th>Australian Collectors, Co.</th>\n",
       "      <td>55</td>\n",
       "    </tr>\n",
       "    <tr>\n",
       "      <th>La Rochelle Gifts</th>\n",
       "      <td>53</td>\n",
       "    </tr>\n",
       "    <tr>\n",
       "      <th>AV Stores, Co.</th>\n",
       "      <td>51</td>\n",
       "    </tr>\n",
       "  </tbody>\n",
       "</table>\n",
       "</div>"
      ],
      "text/plain": [
       "                              SALES\n",
       "CUSTOMERNAME                       \n",
       "Euro Shopping Channel           259\n",
       "Mini Gifts Distributors Ltd.    180\n",
       "Australian Collectors, Co.       55\n",
       "La Rochelle Gifts                53\n",
       "AV Stores, Co.                   51"
      ]
     },
     "execution_count": 14,
     "metadata": {},
     "output_type": "execute_result"
    }
   ],
   "source": [
    "tot_orders.head()"
   ]
  },
  {
   "cell_type": "code",
   "execution_count": 15,
   "metadata": {},
   "outputs": [],
   "source": [
    "combo = pd.merge(tot_orders, tot_sales, on='CUSTOMERNAME')"
   ]
  },
  {
   "cell_type": "code",
   "execution_count": 16,
   "metadata": {},
   "outputs": [],
   "source": [
    "combo = pd.merge(combo, avg_sales, on='CUSTOMERNAME')"
   ]
  },
  {
   "cell_type": "code",
   "execution_count": 17,
   "metadata": {},
   "outputs": [],
   "source": [
    "combo = combo.rename(columns={'SALES_x':'Total_orders','SALES_y':'Total_sales','SALES':'Avg_order_value'})"
   ]
  },
  {
   "cell_type": "code",
   "execution_count": 18,
   "metadata": {},
   "outputs": [],
   "source": [
    "combo['% global_orders']=combo['Total_orders']/sum(combo['Total_orders'])*100"
   ]
  },
  {
   "cell_type": "code",
   "execution_count": 19,
   "metadata": {},
   "outputs": [],
   "source": [
    "combo['% global_sales']=combo['Total_sales']/sum(combo['Total_sales'])*100"
   ]
  },
  {
   "cell_type": "code",
   "execution_count": 20,
   "metadata": {},
   "outputs": [
    {
     "data": {
      "text/html": [
       "<div>\n",
       "<style scoped>\n",
       "    .dataframe tbody tr th:only-of-type {\n",
       "        vertical-align: middle;\n",
       "    }\n",
       "\n",
       "    .dataframe tbody tr th {\n",
       "        vertical-align: top;\n",
       "    }\n",
       "\n",
       "    .dataframe thead th {\n",
       "        text-align: right;\n",
       "    }\n",
       "</style>\n",
       "<table border=\"1\" class=\"dataframe\">\n",
       "  <thead>\n",
       "    <tr style=\"text-align: right;\">\n",
       "      <th></th>\n",
       "      <th>Total_orders</th>\n",
       "      <th>Total_sales</th>\n",
       "      <th>Avg_order_value</th>\n",
       "      <th>% global_orders</th>\n",
       "      <th>% global_sales</th>\n",
       "    </tr>\n",
       "    <tr>\n",
       "      <th>CUSTOMERNAME</th>\n",
       "      <th></th>\n",
       "      <th></th>\n",
       "      <th></th>\n",
       "      <th></th>\n",
       "      <th></th>\n",
       "    </tr>\n",
       "  </thead>\n",
       "  <tbody>\n",
       "    <tr>\n",
       "      <th>Euro Shopping Channel</th>\n",
       "      <td>259</td>\n",
       "      <td>912294.11</td>\n",
       "      <td>3522.371081</td>\n",
       "      <td>9.174637</td>\n",
       "      <td>9.093271</td>\n",
       "    </tr>\n",
       "    <tr>\n",
       "      <th>Mini Gifts Distributors Ltd.</th>\n",
       "      <td>180</td>\n",
       "      <td>654858.06</td>\n",
       "      <td>3638.100333</td>\n",
       "      <td>6.376196</td>\n",
       "      <td>6.527283</td>\n",
       "    </tr>\n",
       "    <tr>\n",
       "      <th>Australian Collectors, Co.</th>\n",
       "      <td>55</td>\n",
       "      <td>200995.41</td>\n",
       "      <td>3654.462000</td>\n",
       "      <td>1.948282</td>\n",
       "      <td>2.003417</td>\n",
       "    </tr>\n",
       "    <tr>\n",
       "      <th>La Rochelle Gifts</th>\n",
       "      <td>53</td>\n",
       "      <td>180124.90</td>\n",
       "      <td>3398.583019</td>\n",
       "      <td>1.877435</td>\n",
       "      <td>1.795391</td>\n",
       "    </tr>\n",
       "    <tr>\n",
       "      <th>AV Stores, Co.</th>\n",
       "      <td>51</td>\n",
       "      <td>157807.81</td>\n",
       "      <td>3094.270784</td>\n",
       "      <td>1.806589</td>\n",
       "      <td>1.572946</td>\n",
       "    </tr>\n",
       "    <tr>\n",
       "      <th>Land of Toys Inc.</th>\n",
       "      <td>49</td>\n",
       "      <td>164069.44</td>\n",
       "      <td>3348.355918</td>\n",
       "      <td>1.735742</td>\n",
       "      <td>1.635358</td>\n",
       "    </tr>\n",
       "    <tr>\n",
       "      <th>Muscle Machine Inc</th>\n",
       "      <td>48</td>\n",
       "      <td>197736.94</td>\n",
       "      <td>4119.519583</td>\n",
       "      <td>1.700319</td>\n",
       "      <td>1.970938</td>\n",
       "    </tr>\n",
       "    <tr>\n",
       "      <th>Rovelli Gifts</th>\n",
       "      <td>48</td>\n",
       "      <td>137955.72</td>\n",
       "      <td>2874.077500</td>\n",
       "      <td>1.700319</td>\n",
       "      <td>1.375071</td>\n",
       "    </tr>\n",
       "    <tr>\n",
       "      <th>Anna's Decorations, Ltd</th>\n",
       "      <td>46</td>\n",
       "      <td>153996.13</td>\n",
       "      <td>3347.741957</td>\n",
       "      <td>1.629472</td>\n",
       "      <td>1.534953</td>\n",
       "    </tr>\n",
       "    <tr>\n",
       "      <th>Souveniers And Things Co.</th>\n",
       "      <td>46</td>\n",
       "      <td>151570.98</td>\n",
       "      <td>3295.021304</td>\n",
       "      <td>1.629472</td>\n",
       "      <td>1.510780</td>\n",
       "    </tr>\n",
       "  </tbody>\n",
       "</table>\n",
       "</div>"
      ],
      "text/plain": [
       "                              Total_orders  Total_sales  Avg_order_value  \\\n",
       "CUSTOMERNAME                                                               \n",
       "Euro Shopping Channel                  259    912294.11      3522.371081   \n",
       "Mini Gifts Distributors Ltd.           180    654858.06      3638.100333   \n",
       "Australian Collectors, Co.              55    200995.41      3654.462000   \n",
       "La Rochelle Gifts                       53    180124.90      3398.583019   \n",
       "AV Stores, Co.                          51    157807.81      3094.270784   \n",
       "Land of Toys Inc.                       49    164069.44      3348.355918   \n",
       "Muscle Machine Inc                      48    197736.94      4119.519583   \n",
       "Rovelli Gifts                           48    137955.72      2874.077500   \n",
       "Anna's Decorations, Ltd                 46    153996.13      3347.741957   \n",
       "Souveniers And Things Co.               46    151570.98      3295.021304   \n",
       "\n",
       "                              % global_orders  % global_sales  \n",
       "CUSTOMERNAME                                                   \n",
       "Euro Shopping Channel                9.174637        9.093271  \n",
       "Mini Gifts Distributors Ltd.         6.376196        6.527283  \n",
       "Australian Collectors, Co.           1.948282        2.003417  \n",
       "La Rochelle Gifts                    1.877435        1.795391  \n",
       "AV Stores, Co.                       1.806589        1.572946  \n",
       "Land of Toys Inc.                    1.735742        1.635358  \n",
       "Muscle Machine Inc                   1.700319        1.970938  \n",
       "Rovelli Gifts                        1.700319        1.375071  \n",
       "Anna's Decorations, Ltd              1.629472        1.534953  \n",
       "Souveniers And Things Co.            1.629472        1.510780  "
      ]
     },
     "execution_count": 20,
     "metadata": {},
     "output_type": "execute_result"
    }
   ],
   "source": [
    "combo.sort_values(by=['% global_orders'],ascending=False).head(10)"
   ]
  },
  {
   "cell_type": "markdown",
   "metadata": {},
   "source": [
    "### Remove outliers"
   ]
  },
  {
   "cell_type": "code",
   "execution_count": 21,
   "metadata": {},
   "outputs": [],
   "source": [
    "combo = combo.drop(['Euro Shopping Channel','Mini Gifts Distributors Ltd.'])"
   ]
  },
  {
   "cell_type": "markdown",
   "metadata": {},
   "source": [
    "### Plot "
   ]
  },
  {
   "cell_type": "code",
   "execution_count": 22,
   "metadata": {},
   "outputs": [
    {
     "name": "stderr",
     "output_type": "stream",
     "text": [
      "No handles with labels found to put in legend.\n"
     ]
    },
    {
     "data": {
      "text/plain": [
       "<matplotlib.legend.Legend at 0x208439cf668>"
      ]
     },
     "execution_count": 22,
     "metadata": {},
     "output_type": "execute_result"
    },
    {
     "data": {
      "image/png": "[encoded data removed]",
      "text/plain": [
       "<Figure size 720x504 with 2 Axes>"
      ]
     },
     "metadata": {
      "needs_background": "light"
     },
     "output_type": "display_data"
    }
   ],
   "source": [
    "combo.plot(kind=\"scatter\", x=\"Total_orders\", y=\"Total_sales\", alpha=0.7,\n",
    "     figsize=(10,7),\n",
    "    c=\"Avg_order_value\", cmap=plt.get_cmap(\"jet\"), colorbar=True,\n",
    "    sharex=False)\n",
    "plt.legend()"
   ]
  },
  {
   "cell_type": "code",
   "execution_count": 23,
   "metadata": {},
   "outputs": [
    {
     "data": {
      "text/plain": [
       "<matplotlib.axes._subplots.AxesSubplot at 0x20843991710>"
      ]
     },
     "execution_count": 23,
     "metadata": {},
     "output_type": "execute_result"
    },
    {
     "data": {
      "image/png": "[encoded data removed]",
      "text/plain": [
       "<Figure size 432x288 with 1 Axes>"
      ]
     },
     "metadata": {
      "needs_background": "light"
     },
     "output_type": "display_data"
    }
   ],
   "source": [
    "sns.regplot(combo['Total_orders'], combo['Total_sales'])"
   ]
  },
  {
   "cell_type": "markdown",
   "metadata": {},
   "source": [
    "#### Let's test the hypothesis: the more orders a customer makes, the more sales they make"
   ]
  },
  {
   "cell_type": "code",
   "execution_count": 24,
   "metadata": {},
   "outputs": [
    {
     "name": "stdout",
     "output_type": "stream",
     "text": [
      "                 Total_orders  Total_sales  Avg_order_value  % global_orders  \\\n",
      "Total_orders         1.000000     0.967797         0.001363         1.000000   \n",
      "Total_sales          0.967797     1.000000         0.231272         0.967797   \n",
      "Avg_order_value      0.001363     0.231272         1.000000         0.001363   \n",
      "% global_orders      1.000000     0.967797         0.001363         1.000000   \n",
      "% global_sales       0.967797     1.000000         0.231272         0.967797   \n",
      "\n",
      "                 % global_sales  \n",
      "Total_orders           0.967797  \n",
      "Total_sales            1.000000  \n",
      "Avg_order_value        0.231272  \n",
      "% global_orders        0.967797  \n",
      "% global_sales         1.000000  \n"
     ]
    }
   ],
   "source": [
    "#correlation:\n",
    "print(combo.corr())"
   ]
  },
  {
   "cell_type": "code",
   "execution_count": 25,
   "metadata": {},
   "outputs": [
    {
     "name": "stdout",
     "output_type": "stream",
     "text": [
      "[[1.24432459e+02 5.73944869e+00]\n",
      " [5.73944869e+00 1.42525316e+05]]\n"
     ]
    }
   ],
   "source": [
    "#covariance:\n",
    "print(np.cov(combo['Total_orders'], combo['Avg_order_value']))"
   ]
  },
  {
   "cell_type": "markdown",
   "metadata": {},
   "source": [
    "## Building a regression model"
   ]
  },
  {
   "cell_type": "markdown",
   "metadata": {},
   "source": [
    "Is total orders or total sales a better"
   ]
  },
  {
   "cell_type": "code",
   "execution_count": 26,
   "metadata": {},
   "outputs": [],
   "source": [
    "slope, intercept, r_value, _, std_err = stats.linregress(combo['Total_orders'], combo['Avg_order_value'])"
   ]
  },
  {
   "cell_type": "code",
   "execution_count": 27,
   "metadata": {},
   "outputs": [
    {
     "data": {
      "text/plain": [
       "[<matplotlib.lines.Line2D at 0x20844b5a940>]"
      ]
     },
     "execution_count": 27,
     "metadata": {},
     "output_type": "execute_result"
    },
    {
     "data": {
      "image/png": "[encoded data removed]",
      "text/plain": [
       "<Figure size 432x288 with 1 Axes>"
      ]
     },
     "metadata": {
      "needs_background": "light"
     },
     "output_type": "display_data"
    }
   ],
   "source": [
    "Y_pred = intercept + slope * combo['Total_orders']\n",
    "res = combo['Avg_order_value'] - Y_pred\n",
    "plt.plot(res)"
   ]
  },
  {
   "cell_type": "code",
   "execution_count": 28,
   "metadata": {},
   "outputs": [
    {
     "data": {
      "text/plain": [
       "375.42168222081114"
      ]
     },
     "execution_count": 28,
     "metadata": {},
     "output_type": "execute_result"
    }
   ],
   "source": [
    "RMSE = (sum(res **2)/len(combo['Total_orders'])) ** .5\n",
    "RMSE"
   ]
  },
  {
   "cell_type": "code",
   "execution_count": 29,
   "metadata": {},
   "outputs": [],
   "source": [
    "slope, intercept, r_value, _, std_err = stats.linregress(combo['Total_sales'], combo['Avg_order_value'])"
   ]
  },
  {
   "cell_type": "code",
   "execution_count": 30,
   "metadata": {},
   "outputs": [
    {
     "data": {
      "text/plain": [
       "[<matplotlib.lines.Line2D at 0x20845077710>]"
      ]
     },
     "execution_count": 30,
     "metadata": {},
     "output_type": "execute_result"
    },
    {
     "data": {
      "image/png": "[encoded data removed]",
      "text/plain": [
       "<Figure size 432x288 with 1 Axes>"
      ]
     },
     "metadata": {
      "needs_background": "light"
     },
     "output_type": "display_data"
    }
   ],
   "source": [
    "Y_pred = intercept + slope * combo['Total_sales']\n",
    "res = combo['Avg_order_value'] - Y_pred\n",
    "plt.plot(res)"
   ]
  },
  {
   "cell_type": "code",
   "execution_count": 31,
   "metadata": {},
   "outputs": [
    {
     "data": {
      "text/plain": [
       "365.24405356979173"
      ]
     },
     "execution_count": 31,
     "metadata": {},
     "output_type": "execute_result"
    }
   ],
   "source": [
    "RMSE = (sum(res **2)/len(combo['Total_sales'])) ** .5\n",
    "RMSE"
   ]
  },
  {
   "cell_type": "markdown",
   "metadata": {},
   "source": [
    "## Customer sales over time"
   ]
  },
  {
   "cell_type": "code",
   "execution_count": 32,
   "metadata": {},
   "outputs": [
    {
     "data": {
      "text/plain": [
       "2004    1345\n",
       "2003    1000\n",
       "2005     478\n",
       "Name: YEAR_ID, dtype: int64"
      ]
     },
     "execution_count": 32,
     "metadata": {},
     "output_type": "execute_result"
    }
   ],
   "source": [
    "data['YEAR_ID'].value_counts()"
   ]
  },
  {
   "cell_type": "code",
   "execution_count": 38,
   "metadata": {},
   "outputs": [],
   "source": [
    "time_data = data"
   ]
  },
  {
   "cell_type": "code",
   "execution_count": 39,
   "metadata": {},
   "outputs": [],
   "source": [
    "time_data['TIMESTAMP']= pd.to_datetime(time_data['YEAR_ID'].map(str) +\"-\"+time_data['MONTH_ID'].map(str)+\"-01 00:00:00\")"
   ]
  },
  {
   "cell_type": "code",
   "execution_count": 40,
   "metadata": {},
   "outputs": [],
   "source": [
    "time_data = time_data.drop(['ORDERLINENUMBER', 'STATUS','QTR_ID','MONTH_ID',\n",
    "           'ADDRESSLINE1','ADDRESSLINE2','CITY','STATE','POSTALCODE',\n",
    "           'TERRITORY','PRICEEACH','ORDERNUMBER','QUANTITYORDERED',\n",
    "           'PRODUCTLINE','MSRP','PRODUCTCODE','CONTACTLASTNAME',\n",
    "           'CONTACTFIRSTNAME','PHONE','ORDERDATE','COUNTRY','YEAR_ID','DEALSIZE'],axis=1)"
   ]
  },
  {
   "cell_type": "code",
   "execution_count": 42,
   "metadata": {},
   "outputs": [
    {
     "data": {
      "text/plain": [
       "DatetimeIndex(['2003-02-01', '2003-05-01', '2003-07-01', '2003-08-01',\n",
       "               '2003-10-01', '2003-10-01', '2003-11-01', '2003-11-01',\n",
       "               '2003-12-01', '2004-01-01',\n",
       "               ...\n",
       "               '2004-09-01', '2004-10-01', '2004-10-01', '2004-11-01',\n",
       "               '2004-11-01', '2004-12-01', '2005-01-01', '2005-03-01',\n",
       "               '2005-03-01', '2005-05-01'],\n",
       "              dtype='datetime64[ns]', name='TIMESTAMP', length=2823, freq=None)"
      ]
     },
     "execution_count": 42,
     "metadata": {},
     "output_type": "execute_result"
    }
   ],
   "source": [
    "time_data = time_data.set_index('TIMESTAMP')\n",
    "time_data.index"
   ]
  },
  {
   "cell_type": "code",
   "execution_count": 53,
   "metadata": {},
   "outputs": [],
   "source": [
    "time_data = time_data.sort_values(by=['TIMESTAMP'], ascending=True)"
   ]
  },
  {
   "cell_type": "code",
   "execution_count": 54,
   "metadata": {},
   "outputs": [],
   "source": [
    "grouped_sales = time_data.groupby(['TIMESTAMP']).sum()"
   ]
  },
  {
   "cell_type": "code",
   "execution_count": 66,
   "metadata": {},
   "outputs": [
    {
     "data": {
      "image/png": "[encoded data removed]",
      "text/plain": [
       "<Figure size 1080x432 with 1 Axes>"
      ]
     },
     "metadata": {},
     "output_type": "display_data"
    }
   ],
   "source": [
    "grouped_sales.plot(figsize=(15, 6))\n",
    "plt.show()"
   ]
  },
  {
   "cell_type": "markdown",
   "metadata": {},
   "source": [
    "#### Plotting trend, seasonality and noise"
   ]
  },
  {
   "cell_type": "code",
   "execution_count": 73,
   "metadata": {},
   "outputs": [
    {
     "data": {
      "image/png": "[encoded data removed]",
      "text/plain": [
       "<Figure size 1296x576 with 4 Axes>"
      ]
     },
     "metadata": {},
     "output_type": "display_data"
    }
   ],
   "source": [
    "rcParams['figure.figsize'] = 18, 8\n",
    "decomposition = sm.tsa.seasonal_decompose(grouped_sales, model='additive')\n",
    "fig = decomposition.plot()\n",
    "plt.show()"
   ]
  },
  {
   "cell_type": "markdown",
   "metadata": {},
   "source": [
    "## Time series forecasting"
   ]
  },
  {
   "cell_type": "markdown",
   "metadata": {},
   "source": [
    "ARIMA models are denoted with the notation ARIMA(p, d, q). These three parameters account for seasonality, trend, and noise in data:"
   ]
  },
  {
   "cell_type": "code",
   "execution_count": 76,
   "metadata": {},
   "outputs": [
    {
     "name": "stdout",
     "output_type": "stream",
     "text": [
      "Examples of parameter combinations for Seasonal ARIMA...\n",
      "SARIMAX: (0, 0, 1) x (0, 0, 1, 12)\n",
      "SARIMAX: (0, 0, 1) x (0, 1, 0, 12)\n",
      "SARIMAX: (0, 1, 0) x (0, 1, 1, 12)\n",
      "SARIMAX: (0, 1, 0) x (1, 0, 0, 12)\n"
     ]
    }
   ],
   "source": [
    "p = d = q = range(0, 2)\n",
    "pdq = list(itertools.product(p, d, q))\n",
    "seasonal_pdq = [(x[0], x[1], x[2], 12) for x in list(itertools.product(p, d, q))]\n",
    "print('Examples of parameter combinations for Seasonal ARIMA...')\n",
    "print('SARIMAX: {} x {}'.format(pdq[1], seasonal_pdq[1]))\n",
    "print('SARIMAX: {} x {}'.format(pdq[1], seasonal_pdq[2]))\n",
    "print('SARIMAX: {} x {}'.format(pdq[2], seasonal_pdq[3]))\n",
    "print('SARIMAX: {} x {}'.format(pdq[2], seasonal_pdq[4]))"
   ]
  },
  {
   "cell_type": "code",
   "execution_count": 89,
   "metadata": {},
   "outputs": [
    {
     "name": "stdout",
     "output_type": "stream",
     "text": [
      "ARIMA(0, 0, 0)x(0, 0, 0, 12)12 - AIC:806.3790688267711\n",
      "ARIMA(0, 0, 0)x(0, 1, 0, 12)12 - AIC:423.3340994220888\n",
      "ARIMA(0, 0, 0)x(1, 0, 0, 12)12 - AIC:445.8402128694801\n",
      "ARIMA(0, 0, 0)x(1, 1, 0, 12)12 - AIC:133.63598269298905\n",
      "ARIMA(0, 0, 1)x(0, 0, 0, 12)12 - AIC:768.1180155564614\n",
      "ARIMA(0, 0, 1)x(0, 1, 0, 12)12 - AIC:391.70685165969076\n",
      "ARIMA(0, 0, 1)x(1, 0, 0, 12)12 - AIC:478.2164161809429\n",
      "ARIMA(0, 0, 1)x(1, 1, 0, 12)12 - AIC:135.58157704633155\n",
      "ARIMA(0, 1, 0)x(0, 0, 0, 12)12 - AIC:752.6211170933615\n",
      "ARIMA(0, 1, 0)x(0, 1, 0, 12)12 - AIC:394.24567121716154\n",
      "ARIMA(0, 1, 0)x(1, 0, 0, 12)12 - AIC:416.6738721421284\n",
      "ARIMA(0, 1, 0)x(1, 1, 0, 12)12 - AIC:107.83801828409577\n",
      "ARIMA(0, 1, 1)x(0, 0, 0, 12)12 - AIC:722.057978008672\n",
      "ARIMA(0, 1, 1)x(0, 1, 0, 12)12 - AIC:363.1806659754223\n",
      "ARIMA(0, 1, 1)x(1, 0, 0, 12)12 - AIC:436.28721737032254\n",
      "ARIMA(0, 1, 1)x(1, 1, 0, 12)12 - AIC:106.98983420206416\n",
      "ARIMA(1, 0, 0)x(0, 0, 0, 12)12 - AIC:779.0067353399872\n",
      "ARIMA(1, 0, 0)x(0, 1, 0, 12)12 - AIC:414.06995799147694\n",
      "ARIMA(1, 0, 0)x(1, 0, 0, 12)12 - AIC:434.9186820443079\n",
      "ARIMA(1, 0, 0)x(1, 1, 0, 12)12 - AIC:109.89816482432877\n",
      "ARIMA(1, 0, 1)x(0, 0, 0, 12)12 - AIC:750.0648013734641\n",
      "ARIMA(1, 0, 1)x(0, 1, 0, 12)12 - AIC:390.8426730208197\n",
      "ARIMA(1, 0, 1)x(1, 0, 0, 12)12 - AIC:437.12086423360466\n",
      "ARIMA(1, 0, 1)x(1, 1, 0, 12)12 - AIC:108.40464256825503\n",
      "ARIMA(1, 1, 0)x(0, 0, 0, 12)12 - AIC:752.1567144017602\n",
      "ARIMA(1, 1, 0)x(0, 1, 0, 12)12 - AIC:391.2836010067109\n",
      "ARIMA(1, 1, 0)x(1, 0, 0, 12)12 - AIC:408.8173023456288\n",
      "ARIMA(1, 1, 0)x(1, 1, 0, 12)12 - AIC:81.33758764476285\n",
      "ARIMA(1, 1, 1)x(0, 0, 0, 12)12 - AIC:722.2272367791202\n",
      "ARIMA(1, 1, 1)x(0, 1, 0, 12)12 - AIC:360.92126212010083\n",
      "ARIMA(1, 1, 1)x(1, 0, 0, 12)12 - AIC:410.4107938683315\n",
      "ARIMA(1, 1, 1)x(1, 1, 0, 12)12 - AIC:82.20812600841278\n"
     ]
    }
   ],
   "source": [
    "for param in pdq:\n",
    "    for param_seasonal in seasonal_pdq:\n",
    "        try:\n",
    "            mod = sm.tsa.statespace.SARIMAX(grouped_sales,\n",
    "                                            order=param,\n",
    "                                            seasonal_order=param_seasonal,\n",
    "                                            enforce_stationarity=False,\n",
    "                                            enforce_invertibility=False)\n",
    "            results = mod.fit()\n",
    "            print('ARIMA{}x{}12 - AIC:{}'.format(param, param_seasonal, results.aic))\n",
    "        except:\n",
    "            continue"
   ]
  },
  {
   "cell_type": "markdown",
   "metadata": {},
   "source": [
    "The above output suggests that SARIMAX(1, 1, 1)x(1, 1, 0, 12)12 yields the lowest AIC value of 297.78. Therefore we should consider this to be optimal option."
   ]
  },
  {
   "cell_type": "markdown",
   "metadata": {},
   "source": [
    "#### Fitting ARIMA model"
   ]
  },
  {
   "cell_type": "code",
   "execution_count": 90,
   "metadata": {},
   "outputs": [
    {
     "name": "stdout",
     "output_type": "stream",
     "text": [
      "==============================================================================\n",
      "                 coef    std err          z      P>|z|      [0.025      0.975]\n",
      "------------------------------------------------------------------------------\n",
      "ar.L1         -1.1867   3951.651     -0.000      1.000   -7746.279    7743.906\n",
      "ma.L1         -0.9836     91.105     -0.011      0.991    -179.547     177.579\n",
      "ar.S.L12      -0.1589    946.138     -0.000      1.000   -1854.556    1854.238\n",
      "sigma2      8.758e+09      0.002   5.39e+12      0.000    8.76e+09    8.76e+09\n",
      "==============================================================================\n"
     ]
    }
   ],
   "source": [
    "mod = sm.tsa.statespace.SARIMAX(grouped_sales,\n",
    "                                order=(1, 1, 1),\n",
    "                                seasonal_order=(1, 1, 0, 12),\n",
    "                                enforce_stationarity=False,\n",
    "                                enforce_invertibility=False)\n",
    "results = mod.fit()\n",
    "print(results.summary().tables[1])"
   ]
  },
  {
   "cell_type": "code",
   "execution_count": 96,
   "metadata": {},
   "outputs": [
    {
     "data": {
      "image/png": "[encoded data removed]",
      "text/plain": [
       "<Figure size 1008x504 with 1 Axes>"
      ]
     },
     "metadata": {},
     "output_type": "display_data"
    }
   ],
   "source": [
    "pred = results.get_prediction(start=pd.to_datetime('2004-01-01'), dynamic=False)\n",
    "pred_ci = pred.conf_int()\n",
    "ax = grouped_sales['2003':].plot(label='observed')\n",
    "pred.predicted_mean.plot(ax=ax, label='One-step ahead Forecast', alpha=.7, figsize=(14, 7))\n",
    "ax.fill_between(pred_ci.index,\n",
    "                pred_ci.iloc[:, 0],\n",
    "                pred_ci.iloc[:, 1], color='k', alpha=.2)\n",
    "ax.set_xlabel('Date')\n",
    "ax.set_ylabel('Sales')\n",
    "plt.legend()\n",
    "plt.show()"
   ]
  },
  {
   "cell_type": "code",
   "execution_count": 101,
   "metadata": {},
   "outputs": [
    {
     "name": "stdout",
     "output_type": "stream",
     "text": [
      "The Mean Squared Error of our forecasts is 2004-01-01 00:00:00   NaN\n",
      "2004-02-01 00:00:00   NaN\n",
      "2004-03-01 00:00:00   NaN\n",
      "2004-04-01 00:00:00   NaN\n",
      "2004-05-01 00:00:00   NaN\n",
      "2004-06-01 00:00:00   NaN\n",
      "2004-07-01 00:00:00   NaN\n",
      "2004-08-01 00:00:00   NaN\n",
      "2004-09-01 00:00:00   NaN\n",
      "2004-10-01 00:00:00   NaN\n",
      "2004-11-01 00:00:00   NaN\n",
      "2004-12-01 00:00:00   NaN\n",
      "2005-01-01 00:00:00   NaN\n",
      "2005-02-01 00:00:00   NaN\n",
      "2005-03-01 00:00:00   NaN\n",
      "2005-04-01 00:00:00   NaN\n",
      "2005-05-01 00:00:00   NaN\n",
      "SALES                 NaN\n",
      "dtype: float64\n"
     ]
    }
   ],
   "source": [
    "y_forecasted = pred.predicted_mean\n",
    "y_truth = grouped_sales['2002-01-01':]\n",
    "mse = ((y_forecasted - y_truth) ** 2).mean()\n",
    "print('The Mean Squared Error of our forecasts is {}'.format(round(mse, 2)))"
   ]
  },
  {
   "cell_type": "code",
   "execution_count": 120,
   "metadata": {},
   "outputs": [
    {
     "data": {
      "image/png": "[encoded data removed]",
      "text/plain": [
       "<Figure size 1008x504 with 1 Axes>"
      ]
     },
     "metadata": {},
     "output_type": "display_data"
    }
   ],
   "source": [
    "pred_uc = results.get_forecast(steps=12)\n",
    "pred_ci = pred_uc.conf_int()\n",
    "ax = grouped_sales.plot(label='observed', figsize=(14, 7))\n",
    "pred_uc.predicted_mean.plot(ax=ax, label='Forecast')\n",
    "ax.fill_between(pred_ci.index,\n",
    "                pred_ci.iloc[:, 0],\n",
    "                pred_ci.iloc[:, 1], color='k', alpha=.25)\n",
    "ax.set_xlabel('Date')\n",
    "ax.set_ylabel('Sales')\n",
    "plt.legend()\n",
    "plt.show()"
   ]
  },
  {
   "cell_type": "markdown",
   "metadata": {},
   "source": [
    "## Comparing products"
   ]
  },
  {
   "cell_type": "code",
   "execution_count": 119,
   "metadata": {},
   "outputs": [
    {
     "data": {
      "text/plain": [
       "Index(['ORDERNUMBER', 'QUANTITYORDERED', 'PRICEEACH', 'ORDERLINENUMBER',\n",
       "       'SALES', 'ORDERDATE', 'STATUS', 'QTR_ID', 'MONTH_ID', 'YEAR_ID',\n",
       "       'PRODUCTLINE', 'MSRP', 'PRODUCTCODE', 'CUSTOMERNAME', 'PHONE',\n",
       "       'ADDRESSLINE1', 'ADDRESSLINE2', 'CITY', 'STATE', 'POSTALCODE',\n",
       "       'COUNTRY', 'TERRITORY', 'CONTACTLASTNAME', 'CONTACTFIRSTNAME',\n",
       "       'DEALSIZE'],\n",
       "      dtype='object')"
      ]
     },
     "execution_count": 119,
     "metadata": {},
     "output_type": "execute_result"
    }
   ],
   "source": [
    "data.columns"
   ]
  },
  {
   "cell_type": "code",
   "execution_count": 111,
   "metadata": {},
   "outputs": [
    {
     "data": {
      "text/plain": [
       "Classic Cars        967\n",
       "Vintage Cars        607\n",
       "Motorcycles         331\n",
       "Planes              306\n",
       "Trucks and Buses    301\n",
       "Ships               234\n",
       "Trains               77\n",
       "Name: PRODUCTLINE, dtype: int64"
      ]
     },
     "execution_count": 111,
     "metadata": {},
     "output_type": "execute_result"
    }
   ],
   "source": [
    "data['PRODUCTLINE'].value_counts()"
   ]
  },
  {
   "cell_type": "code",
   "execution_count": 118,
   "metadata": {},
   "outputs": [
    {
     "data": {
      "text/html": [
       "<div>\n",
       "<style scoped>\n",
       "    .dataframe tbody tr th:only-of-type {\n",
       "        vertical-align: middle;\n",
       "    }\n",
       "\n",
       "    .dataframe tbody tr th {\n",
       "        vertical-align: top;\n",
       "    }\n",
       "\n",
       "    .dataframe thead th {\n",
       "        text-align: right;\n",
       "    }\n",
       "</style>\n",
       "<table border=\"1\" class=\"dataframe\">\n",
       "  <thead>\n",
       "    <tr style=\"text-align: right;\">\n",
       "      <th></th>\n",
       "      <th>MSRP</th>\n",
       "    </tr>\n",
       "    <tr>\n",
       "      <th>PRODUCTLINE</th>\n",
       "      <th></th>\n",
       "    </tr>\n",
       "  </thead>\n",
       "  <tbody>\n",
       "    <tr>\n",
       "      <th>Classic Cars</th>\n",
       "      <td>119.89</td>\n",
       "    </tr>\n",
       "    <tr>\n",
       "      <th>Motorcycles</th>\n",
       "      <td>97.07</td>\n",
       "    </tr>\n",
       "    <tr>\n",
       "      <th>Planes</th>\n",
       "      <td>88.77</td>\n",
       "    </tr>\n",
       "    <tr>\n",
       "      <th>Ships</th>\n",
       "      <td>86.13</td>\n",
       "    </tr>\n",
       "    <tr>\n",
       "      <th>Trains</th>\n",
       "      <td>72.99</td>\n",
       "    </tr>\n",
       "    <tr>\n",
       "      <th>Trucks and Buses</th>\n",
       "      <td>102.47</td>\n",
       "    </tr>\n",
       "    <tr>\n",
       "      <th>Vintage Cars</th>\n",
       "      <td>86.46</td>\n",
       "    </tr>\n",
       "  </tbody>\n",
       "</table>\n",
       "</div>"
      ],
      "text/plain": [
       "                    MSRP\n",
       "PRODUCTLINE             \n",
       "Classic Cars      119.89\n",
       "Motorcycles        97.07\n",
       "Planes             88.77\n",
       "Ships              86.13\n",
       "Trains             72.99\n",
       "Trucks and Buses  102.47\n",
       "Vintage Cars       86.46"
      ]
     },
     "execution_count": 118,
     "metadata": {},
     "output_type": "execute_result"
    }
   ],
   "source": [
    "data[['PRODUCTLINE','MSRP']].groupby(by='PRODUCTLINE').mean().round(2)"
   ]
  },
  {
   "cell_type": "markdown",
   "metadata": {},
   "source": [
    "We can see that classic cars have the highest retail value, and vintage cars the lowest. They also happen to be the two most popular products that were bought. "
   ]
  },
  {
   "cell_type": "code",
   "execution_count": 121,
   "metadata": {},
   "outputs": [
    {
     "data": {
      "text/html": [
       "<div>\n",
       "<style scoped>\n",
       "    .dataframe tbody tr th:only-of-type {\n",
       "        vertical-align: middle;\n",
       "    }\n",
       "\n",
       "    .dataframe tbody tr th {\n",
       "        vertical-align: top;\n",
       "    }\n",
       "\n",
       "    .dataframe thead th {\n",
       "        text-align: right;\n",
       "    }\n",
       "</style>\n",
       "<table border=\"1\" class=\"dataframe\">\n",
       "  <thead>\n",
       "    <tr style=\"text-align: right;\">\n",
       "      <th></th>\n",
       "      <th>ORDERNUMBER</th>\n",
       "      <th>QUANTITYORDERED</th>\n",
       "      <th>PRICEEACH</th>\n",
       "      <th>ORDERLINENUMBER</th>\n",
       "      <th>SALES</th>\n",
       "      <th>ORDERDATE</th>\n",
       "      <th>STATUS</th>\n",
       "      <th>QTR_ID</th>\n",
       "      <th>MONTH_ID</th>\n",
       "      <th>YEAR_ID</th>\n",
       "      <th>...</th>\n",
       "      <th>ADDRESSLINE1</th>\n",
       "      <th>ADDRESSLINE2</th>\n",
       "      <th>CITY</th>\n",
       "      <th>STATE</th>\n",
       "      <th>POSTALCODE</th>\n",
       "      <th>COUNTRY</th>\n",
       "      <th>TERRITORY</th>\n",
       "      <th>CONTACTLASTNAME</th>\n",
       "      <th>CONTACTFIRSTNAME</th>\n",
       "      <th>DEALSIZE</th>\n",
       "    </tr>\n",
       "  </thead>\n",
       "  <tbody>\n",
       "    <tr>\n",
       "      <th>0</th>\n",
       "      <td>10107</td>\n",
       "      <td>30</td>\n",
       "      <td>95.70</td>\n",
       "      <td>2</td>\n",
       "      <td>2871.00</td>\n",
       "      <td>2/24/2003 0:00</td>\n",
       "      <td>Shipped</td>\n",
       "      <td>1</td>\n",
       "      <td>2</td>\n",
       "      <td>2003</td>\n",
       "      <td>...</td>\n",
       "      <td>897 Long Airport Avenue</td>\n",
       "      <td>NaN</td>\n",
       "      <td>NYC</td>\n",
       "      <td>NY</td>\n",
       "      <td>10022</td>\n",
       "      <td>USA</td>\n",
       "      <td>NaN</td>\n",
       "      <td>Yu</td>\n",
       "      <td>Kwai</td>\n",
       "      <td>Small</td>\n",
       "    </tr>\n",
       "    <tr>\n",
       "      <th>1</th>\n",
       "      <td>10121</td>\n",
       "      <td>34</td>\n",
       "      <td>81.35</td>\n",
       "      <td>5</td>\n",
       "      <td>2765.90</td>\n",
       "      <td>5/7/2003 0:00</td>\n",
       "      <td>Shipped</td>\n",
       "      <td>2</td>\n",
       "      <td>5</td>\n",
       "      <td>2003</td>\n",
       "      <td>...</td>\n",
       "      <td>59 rue de l'Abbaye</td>\n",
       "      <td>NaN</td>\n",
       "      <td>Reims</td>\n",
       "      <td>NaN</td>\n",
       "      <td>51100</td>\n",
       "      <td>France</td>\n",
       "      <td>EMEA</td>\n",
       "      <td>Henriot</td>\n",
       "      <td>Paul</td>\n",
       "      <td>Small</td>\n",
       "    </tr>\n",
       "    <tr>\n",
       "      <th>2</th>\n",
       "      <td>10134</td>\n",
       "      <td>41</td>\n",
       "      <td>94.74</td>\n",
       "      <td>2</td>\n",
       "      <td>3884.34</td>\n",
       "      <td>7/1/2003 0:00</td>\n",
       "      <td>Shipped</td>\n",
       "      <td>3</td>\n",
       "      <td>7</td>\n",
       "      <td>2003</td>\n",
       "      <td>...</td>\n",
       "      <td>27 rue du Colonel Pierre Avia</td>\n",
       "      <td>NaN</td>\n",
       "      <td>Paris</td>\n",
       "      <td>NaN</td>\n",
       "      <td>75508</td>\n",
       "      <td>France</td>\n",
       "      <td>EMEA</td>\n",
       "      <td>Da Cunha</td>\n",
       "      <td>Daniel</td>\n",
       "      <td>Medium</td>\n",
       "    </tr>\n",
       "    <tr>\n",
       "      <th>3</th>\n",
       "      <td>10145</td>\n",
       "      <td>45</td>\n",
       "      <td>83.26</td>\n",
       "      <td>6</td>\n",
       "      <td>3746.70</td>\n",
       "      <td>8/25/2003 0:00</td>\n",
       "      <td>Shipped</td>\n",
       "      <td>3</td>\n",
       "      <td>8</td>\n",
       "      <td>2003</td>\n",
       "      <td>...</td>\n",
       "      <td>78934 Hillside Dr.</td>\n",
       "      <td>NaN</td>\n",
       "      <td>Pasadena</td>\n",
       "      <td>CA</td>\n",
       "      <td>90003</td>\n",
       "      <td>USA</td>\n",
       "      <td>NaN</td>\n",
       "      <td>Young</td>\n",
       "      <td>Julie</td>\n",
       "      <td>Medium</td>\n",
       "    </tr>\n",
       "    <tr>\n",
       "      <th>4</th>\n",
       "      <td>10159</td>\n",
       "      <td>49</td>\n",
       "      <td>100.00</td>\n",
       "      <td>14</td>\n",
       "      <td>5205.27</td>\n",
       "      <td>10/10/2003 0:00</td>\n",
       "      <td>Shipped</td>\n",
       "      <td>4</td>\n",
       "      <td>10</td>\n",
       "      <td>2003</td>\n",
       "      <td>...</td>\n",
       "      <td>7734 Strong St.</td>\n",
       "      <td>NaN</td>\n",
       "      <td>San Francisco</td>\n",
       "      <td>CA</td>\n",
       "      <td>NaN</td>\n",
       "      <td>USA</td>\n",
       "      <td>NaN</td>\n",
       "      <td>Brown</td>\n",
       "      <td>Julie</td>\n",
       "      <td>Medium</td>\n",
       "    </tr>\n",
       "  </tbody>\n",
       "</table>\n",
       "<p>5 rows × 25 columns</p>\n",
       "</div>"
      ],
      "text/plain": [
       "   ORDERNUMBER  QUANTITYORDERED  PRICEEACH  ORDERLINENUMBER    SALES  \\\n",
       "0        10107               30      95.70                2  2871.00   \n",
       "1        10121               34      81.35                5  2765.90   \n",
       "2        10134               41      94.74                2  3884.34   \n",
       "3        10145               45      83.26                6  3746.70   \n",
       "4        10159               49     100.00               14  5205.27   \n",
       "\n",
       "         ORDERDATE   STATUS  QTR_ID  MONTH_ID  YEAR_ID  ...  \\\n",
       "0   2/24/2003 0:00  Shipped       1         2     2003  ...   \n",
       "1    5/7/2003 0:00  Shipped       2         5     2003  ...   \n",
       "2    7/1/2003 0:00  Shipped       3         7     2003  ...   \n",
       "3   8/25/2003 0:00  Shipped       3         8     2003  ...   \n",
       "4  10/10/2003 0:00  Shipped       4        10     2003  ...   \n",
       "\n",
       "                    ADDRESSLINE1  ADDRESSLINE2           CITY STATE  \\\n",
       "0        897 Long Airport Avenue           NaN            NYC    NY   \n",
       "1             59 rue de l'Abbaye           NaN          Reims   NaN   \n",
       "2  27 rue du Colonel Pierre Avia           NaN          Paris   NaN   \n",
       "3             78934 Hillside Dr.           NaN       Pasadena    CA   \n",
       "4                7734 Strong St.           NaN  San Francisco    CA   \n",
       "\n",
       "  POSTALCODE COUNTRY TERRITORY CONTACTLASTNAME CONTACTFIRSTNAME DEALSIZE  \n",
       "0      10022     USA       NaN              Yu             Kwai    Small  \n",
       "1      51100  France      EMEA         Henriot             Paul    Small  \n",
       "2      75508  France      EMEA        Da Cunha           Daniel   Medium  \n",
       "3      90003     USA       NaN           Young            Julie   Medium  \n",
       "4        NaN     USA       NaN           Brown            Julie   Medium  \n",
       "\n",
       "[5 rows x 25 columns]"
      ]
     },
     "execution_count": 121,
     "metadata": {},
     "output_type": "execute_result"
    }
   ],
   "source": [
    "data.head()"
   ]
  },
  {
   "cell_type": "code",
   "execution_count": 128,
   "metadata": {},
   "outputs": [],
   "source": [
    "classic_cars = data[data['PRODUCTLINE']==\"Classic Cars\"]\n",
    "vintage_cars = data[data['PRODUCTLINE']==\"Vintage Cars\"]"
   ]
  },
  {
   "cell_type": "code",
   "execution_count": 129,
   "metadata": {},
   "outputs": [],
   "source": [
    "classic_cars['TIMESTAMP']= pd.to_datetime(classic_cars['YEAR_ID'].map(str) +\"-\"\n",
    "                                          +classic_cars['MONTH_ID'].map(str)+\"-01 00:00:00\")"
   ]
  },
  {
   "cell_type": "code",
   "execution_count": 130,
   "metadata": {},
   "outputs": [],
   "source": [
    "vintage_cars['TIMESTAMP']= pd.to_datetime(vintage_cars['YEAR_ID'].map(str) +\"-\"\n",
    "                                          +vintage_cars['MONTH_ID'].map(str)+\"-01 00:00:00\")"
   ]
  },
  {
   "cell_type": "code",
   "execution_count": 131,
   "metadata": {},
   "outputs": [],
   "source": [
    "classic_cars = classic_cars.drop(['ORDERLINENUMBER', 'STATUS','QTR_ID','MONTH_ID',\n",
    "           'ADDRESSLINE1','ADDRESSLINE2','CITY','STATE','POSTALCODE',\n",
    "           'TERRITORY','PRICEEACH','ORDERNUMBER','QUANTITYORDERED',\n",
    "           'PRODUCTLINE','MSRP','PRODUCTCODE','CONTACTLASTNAME',\n",
    "           'CONTACTFIRSTNAME','PHONE','ORDERDATE','COUNTRY','YEAR_ID','DEALSIZE'],axis=1)\n",
    "\n",
    "vintage_cars = vintage_cars.drop(['ORDERLINENUMBER', 'STATUS','QTR_ID','MONTH_ID',\n",
    "           'ADDRESSLINE1','ADDRESSLINE2','CITY','STATE','POSTALCODE',\n",
    "           'TERRITORY','PRICEEACH','ORDERNUMBER','QUANTITYORDERED',\n",
    "           'PRODUCTLINE','MSRP','PRODUCTCODE','CONTACTLASTNAME',\n",
    "           'CONTACTFIRSTNAME','PHONE','ORDERDATE','COUNTRY','YEAR_ID','DEALSIZE'],axis=1)"
   ]
  },
  {
   "cell_type": "code",
   "execution_count": 134,
   "metadata": {},
   "outputs": [
    {
     "data": {
      "text/html": [
       "<div>\n",
       "<style scoped>\n",
       "    .dataframe tbody tr th:only-of-type {\n",
       "        vertical-align: middle;\n",
       "    }\n",
       "\n",
       "    .dataframe tbody tr th {\n",
       "        vertical-align: top;\n",
       "    }\n",
       "\n",
       "    .dataframe thead th {\n",
       "        text-align: right;\n",
       "    }\n",
       "</style>\n",
       "<table border=\"1\" class=\"dataframe\">\n",
       "  <thead>\n",
       "    <tr style=\"text-align: right;\">\n",
       "      <th></th>\n",
       "      <th>SALES</th>\n",
       "      <th>CUSTOMERNAME</th>\n",
       "      <th>TIMESTAMP</th>\n",
       "    </tr>\n",
       "  </thead>\n",
       "  <tbody>\n",
       "    <tr>\n",
       "      <th>26</th>\n",
       "      <td>5404.62</td>\n",
       "      <td>Baane Mini Imports</td>\n",
       "      <td>2003-01-01</td>\n",
       "    </tr>\n",
       "    <tr>\n",
       "      <th>27</th>\n",
       "      <td>7209.11</td>\n",
       "      <td>Volvo Model Replicas, Co</td>\n",
       "      <td>2003-03-01</td>\n",
       "    </tr>\n",
       "    <tr>\n",
       "      <th>28</th>\n",
       "      <td>7329.06</td>\n",
       "      <td>Corrida Auto Replicas, Ltd</td>\n",
       "      <td>2003-05-01</td>\n",
       "    </tr>\n",
       "    <tr>\n",
       "      <th>29</th>\n",
       "      <td>7374.10</td>\n",
       "      <td>Technics Stores Inc.</td>\n",
       "      <td>2003-07-01</td>\n",
       "    </tr>\n",
       "    <tr>\n",
       "      <th>30</th>\n",
       "      <td>10993.50</td>\n",
       "      <td>Dragon Souveniers, Ltd.</td>\n",
       "      <td>2003-09-01</td>\n",
       "    </tr>\n",
       "  </tbody>\n",
       "</table>\n",
       "</div>"
      ],
      "text/plain": [
       "       SALES                CUSTOMERNAME  TIMESTAMP\n",
       "26   5404.62          Baane Mini Imports 2003-01-01\n",
       "27   7209.11    Volvo Model Replicas, Co 2003-03-01\n",
       "28   7329.06  Corrida Auto Replicas, Ltd 2003-05-01\n",
       "29   7374.10        Technics Stores Inc. 2003-07-01\n",
       "30  10993.50     Dragon Souveniers, Ltd. 2003-09-01"
      ]
     },
     "execution_count": 134,
     "metadata": {},
     "output_type": "execute_result"
    }
   ],
   "source": [
    "classic_cars.head()"
   ]
  },
  {
   "cell_type": "code",
   "execution_count": 133,
   "metadata": {},
   "outputs": [
    {
     "data": {
      "text/html": [
       "<div>\n",
       "<style scoped>\n",
       "    .dataframe tbody tr th:only-of-type {\n",
       "        vertical-align: middle;\n",
       "    }\n",
       "\n",
       "    .dataframe tbody tr th {\n",
       "        vertical-align: top;\n",
       "    }\n",
       "\n",
       "    .dataframe thead th {\n",
       "        text-align: right;\n",
       "    }\n",
       "</style>\n",
       "<table border=\"1\" class=\"dataframe\">\n",
       "  <thead>\n",
       "    <tr style=\"text-align: right;\">\n",
       "      <th></th>\n",
       "      <th>SALES</th>\n",
       "      <th>CUSTOMERNAME</th>\n",
       "      <th>TIMESTAMP</th>\n",
       "    </tr>\n",
       "  </thead>\n",
       "  <tbody>\n",
       "    <tr>\n",
       "      <th>475</th>\n",
       "      <td>4808.31</td>\n",
       "      <td>Vitachrome Inc.</td>\n",
       "      <td>2003-01-01</td>\n",
       "    </tr>\n",
       "    <tr>\n",
       "      <th>476</th>\n",
       "      <td>3288.78</td>\n",
       "      <td>Mini Wheels Co.</td>\n",
       "      <td>2003-03-01</td>\n",
       "    </tr>\n",
       "    <tr>\n",
       "      <th>477</th>\n",
       "      <td>3254.72</td>\n",
       "      <td>Australian Collectors, Co.</td>\n",
       "      <td>2003-05-01</td>\n",
       "    </tr>\n",
       "    <tr>\n",
       "      <th>478</th>\n",
       "      <td>3184.94</td>\n",
       "      <td>Souveniers And Things Co.</td>\n",
       "      <td>2003-07-01</td>\n",
       "    </tr>\n",
       "    <tr>\n",
       "      <th>479</th>\n",
       "      <td>5907.50</td>\n",
       "      <td>Signal Collectibles Ltd.</td>\n",
       "      <td>2003-09-01</td>\n",
       "    </tr>\n",
       "  </tbody>\n",
       "</table>\n",
       "</div>"
      ],
      "text/plain": [
       "       SALES                CUSTOMERNAME  TIMESTAMP\n",
       "475  4808.31             Vitachrome Inc. 2003-01-01\n",
       "476  3288.78             Mini Wheels Co. 2003-03-01\n",
       "477  3254.72  Australian Collectors, Co. 2003-05-01\n",
       "478  3184.94   Souveniers And Things Co. 2003-07-01\n",
       "479  5907.50    Signal Collectibles Ltd. 2003-09-01"
      ]
     },
     "execution_count": 133,
     "metadata": {},
     "output_type": "execute_result"
    }
   ],
   "source": [
    "classic_cars = classic_cars.sort_values('TIMESTAMP')\n",
    "vintage_cars = vintage_cars.sort_values('TIMESTAMP')\n",
    "classic_cars = classic_cars.groupby('TIMESTAMP')['Sales'].sum().reset_index()\n",
    "vintage_cars = vintage_cars.groupby('TIMESTAMP')['Sales'].sum().reset_index()\n",
    "classic_cars = classic_cars.set_index('TIMESTAMP')\n",
    "vintage_cars = vintage_cars.set_index('TIMESTAMP')\n",
    "y_classic_cars = classic_cars['Sales'].resample('MS').mean()\n",
    "y_vintage_cars = vintage_cars['Sales'].resample('MS').mean()\n",
    "classic_cars = pd.DataFrame({'TIMESTAMP':y_classic_cars.index, 'Sales':y_classic_cars.values})\n",
    "vintage_cars = pd.DataFrame({'TIMESTAMP': y_vintage_cars.index, 'Sales': y_vintage_cars.values})\n",
    "store = classic_cars.merge(vintage_cars, how='inner', on='TIMESTAMP')\n",
    "store.rename(columns={'Sales_x': 'classic_cars_sales', 'Sales_y': 'vintage_cars_sales'}, inplace=True)\n",
    "store.head()"
   ]
  }
 ],
 "metadata": {
  "kernelspec": {
   "display_name": "Python 3",
   "language": "python",
   "name": "python3"
  },
  "language_info": {
   "codemirror_mode": {
    "name": "ipython",
    "version": 3
   },
   "file_extension": ".py",
   "mimetype": "text/x-python",
   "name": "python",
   "nbconvert_exporter": "python",
   "pygments_lexer": "ipython3",
   "version": "3.7.3"
  }
 },
 "nbformat": 4,
 "nbformat_minor": 2
}
